{
 "cells": [
  {
   "cell_type": "code",
   "execution_count": 1,
   "metadata": {},
   "outputs": [
    {
     "data": {
      "text/html": [
       "\n",
       "    <div class=\"bk-root\">\n",
       "        <a href=\"https://bokeh.pydata.org\" target=\"_blank\" class=\"bk-logo bk-logo-small bk-logo-notebook\"></a>\n",
       "        <span id=\"70f569ef-6457-4429-bfdc-6fe41262d028\">Loading BokehJS ...</span>\n",
       "    </div>"
      ]
     },
     "metadata": {},
     "output_type": "display_data"
    },
    {
     "data": {
      "application/javascript": [
       "\n",
       "(function(root) {\n",
       "  function now() {\n",
       "    return new Date();\n",
       "  }\n",
       "\n",
       "  var force = true;\n",
       "\n",
       "  if (typeof (root._bokeh_onload_callbacks) === \"undefined\" || force === true) {\n",
       "    root._bokeh_onload_callbacks = [];\n",
       "    root._bokeh_is_loading = undefined;\n",
       "  }\n",
       "\n",
       "\n",
       "  \n",
       "  if (typeof (root._bokeh_timeout) === \"undefined\" || force === true) {\n",
       "    root._bokeh_timeout = Date.now() + 5000;\n",
       "    root._bokeh_failed_load = false;\n",
       "  }\n",
       "\n",
       "  var NB_LOAD_WARNING = {'data': {'text/html':\n",
       "     \"<div style='background-color: #fdd'>\\n\"+\n",
       "     \"<p>\\n\"+\n",
       "     \"BokehJS does not appear to have successfully loaded. If loading BokehJS from CDN, this \\n\"+\n",
       "     \"may be due to a slow or bad network connection. Possible fixes:\\n\"+\n",
       "     \"</p>\\n\"+\n",
       "     \"<ul>\\n\"+\n",
       "     \"<li>re-rerun `output_notebook()` to attempt to load from CDN again, or</li>\\n\"+\n",
       "     \"<li>use INLINE resources instead, as so:</li>\\n\"+\n",
       "     \"</ul>\\n\"+\n",
       "     \"<code>\\n\"+\n",
       "     \"from bokeh.resources import INLINE\\n\"+\n",
       "     \"output_notebook(resources=INLINE)\\n\"+\n",
       "     \"</code>\\n\"+\n",
       "     \"</div>\"}};\n",
       "\n",
       "  function display_loaded() {\n",
       "    if (root.Bokeh !== undefined) {\n",
       "      var el = document.getElementById(\"70f569ef-6457-4429-bfdc-6fe41262d028\");\n",
       "      if (el != null) {\n",
       "        el.textContent = \"BokehJS \" + Bokeh.version + \" successfully loaded.\";\n",
       "      }\n",
       "    } else if (Date.now() < root._bokeh_timeout) {\n",
       "      setTimeout(display_loaded, 100)\n",
       "    }\n",
       "  }\n",
       "\n",
       "\n",
       "  function run_callbacks() {\n",
       "    try {\n",
       "      root._bokeh_onload_callbacks.forEach(function(callback) { callback() });\n",
       "    }\n",
       "    finally {\n",
       "      delete root._bokeh_onload_callbacks\n",
       "    }\n",
       "    console.info(\"Bokeh: all callbacks have finished\");\n",
       "  }\n",
       "\n",
       "  function load_libs(js_urls, callback) {\n",
       "    root._bokeh_onload_callbacks.push(callback);\n",
       "    if (root._bokeh_is_loading > 0) {\n",
       "      console.log(\"Bokeh: BokehJS is being loaded, scheduling callback at\", now());\n",
       "      return null;\n",
       "    }\n",
       "    if (js_urls == null || js_urls.length === 0) {\n",
       "      run_callbacks();\n",
       "      return null;\n",
       "    }\n",
       "    console.log(\"Bokeh: BokehJS not loaded, scheduling load and callback at\", now());\n",
       "    root._bokeh_is_loading = js_urls.length;\n",
       "    for (var i = 0; i < js_urls.length; i++) {\n",
       "      var url = js_urls[i];\n",
       "      var s = document.createElement('script');\n",
       "      s.src = url;\n",
       "      s.async = false;\n",
       "      s.onreadystatechange = s.onload = function() {\n",
       "        root._bokeh_is_loading--;\n",
       "        if (root._bokeh_is_loading === 0) {\n",
       "          console.log(\"Bokeh: all BokehJS libraries loaded\");\n",
       "          run_callbacks()\n",
       "        }\n",
       "      };\n",
       "      s.onerror = function() {\n",
       "        console.warn(\"failed to load library \" + url);\n",
       "      };\n",
       "      console.log(\"Bokeh: injecting script tag for BokehJS library: \", url);\n",
       "      document.getElementsByTagName(\"head\")[0].appendChild(s);\n",
       "    }\n",
       "  };var element = document.getElementById(\"70f569ef-6457-4429-bfdc-6fe41262d028\");\n",
       "  if (element == null) {\n",
       "    console.log(\"Bokeh: ERROR: autoload.js configured with elementid '70f569ef-6457-4429-bfdc-6fe41262d028' but no matching script tag was found. \")\n",
       "    return false;\n",
       "  }\n",
       "\n",
       "  var js_urls = [\"https://cdn.pydata.org/bokeh/release/bokeh-0.12.7.min.js\", \"https://cdn.pydata.org/bokeh/release/bokeh-widgets-0.12.7.min.js\", \"https://cdn.pydata.org/bokeh/release/bokeh-tables-0.12.7.min.js\", \"https://cdn.pydata.org/bokeh/release/bokeh-gl-0.12.7.min.js\"];\n",
       "\n",
       "  var inline_js = [\n",
       "    function(Bokeh) {\n",
       "      Bokeh.set_log_level(\"info\");\n",
       "    },\n",
       "    \n",
       "    function(Bokeh) {\n",
       "      \n",
       "    },\n",
       "    \n",
       "    function(Bokeh) {\n",
       "      \n",
       "      document.getElementById(\"70f569ef-6457-4429-bfdc-6fe41262d028\").textContent = \"BokehJS is loading...\";\n",
       "    },\n",
       "    function(Bokeh) {\n",
       "      console.log(\"Bokeh: injecting CSS: https://cdn.pydata.org/bokeh/release/bokeh-0.12.7.min.css\");\n",
       "      Bokeh.embed.inject_css(\"https://cdn.pydata.org/bokeh/release/bokeh-0.12.7.min.css\");\n",
       "      console.log(\"Bokeh: injecting CSS: https://cdn.pydata.org/bokeh/release/bokeh-widgets-0.12.7.min.css\");\n",
       "      Bokeh.embed.inject_css(\"https://cdn.pydata.org/bokeh/release/bokeh-widgets-0.12.7.min.css\");\n",
       "      console.log(\"Bokeh: injecting CSS: https://cdn.pydata.org/bokeh/release/bokeh-tables-0.12.7.min.css\");\n",
       "      Bokeh.embed.inject_css(\"https://cdn.pydata.org/bokeh/release/bokeh-tables-0.12.7.min.css\");\n",
       "    }\n",
       "  ];\n",
       "\n",
       "  function run_inline_js() {\n",
       "    \n",
       "    if ((root.Bokeh !== undefined) || (force === true)) {\n",
       "      for (var i = 0; i < inline_js.length; i++) {\n",
       "        inline_js[i].call(root, root.Bokeh);\n",
       "      }if (force === true) {\n",
       "        display_loaded();\n",
       "      }} else if (Date.now() < root._bokeh_timeout) {\n",
       "      setTimeout(run_inline_js, 100);\n",
       "    } else if (!root._bokeh_failed_load) {\n",
       "      console.log(\"Bokeh: BokehJS failed to load within specified timeout.\");\n",
       "      root._bokeh_failed_load = true;\n",
       "    } else if (force !== true) {\n",
       "      var cell = $(document.getElementById(\"70f569ef-6457-4429-bfdc-6fe41262d028\")).parents('.cell').data().cell;\n",
       "      cell.output_area.append_execute_result(NB_LOAD_WARNING)\n",
       "    }\n",
       "\n",
       "  }\n",
       "\n",
       "  if (root._bokeh_is_loading === 0) {\n",
       "    console.log(\"Bokeh: BokehJS loaded, going straight to plotting\");\n",
       "    run_inline_js();\n",
       "  } else {\n",
       "    load_libs(js_urls, function() {\n",
       "      console.log(\"Bokeh: BokehJS plotting callback run at\", now());\n",
       "      run_inline_js();\n",
       "    });\n",
       "  }\n",
       "}(window));"
      ]
     },
     "metadata": {},
     "output_type": "display_data"
    },
    {
     "name": "stdout",
     "output_type": "stream",
     "text": [
      "C:\\Users\\vujanicr\\PycharmProjects\\smpspy_base\n"
     ]
    }
   ],
   "source": [
    "import numpy as np\n",
    "\n",
    "from bokeh.plotting import figure, output_file, show\n",
    "from bokeh.io import output_notebook\n",
    "\n",
    "from nsopy import SGMDoubleSimpleAveraging as DSA\n",
    "from nsopy.loggers import EnhancedDualMethodLogger\n",
    "\n",
    "output_notebook()\n",
    "%cd ..\n",
    "\n",
    "from smpspy.oracles import TwoStage_SMPS_InnerProblem"
   ]
  },
  {
   "cell_type": "markdown",
   "metadata": {},
   "source": [
    "# Solving dual model using DSA with Entropy Prox Term\n",
    "\n",
    "Instantiating inner problem"
   ]
  },
  {
   "cell_type": "markdown",
   "metadata": {},
   "source": [
    "### Solve battery of problems"
   ]
  },
  {
   "cell_type": "code",
   "execution_count": 2,
   "metadata": {
    "collapsed": true
   },
   "outputs": [],
   "source": [
    "# Setup\n",
    "BENCHMARKS_PATH = './smpspy/benchmark_problems/2_caroe_schultz/'\n",
    "\n",
    "n_S_exp = [10, 50, 100, 500]\n",
    "N_STEPS = 200\n",
    "GAMMA = 1.0"
   ]
  },
  {
   "cell_type": "code",
   "execution_count": 3,
   "metadata": {},
   "outputs": [
    {
     "name": "stdout",
     "output_type": "stream",
     "text": [
      "Parsing nominal model information from ./smpspy/benchmark_problems/2_caroe_schultz/caroe_schultz_10.cor and .tim ...\n",
      "Parsing stochastic information from ./smpspy/benchmark_problems/2_caroe_schultz/caroe_schultz_10.sto ...\n",
      "Stochastic model is of type SCENARIOS DISCRETE\n",
      "Parsing nominal model information from ./smpspy/benchmark_problems/2_caroe_schultz/caroe_schultz_50.cor and .tim ...\n",
      "Parsing stochastic information from ./smpspy/benchmark_problems/2_caroe_schultz/caroe_schultz_50.sto ...\n",
      "Stochastic model is of type SCENARIOS DISCRETE\n",
      "Parsing nominal model information from ./smpspy/benchmark_problems/2_caroe_schultz/caroe_schultz_100.cor and .tim ...\n",
      "Parsing stochastic information from ./smpspy/benchmark_problems/2_caroe_schultz/caroe_schultz_100.sto ...\n",
      "Stochastic model is of type SCENARIOS DISCRETE\n",
      "Parsing nominal model information from ./smpspy/benchmark_problems/2_caroe_schultz/caroe_schultz_500.cor and .tim ...\n",
      "Parsing stochastic information from ./smpspy/benchmark_problems/2_caroe_schultz/caroe_schultz_500.sto ...\n",
      "Stochastic model is of type SCENARIOS DISCRETE\n"
     ]
    }
   ],
   "source": [
    "# First generate traditional DSA\n",
    "\n",
    "inner_problems = {}\n",
    "methods = {}\n",
    "method_loggers = {}\n",
    "\n",
    "for n_S in n_S_exp:\n",
    "    ip = TwoStage_SMPS_InnerProblem(BENCHMARKS_PATH+'caroe_schultz_{}'.format(n_S))\n",
    "    dsa = DSA(ip.oracle, ip.projection_function, dimension=ip.dimension, gamma=GAMMA)\n",
    "    logger_dsa = EnhancedDualMethodLogger(dsa)\n",
    "    \n",
    "    inner_problems[n_S] = ip\n",
    "    methods[n_S] = dsa\n",
    "    method_loggers[n_S] = logger_dsa"
   ]
  },
  {
   "cell_type": "code",
   "execution_count": 4,
   "metadata": {},
   "outputs": [
    {
     "name": "stdout",
     "output_type": "stream",
     "text": [
      "[n_S=500] step: 0 of method DSA, $\\gamma = 1.0$\n",
      "[n_S=500] step: 100 of method DSA, $\\gamma = 1.0$\n",
      "[n_S=10] step: 0 of method DSA, $\\gamma = 1.0$\n",
      "[n_S=10] step: 100 of method DSA, $\\gamma = 1.0$\n",
      "[n_S=100] step: 0 of method DSA, $\\gamma = 1.0$\n",
      "[n_S=100] step: 100 of method DSA, $\\gamma = 1.0$\n",
      "[n_S=50] step: 0 of method DSA, $\\gamma = 1.0$\n",
      "[n_S=50] step: 100 of method DSA, $\\gamma = 1.0$\n"
     ]
    }
   ],
   "source": [
    "for n_S, method in methods.items():\n",
    "    for step in range(N_STEPS):\n",
    "        if not step % 100:\n",
    "            print('[n_S={}] step: {} of method {}'.format(n_S, str(step), str(method.desc)))\n",
    "        method.dual_step()"
   ]
  },
  {
   "cell_type": "code",
   "execution_count": 5,
   "metadata": {},
   "outputs": [
    {
     "name": "stdout",
     "output_type": "stream",
     "text": [
      "Parsing nominal model information from ./smpspy/benchmark_problems/2_caroe_schultz/caroe_schultz_10.cor and .tim ...\n",
      "Parsing stochastic information from ./smpspy/benchmark_problems/2_caroe_schultz/caroe_schultz_10.sto ...\n",
      "Stochastic model is of type SCENARIOS DISCRETE\n",
      "Parsing nominal model information from ./smpspy/benchmark_problems/2_caroe_schultz/caroe_schultz_50.cor and .tim ...\n",
      "Parsing stochastic information from ./smpspy/benchmark_problems/2_caroe_schultz/caroe_schultz_50.sto ...\n",
      "Stochastic model is of type SCENARIOS DISCRETE\n",
      "Parsing nominal model information from ./smpspy/benchmark_problems/2_caroe_schultz/caroe_schultz_100.cor and .tim ...\n",
      "Parsing stochastic information from ./smpspy/benchmark_problems/2_caroe_schultz/caroe_schultz_100.sto ...\n",
      "Stochastic model is of type SCENARIOS DISCRETE\n",
      "Parsing nominal model information from ./smpspy/benchmark_problems/2_caroe_schultz/caroe_schultz_500.cor and .tim ...\n",
      "Parsing stochastic information from ./smpspy/benchmark_problems/2_caroe_schultz/caroe_schultz_500.sto ...\n",
      "Stochastic model is of type SCENARIOS DISCRETE\n"
     ]
    }
   ],
   "source": [
    "inner_problems_entropy = {}\n",
    "methods_entropy = {}\n",
    "method_loggers_entropy = {}\n",
    "\n",
    "for n_S in n_S_exp:\n",
    "    R_a_posteriori = np.linalg.norm(methods[n_S].lambda_k, ord=np.inf)\n",
    "    R_safe = R_a_posteriori*1.1\n",
    "    \n",
    "    ip = TwoStage_SMPS_InnerProblem(BENCHMARKS_PATH+'caroe_schultz_{}'.format(n_S), R=R_safe)\n",
    "    dsa_entropy = DSA(ip.oracle, ip.softmax_projection, dimension=ip.dimension, gamma=GAMMA)\n",
    "    logger_dsa_entropy = EnhancedDualMethodLogger(dsa_entropy)\n",
    "    \n",
    "    inner_problems_entropy[n_S] = ip\n",
    "    methods_entropy[n_S] = dsa_entropy\n",
    "    method_loggers_entropy[n_S] = logger_dsa_entropy"
   ]
  },
  {
   "cell_type": "code",
   "execution_count": 6,
   "metadata": {},
   "outputs": [
    {
     "name": "stdout",
     "output_type": "stream",
     "text": [
      "[n_S=500] step: 0 of method DSA, $\\gamma = 1.0$\n",
      "[n_S=500] step: 100 of method DSA, $\\gamma = 1.0$\n",
      "[n_S=10] step: 0 of method DSA, $\\gamma = 1.0$\n",
      "[n_S=10] step: 100 of method DSA, $\\gamma = 1.0$\n",
      "[n_S=100] step: 0 of method DSA, $\\gamma = 1.0$\n",
      "[n_S=100] step: 100 of method DSA, $\\gamma = 1.0$\n",
      "[n_S=50] step: 0 of method DSA, $\\gamma = 1.0$\n",
      "[n_S=50] step: 100 of method DSA, $\\gamma = 1.0$\n"
     ]
    }
   ],
   "source": [
    "for n_S, method in methods_entropy.items():\n",
    "    for step in range(N_STEPS):\n",
    "        if not step % 100:\n",
    "            print('[n_S={}] step: {} of method {}'.format(n_S, str(step), str(method.desc)))\n",
    "        method.dual_step()"
   ]
  },
  {
   "cell_type": "code",
   "execution_count": 7,
   "metadata": {},
   "outputs": [],
   "source": [
    "# find \"d*\"\n",
    "d_stars = {}\n",
    "EPS = 0.01\n",
    "\n",
    "for n_S in n_S_exp:\n",
    "    d_star_dsa = max(method_loggers[n_S].d_k_iterates)\n",
    "    d_star_dsa_entropy = max(method_loggers_entropy[n_S].d_k_iterates)\n",
    "    d_stars[n_S] = max(d_star_dsa, d_star_dsa_entropy) + EPS"
   ]
  },
  {
   "cell_type": "code",
   "execution_count": 8,
   "metadata": {
    "collapsed": true
   },
   "outputs": [],
   "source": [
    "p = figure(title=\"comparison\", x_axis_label='iteration', y_axis_label='d* - d_k', y_axis_type='log', toolbar_location='above')\n",
    "\n",
    "plot_colors = {\n",
    "    10: 'blue',\n",
    "    50: 'green',\n",
    "    100: 'red',\n",
    "    500: 'orange',\n",
    "    1000: 'purple',\n",
    "}"
   ]
  },
  {
   "cell_type": "code",
   "execution_count": 9,
   "metadata": {},
   "outputs": [],
   "source": [
    "for n_S in n_S_exp:\n",
    "    logger = method_loggers[n_S]\n",
    "    p.line(range(len(logger.d_k_iterates)), d_stars[n_S] - np.array(logger.d_k_iterates), legend=\"DSA, n_scen={}, gamma={}\".format(n_S, GAMMA, inner_problems[n_S].R), \n",
    "           color=plot_colors[n_S], line_dash='dashed')\n",
    "    \n",
    "for n_S in n_S_exp:\n",
    "    logger = method_loggers_entropy[n_S]\n",
    "    p.line(range(len(logger.d_k_iterates)), d_stars[n_S] - np.array(logger.d_k_iterates), legend=\"DSA Entropy, n_scen={}, gamma={}, R={}\".format(n_S, GAMMA, inner_problems_entropy[n_S].R), \n",
    "           color=plot_colors[n_S])"
   ]
  },
  {
   "cell_type": "code",
   "execution_count": 10,
   "metadata": {},
   "outputs": [
    {
     "data": {
      "text/html": [
       "\n",
       "\n",
       "    <div class=\"bk-root\">\n",
       "        <div class=\"bk-plotdiv\" id=\"551608ef-b739-4073-87fe-f8b103621a41\"></div>\n",
       "    </div>\n",
       "<script type=\"text/javascript\">\n",
       "  \n",
       "  (function(root) {\n",
       "    function now() {\n",
       "      return new Date();\n",
       "    }\n",
       "  \n",
       "    var force = false;\n",
       "  \n",
       "    if (typeof (root._bokeh_onload_callbacks) === \"undefined\" || force === true) {\n",
       "      root._bokeh_onload_callbacks = [];\n",
       "      root._bokeh_is_loading = undefined;\n",
       "    }\n",
       "  \n",
       "  \n",
       "    \n",
       "    if (typeof (root._bokeh_timeout) === \"undefined\" || force === true) {\n",
       "      root._bokeh_timeout = Date.now() + 0;\n",
       "      root._bokeh_failed_load = false;\n",
       "    }\n",
       "  \n",
       "    var NB_LOAD_WARNING = {'data': {'text/html':\n",
       "       \"<div style='background-color: #fdd'>\\n\"+\n",
       "       \"<p>\\n\"+\n",
       "       \"BokehJS does not appear to have successfully loaded. If loading BokehJS from CDN, this \\n\"+\n",
       "       \"may be due to a slow or bad network connection. Possible fixes:\\n\"+\n",
       "       \"</p>\\n\"+\n",
       "       \"<ul>\\n\"+\n",
       "       \"<li>re-rerun `output_notebook()` to attempt to load from CDN again, or</li>\\n\"+\n",
       "       \"<li>use INLINE resources instead, as so:</li>\\n\"+\n",
       "       \"</ul>\\n\"+\n",
       "       \"<code>\\n\"+\n",
       "       \"from bokeh.resources import INLINE\\n\"+\n",
       "       \"output_notebook(resources=INLINE)\\n\"+\n",
       "       \"</code>\\n\"+\n",
       "       \"</div>\"}};\n",
       "  \n",
       "    function display_loaded() {\n",
       "      if (root.Bokeh !== undefined) {\n",
       "        var el = document.getElementById(\"551608ef-b739-4073-87fe-f8b103621a41\");\n",
       "        if (el != null) {\n",
       "          el.textContent = \"BokehJS \" + Bokeh.version + \" successfully loaded.\";\n",
       "        }\n",
       "      } else if (Date.now() < root._bokeh_timeout) {\n",
       "        setTimeout(display_loaded, 100)\n",
       "      }\n",
       "    }\n",
       "  \n",
       "  \n",
       "    function run_callbacks() {\n",
       "      try {\n",
       "        root._bokeh_onload_callbacks.forEach(function(callback) { callback() });\n",
       "      }\n",
       "      finally {\n",
       "        delete root._bokeh_onload_callbacks\n",
       "      }\n",
       "      console.info(\"Bokeh: all callbacks have finished\");\n",
       "    }\n",
       "  \n",
       "    function load_libs(js_urls, callback) {\n",
       "      root._bokeh_onload_callbacks.push(callback);\n",
       "      if (root._bokeh_is_loading > 0) {\n",
       "        console.log(\"Bokeh: BokehJS is being loaded, scheduling callback at\", now());\n",
       "        return null;\n",
       "      }\n",
       "      if (js_urls == null || js_urls.length === 0) {\n",
       "        run_callbacks();\n",
       "        return null;\n",
       "      }\n",
       "      console.log(\"Bokeh: BokehJS not loaded, scheduling load and callback at\", now());\n",
       "      root._bokeh_is_loading = js_urls.length;\n",
       "      for (var i = 0; i < js_urls.length; i++) {\n",
       "        var url = js_urls[i];\n",
       "        var s = document.createElement('script');\n",
       "        s.src = url;\n",
       "        s.async = false;\n",
       "        s.onreadystatechange = s.onload = function() {\n",
       "          root._bokeh_is_loading--;\n",
       "          if (root._bokeh_is_loading === 0) {\n",
       "            console.log(\"Bokeh: all BokehJS libraries loaded\");\n",
       "            run_callbacks()\n",
       "          }\n",
       "        };\n",
       "        s.onerror = function() {\n",
       "          console.warn(\"failed to load library \" + url);\n",
       "        };\n",
       "        console.log(\"Bokeh: injecting script tag for BokehJS library: \", url);\n",
       "        document.getElementsByTagName(\"head\")[0].appendChild(s);\n",
       "      }\n",
       "    };var element = document.getElementById(\"551608ef-b739-4073-87fe-f8b103621a41\");\n",
       "    if (element == null) {\n",
       "      console.log(\"Bokeh: ERROR: autoload.js configured with elementid '551608ef-b739-4073-87fe-f8b103621a41' but no matching script tag was found. \")\n",
       "      return false;\n",
       "    }\n",
       "  \n",
       "    var js_urls = [];\n",
       "  \n",
       "    var inline_js = [\n",
       "      function(Bokeh) {\n",
       "        (function() {\n",
       "          var fn = function() {\n",
       "            var docs_json = {\"4f063354-22a3-4135-8761-3533960b76c2\":{\"roots\":{\"references\":[{\"attributes\":{\"label\":{\"value\":\"DSA Entropy, n_scen=500, gamma=1.0, R=0.0440445348217\"},\"renderers\":[{\"id\":\"dbea3710-129f-4328-be3a-95d75f67e87b\",\"type\":\"GlyphRenderer\"}]},\"id\":\"b8f9bf1d-fdfa-4508-8834-e6e5a82b2a17\",\"type\":\"LegendItem\"},{\"attributes\":{\"callback\":null,\"column_names\":[\"x\",\"y\"],\"data\":{\"x\":[0,1,2,3,4,5,6,7,8,9,10,11,12,13,14,15,16,17,18,19,20,21,22,23,24,25,26,27,28,29,30,31,32,33,34,35,36,37,38,39,40,41,42,43,44,45,46,47,48,49,50,51,52,53,54,55,56,57,58,59,60,61,62,63,64,65,66,67,68,69,70,71,72,73,74,75,76,77,78,79,80,81,82,83,84,85,86,87,88,89,90,91,92,93,94,95,96,97,98,99,100,101,102,103,104,105,106,107,108,109,110,111,112,113,114,115,116,117,118,119,120,121,122,123,124,125,126,127,128,129,130,131,132,133,134,135,136,137,138,139,140,141,142,143,144,145,146,147,148,149,150,151,152,153,154,155,156,157,158,159,160,161,162,163,164,165,166,167,168,169,170,171,172,173,174,175,176,177,178,179,180,181,182,183,184,185,186,187,188,189,190,191,192,193,194,195,196,197,198,199],\"y\":{\"__ndarray__\":\"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\",\"dtype\":\"float64\",\"shape\":[200]}}},\"id\":\"cc7c27d4-2c7b-4f8b-90b1-c9d5f1ad6ad9\",\"type\":\"ColumnDataSource\"},{\"attributes\":{\"data_source\":{\"id\":\"7bbc0155-396e-4e80-8287-5f5f36ae1b1d\",\"type\":\"ColumnDataSource\"},\"glyph\":{\"id\":\"c9ca7f87-732e-434e-848f-641debb41eaf\",\"type\":\"Line\"},\"hover_glyph\":null,\"muted_glyph\":null,\"nonselection_glyph\":{\"id\":\"f18bd517-3f54-4d35-b760-0c2cecec9e2c\",\"type\":\"Line\"},\"selection_glyph\":null,\"view\":{\"id\":\"940ce158-d209-40de-9b89-4b14a6219e7d\",\"type\":\"CDSView\"}},\"id\":\"b4bd63da-42e1-4efe-a516-8bfb0923c460\",\"type\":\"GlyphRenderer\"},{\"attributes\":{\"data_source\":{\"id\":\"6d0db3ee-36a4-40c7-a34b-9589069bf600\",\"type\":\"ColumnDataSource\"},\"glyph\":{\"id\":\"028fbf7c-5689-4e9b-a52c-73c7472bb846\",\"type\":\"Line\"},\"hover_glyph\":null,\"muted_glyph\":null,\"nonselection_glyph\":{\"id\":\"d0d573eb-ec0f-45f8-9e70-049f67bf1461\",\"type\":\"Line\"},\"selection_glyph\":null,\"view\":{\"id\":\"de74580e-d6e3-4f4c-94ef-c8153f8dc2cb\",\"type\":\"CDSView\"}},\"id\":\"f5039c76-0f91-4385-8c32-cac78f8b0db0\",\"type\":\"GlyphRenderer\"},{\"attributes\":{\"callback\":null,\"column_names\":[\"x\",\"y\"],\"data\":{\"x\":[0,1,2,3,4,5,6,7,8,9,10,11,12,13,14,15,16,17,18,19,20,21,22,23,24,25,26,27,28,29,30,31,32,33,34,35,36,37,38,39,40,41,42,43,44,45,46,47,48,49,50,51,52,53,54,55,56,57,58,59,60,61,62,63,64,65,66,67,68,69,70,71,72,73,74,75,76,77,78,79,80,81,82,83,84,85,86,87,88,89,90,91,92,93,94,95,96,97,98,99,100,101,102,103,104,105,106,107,108,109,110,111,112,113,114,115,116,117,118,119,120,121,122,123,124,125,126,127,128,129,130,131,132,133,134,135,136,137,138,139,140,141,142,143,144,145,146,147,148,149,150,151,152,153,154,155,156,157,158,159,160,161,162,163,164,165,166,167,168,169,170,171,172,173,174,175,176,177,178,179,180,181,182,183,184,185,186,187,188,189,190,191,192,193,194,195,196,197,198,199],\"y\":{\"__ndarray__\":\"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\",\"dtype\":\"float64\",\"shape\":[200]}}},\"id\":\"6d0db3ee-36a4-40c7-a34b-9589069bf600\",\"type\":\"ColumnDataSource\"},{\"attributes\":{\"plot\":{\"id\":\"0485b50a-c4c8-4f68-95a0-c00e91999579\",\"subtype\":\"Figure\",\"type\":\"Plot\"},\"ticker\":{\"id\":\"4da6c430-72d7-44d6-bf53-4f701fbe2e07\",\"type\":\"BasicTicker\"}},\"id\":\"83d48a23-3578-4d5d-a273-b352e057cd54\",\"type\":\"Grid\"},{\"attributes\":{\"label\":{\"value\":\"DSA Entropy, n_scen=10, gamma=1.0, R=1.11059996731\"},\"renderers\":[{\"id\":\"f5039c76-0f91-4385-8c32-cac78f8b0db0\",\"type\":\"GlyphRenderer\"}]},\"id\":\"00195876-4f23-4898-bb29-9d7046ffea28\",\"type\":\"LegendItem\"},{\"attributes\":{\"label\":{\"value\":\"DSA Entropy, n_scen=50, gamma=1.0, R=0.22011367541\"},\"renderers\":[{\"id\":\"01fe8d39-1f8b-42da-91d3-e6c7d0ba1df9\",\"type\":\"GlyphRenderer\"}]},\"id\":\"77a18024-0970-4ed8-886f-3752e7af815f\",\"type\":\"LegendItem\"},{\"attributes\":{\"line_color\":{\"value\":\"green\"},\"line_dash\":[6],\"x\":{\"field\":\"x\"},\"y\":{\"field\":\"y\"}},\"id\":\"6de8684c-59f3-4d72-98c8-44e729213045\",\"type\":\"Line\"},{\"attributes\":{\"num_minor_ticks\":10},\"id\":\"be02399f-f7e2-4145-8f23-1bc81ec42517\",\"type\":\"LogTicker\"},{\"attributes\":{\"line_alpha\":{\"value\":0.1},\"line_color\":{\"value\":\"#1f77b4\"},\"x\":{\"field\":\"x\"},\"y\":{\"field\":\"y\"}},\"id\":\"d0d573eb-ec0f-45f8-9e70-049f67bf1461\",\"type\":\"Line\"},{\"attributes\":{\"line_alpha\":{\"value\":0.1},\"line_color\":{\"value\":\"#1f77b4\"},\"line_dash\":[6],\"x\":{\"field\":\"x\"},\"y\":{\"field\":\"y\"}},\"id\":\"adf82877-0edf-4cbe-baa0-3f1d3c5e2523\",\"type\":\"Line\"},{\"attributes\":{},\"id\":\"d7fb32d6-73c6-4a08-a537-56df7f1eb455\",\"type\":\"HelpTool\"},{\"attributes\":{\"line_color\":{\"value\":\"blue\"},\"line_dash\":[6],\"x\":{\"field\":\"x\"},\"y\":{\"field\":\"y\"}},\"id\":\"9e0d3d58-0b41-4c3a-9d8d-418c466f4e4a\",\"type\":\"Line\"},{\"attributes\":{\"data_source\":{\"id\":\"60821d31-8d03-436d-9536-d388878337f9\",\"type\":\"ColumnDataSource\"},\"glyph\":{\"id\":\"62bc9a51-eae3-4a87-acc3-8f02ce745a49\",\"type\":\"Line\"},\"hover_glyph\":null,\"muted_glyph\":null,\"nonselection_glyph\":{\"id\":\"2cd9b432-f9e1-4435-9c55-2720ea89de10\",\"type\":\"Line\"},\"selection_glyph\":null,\"view\":{\"id\":\"8b6bcd22-3d2b-4ac7-aa47-16247b3473dd\",\"type\":\"CDSView\"}},\"id\":\"dbea3710-129f-4328-be3a-95d75f67e87b\",\"type\":\"GlyphRenderer\"},{\"attributes\":{\"background_fill_alpha\":{\"value\":0.5},\"items\":[{\"id\":\"77491312-625a-4be4-9e01-027d1dc9bc6e\",\"type\":\"LegendItem\"},{\"id\":\"9ba4eb5b-b65b-4d0d-838a-fb4043431edf\",\"type\":\"LegendItem\"},{\"id\":\"10664734-81a9-4c57-8889-640de75acb26\",\"type\":\"LegendItem\"},{\"id\":\"ae593467-757d-433b-88c8-2ffa05f86901\",\"type\":\"LegendItem\"},{\"id\":\"00195876-4f23-4898-bb29-9d7046ffea28\",\"type\":\"LegendItem\"},{\"id\":\"77a18024-0970-4ed8-886f-3752e7af815f\",\"type\":\"LegendItem\"},{\"id\":\"098bab29-f669-4286-bf3f-1087ca0dbc3d\",\"type\":\"LegendItem\"},{\"id\":\"b8f9bf1d-fdfa-4508-8834-e6e5a82b2a17\",\"type\":\"LegendItem\"}],\"plot\":{\"id\":\"0485b50a-c4c8-4f68-95a0-c00e91999579\",\"subtype\":\"Figure\",\"type\":\"Plot\"}},\"id\":\"4898661a-eaa1-4bdc-967d-25ae66cee299\",\"type\":\"Legend\"},{\"attributes\":{\"ticker\":null},\"id\":\"1128ccc9-b0fb-462e-94b5-8d5c0a7c635d\",\"type\":\"LogTickFormatter\"},{\"attributes\":{\"source\":{\"id\":\"efef00fd-bbe9-467c-9213-dd244b4f8db7\",\"type\":\"ColumnDataSource\"}},\"id\":\"3c23aac5-dbc3-491e-bfe6-ca07f0cadf08\",\"type\":\"CDSView\"},{\"attributes\":{},\"id\":\"4da6c430-72d7-44d6-bf53-4f701fbe2e07\",\"type\":\"BasicTicker\"},{\"attributes\":{\"data_source\":{\"id\":\"3bb9817d-7b0f-4093-8f61-72ae0354df7d\",\"type\":\"ColumnDataSource\"},\"glyph\":{\"id\":\"9e0d3d58-0b41-4c3a-9d8d-418c466f4e4a\",\"type\":\"Line\"},\"hover_glyph\":null,\"muted_glyph\":null,\"nonselection_glyph\":{\"id\":\"e9465578-44ce-4dfc-9149-5455c6c40b29\",\"type\":\"Line\"},\"selection_glyph\":null,\"view\":{\"id\":\"4088e706-3f12-4569-8e74-98d5d7f7aaa7\",\"type\":\"CDSView\"}},\"id\":\"c58bb4f3-f270-4eda-b9a9-5d157e72af52\",\"type\":\"GlyphRenderer\"},{\"attributes\":{\"callback\":null,\"column_names\":[\"x\",\"y\"],\"data\":{\"x\":[0,1,2,3,4,5,6,7,8,9,10,11,12,13,14,15,16,17,18,19,20,21,22,23,24,25,26,27,28,29,30,31,32,33,34,35,36,37,38,39,40,41,42,43,44,45,46,47,48,49,50,51,52,53,54,55,56,57,58,59,60,61,62,63,64,65,66,67,68,69,70,71,72,73,74,75,76,77,78,79,80,81,82,83,84,85,86,87,88,89,90,91,92,93,94,95,96,97,98,99,100,101,102,103,104,105,106,107,108,109,110,111,112,113,114,115,116,117,118,119,120,121,122,123,124,125,126,127,128,129,130,131,132,133,134,135,136,137,138,139,140,141,142,143,144,145,146,147,148,149,150,151,152,153,154,155,156,157,158,159,160,161,162,163,164,165,166,167,168,169,170,171,172,173,174,175,176,177,178,179,180,181,182,183,184,185,186,187,188,189,190,191,192,193,194,195,196,197,198,199],\"y\":{\"__ndarray__\":\"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\",\"dtype\":\"float64\",\"shape\":[200]}}},\"id\":\"efef00fd-bbe9-467c-9213-dd244b4f8db7\",\"type\":\"ColumnDataSource\"},{\"attributes\":{\"active_drag\":\"auto\",\"active_inspect\":\"auto\",\"active_scroll\":\"auto\",\"active_tap\":\"auto\",\"tools\":[{\"id\":\"9cd63248-59d8-475a-b15c-eb6d8985bc8f\",\"type\":\"PanTool\"},{\"id\":\"c7452d7e-018b-4d7a-a779-f31e67284950\",\"type\":\"WheelZoomTool\"},{\"id\":\"5bafff70-952e-4d95-90fa-d1598c8c103f\",\"type\":\"BoxZoomTool\"},{\"id\":\"af438585-c699-4dfe-9633-f16ce9f9b676\",\"type\":\"SaveTool\"},{\"id\":\"4f0c017b-be43-4738-8df0-1eac8ecee431\",\"type\":\"ResetTool\"},{\"id\":\"d7fb32d6-73c6-4a08-a537-56df7f1eb455\",\"type\":\"HelpTool\"}]},\"id\":\"dc602ddd-d0a6-417d-8af1-53387a8d1a00\",\"type\":\"Toolbar\"},{\"attributes\":{},\"id\":\"d238a4a1-dbe8-4df0-87ea-c615d0501902\",\"type\":\"BasicTickFormatter\"},{\"attributes\":{\"data_source\":{\"id\":\"efef00fd-bbe9-467c-9213-dd244b4f8db7\",\"type\":\"ColumnDataSource\"},\"glyph\":{\"id\":\"6de8684c-59f3-4d72-98c8-44e729213045\",\"type\":\"Line\"},\"hover_glyph\":null,\"muted_glyph\":null,\"nonselection_glyph\":{\"id\":\"adf82877-0edf-4cbe-baa0-3f1d3c5e2523\",\"type\":\"Line\"},\"selection_glyph\":null,\"view\":{\"id\":\"3c23aac5-dbc3-491e-bfe6-ca07f0cadf08\",\"type\":\"CDSView\"}},\"id\":\"28431a31-5150-4933-8214-ea177fe0a2f5\",\"type\":\"GlyphRenderer\"},{\"attributes\":{\"line_alpha\":{\"value\":0.1},\"line_color\":{\"value\":\"#1f77b4\"},\"x\":{\"field\":\"x\"},\"y\":{\"field\":\"y\"}},\"id\":\"4cbc9ad8-8cd8-400a-aaf6-225eb61b7117\",\"type\":\"Line\"},{\"attributes\":{\"source\":{\"id\":\"60821d31-8d03-436d-9536-d388878337f9\",\"type\":\"ColumnDataSource\"}},\"id\":\"8b6bcd22-3d2b-4ac7-aa47-16247b3473dd\",\"type\":\"CDSView\"},{\"attributes\":{\"label\":{\"value\":\"DSA, n_scen=500, gamma=1.0\"},\"renderers\":[{\"id\":\"34d888ec-4256-4dce-98a4-081af6e9d262\",\"type\":\"GlyphRenderer\"}]},\"id\":\"ae593467-757d-433b-88c8-2ffa05f86901\",\"type\":\"LegendItem\"},{\"attributes\":{},\"id\":\"4f0c017b-be43-4738-8df0-1eac8ecee431\",\"type\":\"ResetTool\"},{\"attributes\":{\"dimension\":1,\"plot\":{\"id\":\"0485b50a-c4c8-4f68-95a0-c00e91999579\",\"subtype\":\"Figure\",\"type\":\"Plot\"},\"ticker\":{\"id\":\"be02399f-f7e2-4145-8f23-1bc81ec42517\",\"type\":\"LogTicker\"}},\"id\":\"4989383c-6c2f-4e58-aa8c-2f60bcfa0f54\",\"type\":\"Grid\"},{\"attributes\":{\"source\":{\"id\":\"7bbc0155-396e-4e80-8287-5f5f36ae1b1d\",\"type\":\"ColumnDataSource\"}},\"id\":\"940ce158-d209-40de-9b89-4b14a6219e7d\",\"type\":\"CDSView\"},{\"attributes\":{\"source\":{\"id\":\"6d0db3ee-36a4-40c7-a34b-9589069bf600\",\"type\":\"ColumnDataSource\"}},\"id\":\"de74580e-d6e3-4f4c-94ef-c8153f8dc2cb\",\"type\":\"CDSView\"},{\"attributes\":{\"line_alpha\":{\"value\":0.1},\"line_color\":{\"value\":\"#1f77b4\"},\"line_dash\":[6],\"x\":{\"field\":\"x\"},\"y\":{\"field\":\"y\"}},\"id\":\"e9465578-44ce-4dfc-9149-5455c6c40b29\",\"type\":\"Line\"},{\"attributes\":{\"callback\":null,\"column_names\":[\"x\",\"y\"],\"data\":{\"x\":[0,1,2,3,4,5,6,7,8,9,10,11,12,13,14,15,16,17,18,19,20,21,22,23,24,25,26,27,28,29,30,31,32,33,34,35,36,37,38,39,40,41,42,43,44,45,46,47,48,49,50,51,52,53,54,55,56,57,58,59,60,61,62,63,64,65,66,67,68,69,70,71,72,73,74,75,76,77,78,79,80,81,82,83,84,85,86,87,88,89,90,91,92,93,94,95,96,97,98,99,100,101,102,103,104,105,106,107,108,109,110,111,112,113,114,115,116,117,118,119,120,121,122,123,124,125,126,127,128,129,130,131,132,133,134,135,136,137,138,139,140,141,142,143,144,145,146,147,148,149,150,151,152,153,154,155,156,157,158,159,160,161,162,163,164,165,166,167,168,169,170,171,172,173,174,175,176,177,178,179,180,181,182,183,184,185,186,187,188,189,190,191,192,193,194,195,196,197,198,199],\"y\":{\"__ndarray__\":\"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\",\"dtype\":\"float64\",\"shape\":[200]}}},\"id\":\"5dea0f41-7390-48b5-be72-3820c0308558\",\"type\":\"ColumnDataSource\"},{\"attributes\":{\"label\":{\"value\":\"DSA, n_scen=10, gamma=1.0\"},\"renderers\":[{\"id\":\"c58bb4f3-f270-4eda-b9a9-5d157e72af52\",\"type\":\"GlyphRenderer\"}]},\"id\":\"77491312-625a-4be4-9e01-027d1dc9bc6e\",\"type\":\"LegendItem\"},{\"attributes\":{\"axis_label\":\"d* - d_k\",\"formatter\":{\"id\":\"1128ccc9-b0fb-462e-94b5-8d5c0a7c635d\",\"type\":\"LogTickFormatter\"},\"plot\":{\"id\":\"0485b50a-c4c8-4f68-95a0-c00e91999579\",\"subtype\":\"Figure\",\"type\":\"Plot\"},\"ticker\":{\"id\":\"be02399f-f7e2-4145-8f23-1bc81ec42517\",\"type\":\"LogTicker\"}},\"id\":\"ec43f3ab-3696-4f6f-a247-aff7ba246b1a\",\"type\":\"LogAxis\"},{\"attributes\":{\"overlay\":{\"id\":\"3f00f812-0e42-440b-b655-51b07c7f1bdb\",\"type\":\"BoxAnnotation\"}},\"id\":\"5bafff70-952e-4d95-90fa-d1598c8c103f\",\"type\":\"BoxZoomTool\"},{\"attributes\":{\"line_alpha\":{\"value\":0.1},\"line_color\":{\"value\":\"#1f77b4\"},\"line_dash\":[6],\"x\":{\"field\":\"x\"},\"y\":{\"field\":\"y\"}},\"id\":\"5bc0cfc8-1ff3-4d11-bef3-38f0ff8afcab\",\"type\":\"Line\"},{\"attributes\":{\"line_alpha\":{\"value\":0.1},\"line_color\":{\"value\":\"#1f77b4\"},\"x\":{\"field\":\"x\"},\"y\":{\"field\":\"y\"}},\"id\":\"2cd9b432-f9e1-4435-9c55-2720ea89de10\",\"type\":\"Line\"},{\"attributes\":{\"label\":{\"value\":\"DSA, n_scen=50, gamma=1.0\"},\"renderers\":[{\"id\":\"28431a31-5150-4933-8214-ea177fe0a2f5\",\"type\":\"GlyphRenderer\"}]},\"id\":\"9ba4eb5b-b65b-4d0d-838a-fb4043431edf\",\"type\":\"LegendItem\"},{\"attributes\":{\"callback\":null,\"column_names\":[\"x\",\"y\"],\"data\":{\"x\":[0,1,2,3,4,5,6,7,8,9,10,11,12,13,14,15,16,17,18,19,20,21,22,23,24,25,26,27,28,29,30,31,32,33,34,35,36,37,38,39,40,41,42,43,44,45,46,47,48,49,50,51,52,53,54,55,56,57,58,59,60,61,62,63,64,65,66,67,68,69,70,71,72,73,74,75,76,77,78,79,80,81,82,83,84,85,86,87,88,89,90,91,92,93,94,95,96,97,98,99,100,101,102,103,104,105,106,107,108,109,110,111,112,113,114,115,116,117,118,119,120,121,122,123,124,125,126,127,128,129,130,131,132,133,134,135,136,137,138,139,140,141,142,143,144,145,146,147,148,149,150,151,152,153,154,155,156,157,158,159,160,161,162,163,164,165,166,167,168,169,170,171,172,173,174,175,176,177,178,179,180,181,182,183,184,185,186,187,188,189,190,191,192,193,194,195,196,197,198,199],\"y\":{\"__ndarray__\":\"4LxJzLdTGECI7zX37LojQMjivf0nphdAMHU84c68CUAAWU9iSlcAQOBkZJaI8PE/AGYzcrbP9z8wTo13X0wBQGCJe8cQEfY/wFdU0yab5j8A26cTU+/zPwC/PWrLJPc/wHgEJ+F08D8A/zb3cinRPwCyqHYAKeg/4N6WLhy69D9ADT7q0UD4P4C3hBix3fU/gK8Jqrhq8T8AroOmUyfpPwBOKDd8dNs/AOrqSIHy4T8APMC0z3blP8C5n88iKuQ/ACMno4lg2T+A5q2bDDzgPwCc3rYUlOY/gF64ksJn6D+ASI0QASjlP8DSe7MwxOI/gGexpwBR4j8Azau3aZ/iPwBIg9A6jd4/gJ3ItSL71T+A0SrD0jjaPwDaIFmwDd8/AOCea2BC4j+Avn5wHVHhP4DatKIWJto/APLCHtV0xz8AzeSnAQHFPwBtcdCeSdA/gPhX0/CW2D8AnWWhi6jeP4AUaeayxd8/ACZA020Z3D8AE3qzAl7ZP4DIUegPW9c/gONx9p8R0z8ANO+GZU3JPwCIrvobi7w/AOwhHqEIyD8AMkrTuo7RP4BvHhhkN9M/AEIcLbd+0T8A4aLd98HIPwBs6sOK17c/ANLAt6Cgtz8AxjZf92zIP4CtGAk5NNI/AEdawMHe1D+AV1eETWzUPwAryfcqD9E/AEgk+jj8zD8AbN2JBLPLPwDGYc8y9Mc/APlp6+umwz8AyLnYUmK5PwBqsjnDi8I/AOjidK4Czj8APhpOEtTRPwCRyDopLNI/ALVvWTXBzj8AQ4ZcMbzFPwDakJVh+74/AO44LTwtwT8ANog3iqTHPwBj5kfuJ8s/AER0ii3dyz8ABuL5WEDOPwCWGEbfp84/AIVLNlL3zD8A3L0bImPKPwAZfJBZhsg/AIbIUU/6wj8AAKNLANazPwAoKGIX6qk/ANjhTwnduD8AeoDgiMHEPwCc8VXXdsk/AHkDur+2yj8AzXhWk6fIPwDmC7fCbcM/AGIoqPJXtj8AtHZJln6wPwCUHQpuxbQ/AEyA5Dpkuz8A0asvy4rAPwBtXYj/C8Q/AHqQVgeJxD8AsB4SpVzFPwBqxj9H3cQ/AOAijUfmwj8AOGu4MAy/PwAYr70WlbU/APh5KmcDoz8AbIQo192zPwA8XeKHMcE/AMoIuLvKxj8Ae4MvU8PJPwAdigNhM8o/ADT8Wv0xyD8AwlHGUdXDPwBkPSVJZbo/AJjgfgD9sj8ArPbCMHi0PwBG4HTrbrM/AKqSHN9LtD8AAEBUv/6/PwB93FyGf8M/AOwLMqS8xD8AwArdR8zDPwAwH2KRqcA/ABYDJRThvT8ADHO6T8e4PwACSwtXl7E/AFgKKjfEoD8ATDpTdTmpPwAKhmKB+7o/AJTL/vCuwj8A4IhsENvFPwCNOqKtEcc/AJiRHgptxj8AOUfN99nDPwBKLzNcEL8/AMZtHhKltD8ACGsitDu2PwBYbUIWT7s/AAC1ntj7vT8A1F0HaVO+PwBMoU2lZrw/AKx7FtgLvT8A/kOzmJq+PwDjm8lxTcE/AHbHuo2vwj8AljuV4GLCPwD27Wwbc8A/AODY4e/3uT8AiK+3wuuzPwAWS7953LM/AJRClwWAuT8Auvxul8u+PwCx4W9hTcA/AK6UBKMEvz8Aymj8pB+6PwCeGMXHx7M/AKjg2vInsD8AYAu5cqGrPwC8Bq8iirM/AHT5rkWftz8A+GCWNv68PwAzeG85XcA/AIkZ3B9LwT8AUtw7oU7BPwDWXBhnbcA/AJrEYeZZvT8AKm+IQSW4PwBILJxLR7E/AGAoH0NDpD8AUD/5iGOaPwBgYTRcBKs/AA6BNCstsz8A9uEHb3S3PwDcM5vGnLo/APBWQl/evj8AVvQk6Le/PwDAKscMPb0/AN6ppfeAtz8ANGU4rCytPwAQrkfheoQ/AJBB9CMEkT8AONiHUjmmPwDSFasU77I/AF4U3+ohuT8AFH4ODL69PwCwqHQQZsA/AGaPHU4qwT8AhrM73i/BPwB+WpzGesA/ANT1sugdvj8A4IsZeeC5PwDmkvm5RLQ/ADj8ee3gqz8AFImydZWgPwDg0zMBQpU/ANj/21fvqT8AfKj2PHu1PwB6T6wXlbs/AJpb7pBRvz8AFlzfWl7APw==\",\"dtype\":\"float64\",\"shape\":[200]}}},\"id\":\"3bb9817d-7b0f-4093-8f61-72ae0354df7d\",\"type\":\"ColumnDataSource\"},{\"attributes\":{\"data_source\":{\"id\":\"348077bb-fee2-4289-b249-a5963248e289\",\"type\":\"ColumnDataSource\"},\"glyph\":{\"id\":\"bd794a5c-c573-45f6-b63b-0dcd555edb8b\",\"type\":\"Line\"},\"hover_glyph\":null,\"muted_glyph\":null,\"nonselection_glyph\":{\"id\":\"5bc0cfc8-1ff3-4d11-bef3-38f0ff8afcab\",\"type\":\"Line\"},\"selection_glyph\":null,\"view\":{\"id\":\"c9e50a38-debe-4210-9f73-7697b9eb32af\",\"type\":\"CDSView\"}},\"id\":\"ff7a02fa-c04b-442f-86a5-dfa6bf79239f\",\"type\":\"GlyphRenderer\"},{\"attributes\":{\"source\":{\"id\":\"348077bb-fee2-4289-b249-a5963248e289\",\"type\":\"ColumnDataSource\"}},\"id\":\"c9e50a38-debe-4210-9f73-7697b9eb32af\",\"type\":\"CDSView\"},{\"attributes\":{},\"id\":\"f9794e97-8975-4bd8-ad38-9089d2832e0f\",\"type\":\"LogScale\"},{\"attributes\":{\"line_color\":{\"value\":\"orange\"},\"line_dash\":[6],\"x\":{\"field\":\"x\"},\"y\":{\"field\":\"y\"}},\"id\":\"74b886a3-9c28-43f6-be97-07aab2604d79\",\"type\":\"Line\"},{\"attributes\":{\"line_alpha\":{\"value\":0.1},\"line_color\":{\"value\":\"#1f77b4\"},\"line_dash\":[6],\"x\":{\"field\":\"x\"},\"y\":{\"field\":\"y\"}},\"id\":\"8f3fb1f1-9573-4294-99e8-4a59b3f227a4\",\"type\":\"Line\"},{\"attributes\":{\"source\":{\"id\":\"3bb9817d-7b0f-4093-8f61-72ae0354df7d\",\"type\":\"ColumnDataSource\"}},\"id\":\"4088e706-3f12-4569-8e74-98d5d7f7aaa7\",\"type\":\"CDSView\"},{\"attributes\":{\"axis_label\":\"iteration\",\"formatter\":{\"id\":\"d238a4a1-dbe8-4df0-87ea-c615d0501902\",\"type\":\"BasicTickFormatter\"},\"plot\":{\"id\":\"0485b50a-c4c8-4f68-95a0-c00e91999579\",\"subtype\":\"Figure\",\"type\":\"Plot\"},\"ticker\":{\"id\":\"4da6c430-72d7-44d6-bf53-4f701fbe2e07\",\"type\":\"BasicTicker\"}},\"id\":\"ed65a8ab-5c67-4e39-a475-07ce2f4f90b4\",\"type\":\"LinearAxis\"},{\"attributes\":{\"callback\":null,\"column_names\":[\"x\",\"y\"],\"data\":{\"x\":[0,1,2,3,4,5,6,7,8,9,10,11,12,13,14,15,16,17,18,19,20,21,22,23,24,25,26,27,28,29,30,31,32,33,34,35,36,37,38,39,40,41,42,43,44,45,46,47,48,49,50,51,52,53,54,55,56,57,58,59,60,61,62,63,64,65,66,67,68,69,70,71,72,73,74,75,76,77,78,79,80,81,82,83,84,85,86,87,88,89,90,91,92,93,94,95,96,97,98,99,100,101,102,103,104,105,106,107,108,109,110,111,112,113,114,115,116,117,118,119,120,121,122,123,124,125,126,127,128,129,130,131,132,133,134,135,136,137,138,139,140,141,142,143,144,145,146,147,148,149,150,151,152,153,154,155,156,157,158,159,160,161,162,163,164,165,166,167,168,169,170,171,172,173,174,175,176,177,178,179,180,181,182,183,184,185,186,187,188,189,190,191,192,193,194,195,196,197,198,199],\"y\":{\"__ndarray__\":\"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\",\"dtype\":\"float64\",\"shape\":[200]}}},\"id\":\"7bbc0155-396e-4e80-8287-5f5f36ae1b1d\",\"type\":\"ColumnDataSource\"},{\"attributes\":{\"callback\":null,\"column_names\":[\"x\",\"y\"],\"data\":{\"x\":[0,1,2,3,4,5,6,7,8,9,10,11,12,13,14,15,16,17,18,19,20,21,22,23,24,25,26,27,28,29,30,31,32,33,34,35,36,37,38,39,40,41,42,43,44,45,46,47,48,49,50,51,52,53,54,55,56,57,58,59,60,61,62,63,64,65,66,67,68,69,70,71,72,73,74,75,76,77,78,79,80,81,82,83,84,85,86,87,88,89,90,91,92,93,94,95,96,97,98,99,100,101,102,103,104,105,106,107,108,109,110,111,112,113,114,115,116,117,118,119,120,121,122,123,124,125,126,127,128,129,130,131,132,133,134,135,136,137,138,139,140,141,142,143,144,145,146,147,148,149,150,151,152,153,154,155,156,157,158,159,160,161,162,163,164,165,166,167,168,169,170,171,172,173,174,175,176,177,178,179,180,181,182,183,184,185,186,187,188,189,190,191,192,193,194,195,196,197,198,199],\"y\":{\"__ndarray__\":\"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\",\"dtype\":\"float64\",\"shape\":[200]}}},\"id\":\"348077bb-fee2-4289-b249-a5963248e289\",\"type\":\"ColumnDataSource\"},{\"attributes\":{\"line_color\":{\"value\":\"red\"},\"x\":{\"field\":\"x\"},\"y\":{\"field\":\"y\"}},\"id\":\"c9ca7f87-732e-434e-848f-641debb41eaf\",\"type\":\"Line\"},{\"attributes\":{\"data_source\":{\"id\":\"5dea0f41-7390-48b5-be72-3820c0308558\",\"type\":\"ColumnDataSource\"},\"glyph\":{\"id\":\"04398a1f-1cf8-40aa-ae2c-7409f5b4b4de\",\"type\":\"Line\"},\"hover_glyph\":null,\"muted_glyph\":null,\"nonselection_glyph\":{\"id\":\"4cbc9ad8-8cd8-400a-aaf6-225eb61b7117\",\"type\":\"Line\"},\"selection_glyph\":null,\"view\":{\"id\":\"1e0daa61-03e9-4d83-9326-797fc52f0cc9\",\"type\":\"CDSView\"}},\"id\":\"01fe8d39-1f8b-42da-91d3-e6c7d0ba1df9\",\"type\":\"GlyphRenderer\"},{\"attributes\":{\"line_color\":{\"value\":\"blue\"},\"x\":{\"field\":\"x\"},\"y\":{\"field\":\"y\"}},\"id\":\"028fbf7c-5689-4e9b-a52c-73c7472bb846\",\"type\":\"Line\"},{\"attributes\":{\"source\":{\"id\":\"5dea0f41-7390-48b5-be72-3820c0308558\",\"type\":\"ColumnDataSource\"}},\"id\":\"1e0daa61-03e9-4d83-9326-797fc52f0cc9\",\"type\":\"CDSView\"},{\"attributes\":{\"callback\":null},\"id\":\"c14137e6-a07c-4ebd-9ad6-30f23fef6fcb\",\"type\":\"DataRange1d\"},{\"attributes\":{\"plot\":null,\"text\":\"comparison\"},\"id\":\"03ce7c8f-bf5e-4f50-892b-f1914868d269\",\"type\":\"Title\"},{\"attributes\":{\"line_alpha\":{\"value\":0.1},\"line_color\":{\"value\":\"#1f77b4\"},\"x\":{\"field\":\"x\"},\"y\":{\"field\":\"y\"}},\"id\":\"f18bd517-3f54-4d35-b760-0c2cecec9e2c\",\"type\":\"Line\"},{\"attributes\":{\"line_color\":{\"value\":\"red\"},\"line_dash\":[6],\"x\":{\"field\":\"x\"},\"y\":{\"field\":\"y\"}},\"id\":\"bd794a5c-c573-45f6-b63b-0dcd555edb8b\",\"type\":\"Line\"},{\"attributes\":{\"data_source\":{\"id\":\"cc7c27d4-2c7b-4f8b-90b1-c9d5f1ad6ad9\",\"type\":\"ColumnDataSource\"},\"glyph\":{\"id\":\"74b886a3-9c28-43f6-be97-07aab2604d79\",\"type\":\"Line\"},\"hover_glyph\":null,\"muted_glyph\":null,\"nonselection_glyph\":{\"id\":\"8f3fb1f1-9573-4294-99e8-4a59b3f227a4\",\"type\":\"Line\"},\"selection_glyph\":null,\"view\":{\"id\":\"cec7dddc-7272-413d-b0a0-1fa13acc9156\",\"type\":\"CDSView\"}},\"id\":\"34d888ec-4256-4dce-98a4-081af6e9d262\",\"type\":\"GlyphRenderer\"},{\"attributes\":{\"label\":{\"value\":\"DSA, n_scen=100, gamma=1.0\"},\"renderers\":[{\"id\":\"ff7a02fa-c04b-442f-86a5-dfa6bf79239f\",\"type\":\"GlyphRenderer\"}]},\"id\":\"10664734-81a9-4c57-8889-640de75acb26\",\"type\":\"LegendItem\"},{\"attributes\":{\"line_color\":{\"value\":\"orange\"},\"x\":{\"field\":\"x\"},\"y\":{\"field\":\"y\"}},\"id\":\"62bc9a51-eae3-4a87-acc3-8f02ce745a49\",\"type\":\"Line\"},{\"attributes\":{\"below\":[{\"id\":\"ed65a8ab-5c67-4e39-a475-07ce2f4f90b4\",\"type\":\"LinearAxis\"}],\"left\":[{\"id\":\"ec43f3ab-3696-4f6f-a247-aff7ba246b1a\",\"type\":\"LogAxis\"}],\"renderers\":[{\"id\":\"ed65a8ab-5c67-4e39-a475-07ce2f4f90b4\",\"type\":\"LinearAxis\"},{\"id\":\"83d48a23-3578-4d5d-a273-b352e057cd54\",\"type\":\"Grid\"},{\"id\":\"ec43f3ab-3696-4f6f-a247-aff7ba246b1a\",\"type\":\"LogAxis\"},{\"id\":\"4989383c-6c2f-4e58-aa8c-2f60bcfa0f54\",\"type\":\"Grid\"},{\"id\":\"3f00f812-0e42-440b-b655-51b07c7f1bdb\",\"type\":\"BoxAnnotation\"},{\"id\":\"4898661a-eaa1-4bdc-967d-25ae66cee299\",\"type\":\"Legend\"},{\"id\":\"c58bb4f3-f270-4eda-b9a9-5d157e72af52\",\"type\":\"GlyphRenderer\"},{\"id\":\"28431a31-5150-4933-8214-ea177fe0a2f5\",\"type\":\"GlyphRenderer\"},{\"id\":\"ff7a02fa-c04b-442f-86a5-dfa6bf79239f\",\"type\":\"GlyphRenderer\"},{\"id\":\"34d888ec-4256-4dce-98a4-081af6e9d262\",\"type\":\"GlyphRenderer\"},{\"id\":\"f5039c76-0f91-4385-8c32-cac78f8b0db0\",\"type\":\"GlyphRenderer\"},{\"id\":\"01fe8d39-1f8b-42da-91d3-e6c7d0ba1df9\",\"type\":\"GlyphRenderer\"},{\"id\":\"b4bd63da-42e1-4efe-a516-8bfb0923c460\",\"type\":\"GlyphRenderer\"},{\"id\":\"dbea3710-129f-4328-be3a-95d75f67e87b\",\"type\":\"GlyphRenderer\"}],\"title\":{\"id\":\"03ce7c8f-bf5e-4f50-892b-f1914868d269\",\"type\":\"Title\"},\"toolbar\":{\"id\":\"dc602ddd-d0a6-417d-8af1-53387a8d1a00\",\"type\":\"Toolbar\"},\"toolbar_location\":\"above\",\"x_range\":{\"id\":\"c14137e6-a07c-4ebd-9ad6-30f23fef6fcb\",\"type\":\"DataRange1d\"},\"x_scale\":{\"id\":\"8ca02787-8a44-4497-ad2f-3cd969bb5248\",\"type\":\"LinearScale\"},\"y_range\":{\"id\":\"c07def43-02cc-4166-902f-d4dda1fa1666\",\"type\":\"DataRange1d\"},\"y_scale\":{\"id\":\"f9794e97-8975-4bd8-ad38-9089d2832e0f\",\"type\":\"LogScale\"}},\"id\":\"0485b50a-c4c8-4f68-95a0-c00e91999579\",\"subtype\":\"Figure\",\"type\":\"Plot\"},{\"attributes\":{},\"id\":\"af438585-c699-4dfe-9633-f16ce9f9b676\",\"type\":\"SaveTool\"},{\"attributes\":{},\"id\":\"9cd63248-59d8-475a-b15c-eb6d8985bc8f\",\"type\":\"PanTool\"},{\"attributes\":{\"callback\":null},\"id\":\"c07def43-02cc-4166-902f-d4dda1fa1666\",\"type\":\"DataRange1d\"},{\"attributes\":{},\"id\":\"c7452d7e-018b-4d7a-a779-f31e67284950\",\"type\":\"WheelZoomTool\"},{\"attributes\":{\"source\":{\"id\":\"cc7c27d4-2c7b-4f8b-90b1-c9d5f1ad6ad9\",\"type\":\"ColumnDataSource\"}},\"id\":\"cec7dddc-7272-413d-b0a0-1fa13acc9156\",\"type\":\"CDSView\"},{\"attributes\":{},\"id\":\"8ca02787-8a44-4497-ad2f-3cd969bb5248\",\"type\":\"LinearScale\"},{\"attributes\":{\"line_color\":{\"value\":\"green\"},\"x\":{\"field\":\"x\"},\"y\":{\"field\":\"y\"}},\"id\":\"04398a1f-1cf8-40aa-ae2c-7409f5b4b4de\",\"type\":\"Line\"},{\"attributes\":{\"label\":{\"value\":\"DSA Entropy, n_scen=100, gamma=1.0, R=0.11646929497\"},\"renderers\":[{\"id\":\"b4bd63da-42e1-4efe-a516-8bfb0923c460\",\"type\":\"GlyphRenderer\"}]},\"id\":\"098bab29-f669-4286-bf3f-1087ca0dbc3d\",\"type\":\"LegendItem\"},{\"attributes\":{\"callback\":null,\"column_names\":[\"x\",\"y\"],\"data\":{\"x\":[0,1,2,3,4,5,6,7,8,9,10,11,12,13,14,15,16,17,18,19,20,21,22,23,24,25,26,27,28,29,30,31,32,33,34,35,36,37,38,39,40,41,42,43,44,45,46,47,48,49,50,51,52,53,54,55,56,57,58,59,60,61,62,63,64,65,66,67,68,69,70,71,72,73,74,75,76,77,78,79,80,81,82,83,84,85,86,87,88,89,90,91,92,93,94,95,96,97,98,99,100,101,102,103,104,105,106,107,108,109,110,111,112,113,114,115,116,117,118,119,120,121,122,123,124,125,126,127,128,129,130,131,132,133,134,135,136,137,138,139,140,141,142,143,144,145,146,147,148,149,150,151,152,153,154,155,156,157,158,159,160,161,162,163,164,165,166,167,168,169,170,171,172,173,174,175,176,177,178,179,180,181,182,183,184,185,186,187,188,189,190,191,192,193,194,195,196,197,198,199],\"y\":{\"__ndarray__\":\"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\",\"dtype\":\"float64\",\"shape\":[200]}}},\"id\":\"60821d31-8d03-436d-9536-d388878337f9\",\"type\":\"ColumnDataSource\"},{\"attributes\":{\"bottom_units\":\"screen\",\"fill_alpha\":{\"value\":0.5},\"fill_color\":{\"value\":\"lightgrey\"},\"left_units\":\"screen\",\"level\":\"overlay\",\"line_alpha\":{\"value\":1.0},\"line_color\":{\"value\":\"black\"},\"line_dash\":[4,4],\"line_width\":{\"value\":2},\"plot\":null,\"render_mode\":\"css\",\"right_units\":\"screen\",\"top_units\":\"screen\"},\"id\":\"3f00f812-0e42-440b-b655-51b07c7f1bdb\",\"type\":\"BoxAnnotation\"}],\"root_ids\":[\"0485b50a-c4c8-4f68-95a0-c00e91999579\"]},\"title\":\"Bokeh Application\",\"version\":\"0.12.7\"}};\n",
       "            var render_items = [{\"docid\":\"4f063354-22a3-4135-8761-3533960b76c2\",\"elementid\":\"551608ef-b739-4073-87fe-f8b103621a41\",\"modelid\":\"0485b50a-c4c8-4f68-95a0-c00e91999579\"}];\n",
       "            \n",
       "            Bokeh.embed.embed_items(docs_json, render_items);\n",
       "          };\n",
       "          if (document.readyState != \"loading\") fn();\n",
       "          else document.addEventListener(\"DOMContentLoaded\", fn);\n",
       "        })();\n",
       "      },\n",
       "      function(Bokeh) {\n",
       "      }\n",
       "    ];\n",
       "  \n",
       "    function run_inline_js() {\n",
       "      \n",
       "      if ((root.Bokeh !== undefined) || (force === true)) {\n",
       "        for (var i = 0; i < inline_js.length; i++) {\n",
       "          inline_js[i].call(root, root.Bokeh);\n",
       "        }if (force === true) {\n",
       "          display_loaded();\n",
       "        }} else if (Date.now() < root._bokeh_timeout) {\n",
       "        setTimeout(run_inline_js, 100);\n",
       "      } else if (!root._bokeh_failed_load) {\n",
       "        console.log(\"Bokeh: BokehJS failed to load within specified timeout.\");\n",
       "        root._bokeh_failed_load = true;\n",
       "      } else if (force !== true) {\n",
       "        var cell = $(document.getElementById(\"551608ef-b739-4073-87fe-f8b103621a41\")).parents('.cell').data().cell;\n",
       "        cell.output_area.append_execute_result(NB_LOAD_WARNING)\n",
       "      }\n",
       "  \n",
       "    }\n",
       "  \n",
       "    if (root._bokeh_is_loading === 0) {\n",
       "      console.log(\"Bokeh: BokehJS loaded, going straight to plotting\");\n",
       "      run_inline_js();\n",
       "    } else {\n",
       "      load_libs(js_urls, function() {\n",
       "        console.log(\"Bokeh: BokehJS plotting callback run at\", now());\n",
       "        run_inline_js();\n",
       "      });\n",
       "    }\n",
       "  }(window));\n",
       "</script>"
      ]
     },
     "metadata": {},
     "output_type": "display_data"
    }
   ],
   "source": [
    "p.legend.location = \"top_right\"\n",
    "p.legend.visible = True\n",
    "p.legend.background_fill_alpha = 0.5\n",
    "show(p)"
   ]
  },
  {
   "cell_type": "markdown",
   "metadata": {},
   "source": [
    "### Single run"
   ]
  },
  {
   "cell_type": "code",
   "execution_count": 3,
   "metadata": {},
   "outputs": [
    {
     "name": "stdout",
     "output_type": "stream",
     "text": [
      "Parsing nominal model information from ./smpspy/benchmark_problems/2_caroe_schultz/caroe_schultz_10.cor and .tim ...\n",
      "Parsing stochastic information from ./smpspy/benchmark_problems/2_caroe_schultz/caroe_schultz_10.sto ...\n",
      "Stochastic model is of type SCENARIOS DISCRETE\n"
     ]
    }
   ],
   "source": [
    "ip = TwoStage_SMPS_InnerProblem('./smpspy/benchmark_problems/2_caroe_schultz/caroe_schultz_10')"
   ]
  },
  {
   "cell_type": "markdown",
   "metadata": {},
   "source": [
    "First solving it with DSA"
   ]
  },
  {
   "cell_type": "code",
   "execution_count": 4,
   "metadata": {
    "collapsed": true
   },
   "outputs": [],
   "source": [
    "GAMMA = 1.0\n",
    "\n",
    "dsa = DSA(ip.oracle, ip.projection_function, dimension=ip.dimension, gamma=GAMMA)\n",
    "logger_dsa = EnhancedDualMethodLogger(dsa)"
   ]
  },
  {
   "cell_type": "code",
   "execution_count": 5,
   "metadata": {},
   "outputs": [
    {
     "name": "stdout",
     "output_type": "stream",
     "text": [
      "Iteration: 0, d_k=-inf\n",
      "Iteration: 50, d_k=-55.0159186353\n",
      "Iteration: 100, d_k=-54.9786759617\n",
      "Iteration: 150, d_k=-54.8958271191\n",
      "Iteration: 200, d_k=-54.946123664\n",
      "Iteration: 250, d_k=-54.9126206845\n",
      "Iteration: 300, d_k=-54.8681531927\n",
      "Iteration: 350, d_k=-54.8759044684\n",
      "Iteration: 400, d_k=-54.83683095\n",
      "Iteration: 450, d_k=-54.8435540524\n",
      "Iteration: 500, d_k=-54.833795125\n",
      "Iteration: 550, d_k=-54.8560302563\n",
      "Iteration: 600, d_k=-54.8279813457\n",
      "Iteration: 650, d_k=-54.8655052529\n",
      "Iteration: 700, d_k=-54.8348583158\n",
      "Iteration: 750, d_k=-54.8305845772\n",
      "Iteration: 800, d_k=-54.8340387889\n",
      "Iteration: 850, d_k=-54.8374382962\n",
      "Iteration: 900, d_k=-54.8204466776\n",
      "Iteration: 950, d_k=-54.8407756352\n",
      "Iteration: 1000, d_k=-54.8468588731\n",
      "Iteration: 1050, d_k=-54.8219773445\n",
      "Iteration: 1100, d_k=-54.8287186107\n",
      "Iteration: 1150, d_k=-54.8173967699\n",
      "Iteration: 1200, d_k=-54.8214714153\n",
      "Iteration: 1250, d_k=-54.8338867381\n",
      "Iteration: 1300, d_k=-54.8255492724\n",
      "Iteration: 1350, d_k=-54.8146888169\n",
      "Iteration: 1400, d_k=-54.8334153832\n",
      "Iteration: 1450, d_k=-54.8073424585\n"
     ]
    }
   ],
   "source": [
    "for iteration in range(1000):\n",
    "    if not iteration%50:\n",
    "        print('Iteration: {}, d_k={}'.format(iteration, dsa.d_k))\n",
    "    dsa.dual_step()"
   ]
  },
  {
   "cell_type": "markdown",
   "metadata": {},
   "source": [
    "Then get the required parameters (R is derived a posteriori)"
   ]
  },
  {
   "cell_type": "code",
   "execution_count": 23,
   "metadata": {},
   "outputs": [
    {
     "name": "stdout",
     "output_type": "stream",
     "text": [
      "Parsing nominal model information from ./smpspy/benchmark_problems/2_caroe_schultz/caroe_schultz_10.cor and .tim ...\n",
      "Parsing stochastic information from ./smpspy/benchmark_problems/2_caroe_schultz/caroe_schultz_10.sto ...\n",
      "Stochastic model is of type SCENARIOS DISCRETE\n",
      "A-posteriori R=0.994113159479\n"
     ]
    }
   ],
   "source": [
    "R_a_posteriori = np.linalg.norm(dsa.lambda_k, ord=np.inf)\n",
    "R_safe = R_a_posteriori*1.1\n",
    "ip = TwoStage_SMPS_InnerProblem('./smpspy/benchmark_problems/2_caroe_schultz/caroe_schultz_10', R=R_safe)\n",
    "\n",
    "print('A-posteriori R={}'.format(R_a_posteriori))"
   ]
  },
  {
   "cell_type": "markdown",
   "metadata": {},
   "source": [
    "Solve it using DSA with Entropy prox function. **Note that the only difference is that we pass in softmax projection function!**"
   ]
  },
  {
   "cell_type": "code",
   "execution_count": 24,
   "metadata": {
    "collapsed": true
   },
   "outputs": [],
   "source": [
    "dsa_entropy = DSA(ip.oracle, ip.softmax_projection, dimension=ip.dimension, gamma=GAMMA)\n",
    "logger_dsa_entropy = EnhancedDualMethodLogger(dsa_entropy)"
   ]
  },
  {
   "cell_type": "code",
   "execution_count": 25,
   "metadata": {},
   "outputs": [
    {
     "name": "stdout",
     "output_type": "stream",
     "text": [
      "Iteration: 0, d_k=-inf\n",
      "Iteration: 50, d_k=-55.7332142332\n",
      "Iteration: 100, d_k=-55.567744575\n",
      "Iteration: 150, d_k=-55.523640381\n",
      "Iteration: 200, d_k=-55.3948346217\n",
      "Iteration: 250, d_k=-55.2914856945\n",
      "Iteration: 300, d_k=-54.9578756746\n",
      "Iteration: 350, d_k=-54.9153649334\n",
      "Iteration: 400, d_k=-55.0115510287\n",
      "Iteration: 450, d_k=-54.9759676722\n",
      "Iteration: 500, d_k=-54.9421228308\n",
      "Iteration: 550, d_k=-54.9955055834\n",
      "Iteration: 600, d_k=-54.9981796194\n",
      "Iteration: 650, d_k=-54.911199455\n",
      "Iteration: 700, d_k=-54.975455558\n",
      "Iteration: 750, d_k=-54.9287581365\n",
      "Iteration: 800, d_k=-54.9192514909\n",
      "Iteration: 850, d_k=-54.8836071148\n",
      "Iteration: 900, d_k=-54.8820872471\n",
      "Iteration: 950, d_k=-54.8604667678\n",
      "Iteration: 1000, d_k=-54.8862314468\n",
      "Iteration: 1050, d_k=-54.8452524481\n",
      "Iteration: 1100, d_k=-54.8691533025\n",
      "Iteration: 1150, d_k=-54.8887367985\n",
      "Iteration: 1200, d_k=-54.8745224513\n",
      "Iteration: 1250, d_k=-54.8614982156\n",
      "Iteration: 1300, d_k=-54.8558172355\n",
      "Iteration: 1350, d_k=-54.8451513578\n",
      "Iteration: 1400, d_k=-54.8543131313\n",
      "Iteration: 1450, d_k=-54.8538891652\n"
     ]
    }
   ],
   "source": [
    "for iteration in range(1000):\n",
    "    if not iteration%50:\n",
    "        print('Iteration: {}, d_k={}'.format(iteration, dsa_entropy.d_k))\n",
    "    dsa_entropy.dual_step()"
   ]
  },
  {
   "cell_type": "code",
   "execution_count": 26,
   "metadata": {},
   "outputs": [
    {
     "data": {
      "text/plain": [
       "array([ 0.14400903, -0.24433813,  0.27291032, -0.20353668,  0.27981351,\n",
       "       -0.40031441, -0.15550504,  0.99409693, -0.15900846, -0.09654058,\n",
       "        0.148661  , -0.40031441, -0.19887074,  0.99409693, -0.17734202,\n",
       "       -0.39408986, -0.15466759, -0.24905981])"
      ]
     },
     "execution_count": 26,
     "metadata": {},
     "output_type": "execute_result"
    }
   ],
   "source": [
    "logger_dsa.lambda_k_iterates[-1]"
   ]
  },
  {
   "cell_type": "code",
   "execution_count": 27,
   "metadata": {},
   "outputs": [
    {
     "data": {
      "text/plain": [
       "array([ 0.07751982,  0.01277697,  0.4409704 , -0.31506227,  0.46902291,\n",
       "       -0.39622856, -0.28952264,  1.0066311 , -0.15609555, -0.10477626,\n",
       "        0.22667051, -0.39622856, -0.23482028,  1.00006845, -0.26926575,\n",
       "       -0.40409742, -0.26447941, -0.40308344])"
      ]
     },
     "execution_count": 27,
     "metadata": {},
     "output_type": "execute_result"
    }
   ],
   "source": [
    "logger_dsa_entropy.lambda_k_iterates[-1]"
   ]
  },
  {
   "cell_type": "code",
   "execution_count": 28,
   "metadata": {
    "collapsed": true
   },
   "outputs": [],
   "source": [
    "p = figure(title=\"comparison\", x_axis_label='iteration', y_axis_label='d_k')"
   ]
  },
  {
   "cell_type": "code",
   "execution_count": 29,
   "metadata": {},
   "outputs": [
    {
     "data": {
      "text/html": [
       "<div style=\"display: table;\"><div style=\"display: table-row;\"><div style=\"display: table-cell;\"><b title=\"bokeh.models.renderers.GlyphRenderer\">GlyphRenderer</b>(</div><div style=\"display: table-cell;\">id&nbsp;=&nbsp;'4c953611-3cb0-4a7c-87e1-95bae7ae6067', <span id=\"70b18d4f-2625-4ff6-9a43-ae8da2d95681\" style=\"cursor: pointer;\">&hellip;)</span></div></div><div class=\"a79640ff-ffa5-4791-a5d1-7df552831303\" style=\"display: none;\"><div style=\"display: table-cell;\"></div><div style=\"display: table-cell;\">data_source&nbsp;=&nbsp;ColumnDataSource(id='e0ea1c91-d4f8-4341-a896-7d94cb02162d', ...),</div></div><div class=\"a79640ff-ffa5-4791-a5d1-7df552831303\" style=\"display: none;\"><div style=\"display: table-cell;\"></div><div style=\"display: table-cell;\">glyph&nbsp;=&nbsp;Line(id='7b5c54cd-133c-4826-b9a4-4fb16ea52b5b', ...),</div></div><div class=\"a79640ff-ffa5-4791-a5d1-7df552831303\" style=\"display: none;\"><div style=\"display: table-cell;\"></div><div style=\"display: table-cell;\">hover_glyph&nbsp;=&nbsp;None,</div></div><div class=\"a79640ff-ffa5-4791-a5d1-7df552831303\" style=\"display: none;\"><div style=\"display: table-cell;\"></div><div style=\"display: table-cell;\">js_event_callbacks&nbsp;=&nbsp;{},</div></div><div class=\"a79640ff-ffa5-4791-a5d1-7df552831303\" style=\"display: none;\"><div style=\"display: table-cell;\"></div><div style=\"display: table-cell;\">js_property_callbacks&nbsp;=&nbsp;{},</div></div><div class=\"a79640ff-ffa5-4791-a5d1-7df552831303\" style=\"display: none;\"><div style=\"display: table-cell;\"></div><div style=\"display: table-cell;\">level&nbsp;=&nbsp;'glyph',</div></div><div class=\"a79640ff-ffa5-4791-a5d1-7df552831303\" style=\"display: none;\"><div style=\"display: table-cell;\"></div><div style=\"display: table-cell;\">muted&nbsp;=&nbsp;False,</div></div><div class=\"a79640ff-ffa5-4791-a5d1-7df552831303\" style=\"display: none;\"><div style=\"display: table-cell;\"></div><div style=\"display: table-cell;\">muted_glyph&nbsp;=&nbsp;None,</div></div><div class=\"a79640ff-ffa5-4791-a5d1-7df552831303\" style=\"display: none;\"><div style=\"display: table-cell;\"></div><div style=\"display: table-cell;\">name&nbsp;=&nbsp;None,</div></div><div class=\"a79640ff-ffa5-4791-a5d1-7df552831303\" style=\"display: none;\"><div style=\"display: table-cell;\"></div><div style=\"display: table-cell;\">nonselection_glyph&nbsp;=&nbsp;Line(id='b1cfd580-fdb5-4b2c-ad14-aac3dcd76e33', ...),</div></div><div class=\"a79640ff-ffa5-4791-a5d1-7df552831303\" style=\"display: none;\"><div style=\"display: table-cell;\"></div><div style=\"display: table-cell;\">selection_glyph&nbsp;=&nbsp;None,</div></div><div class=\"a79640ff-ffa5-4791-a5d1-7df552831303\" style=\"display: none;\"><div style=\"display: table-cell;\"></div><div style=\"display: table-cell;\">subscribed_events&nbsp;=&nbsp;[],</div></div><div class=\"a79640ff-ffa5-4791-a5d1-7df552831303\" style=\"display: none;\"><div style=\"display: table-cell;\"></div><div style=\"display: table-cell;\">tags&nbsp;=&nbsp;[],</div></div><div class=\"a79640ff-ffa5-4791-a5d1-7df552831303\" style=\"display: none;\"><div style=\"display: table-cell;\"></div><div style=\"display: table-cell;\">view&nbsp;=&nbsp;CDSView(id='70d0e7bd-4419-4a58-a43c-304bb949b354', ...),</div></div><div class=\"a79640ff-ffa5-4791-a5d1-7df552831303\" style=\"display: none;\"><div style=\"display: table-cell;\"></div><div style=\"display: table-cell;\">visible&nbsp;=&nbsp;True,</div></div><div class=\"a79640ff-ffa5-4791-a5d1-7df552831303\" style=\"display: none;\"><div style=\"display: table-cell;\"></div><div style=\"display: table-cell;\">x_range_name&nbsp;=&nbsp;'default',</div></div><div class=\"a79640ff-ffa5-4791-a5d1-7df552831303\" style=\"display: none;\"><div style=\"display: table-cell;\"></div><div style=\"display: table-cell;\">y_range_name&nbsp;=&nbsp;'default')</div></div></div>\n",
       "<script>\n",
       "(function() {\n",
       "  var expanded = false;\n",
       "  var ellipsis = document.getElementById(\"70b18d4f-2625-4ff6-9a43-ae8da2d95681\");\n",
       "  ellipsis.addEventListener(\"click\", function() {\n",
       "    var rows = document.getElementsByClassName(\"a79640ff-ffa5-4791-a5d1-7df552831303\");\n",
       "    for (var i = 0; i < rows.length; i++) {\n",
       "      var el = rows[i];\n",
       "      el.style.display = expanded ? \"none\" : \"table-row\";\n",
       "    }\n",
       "    ellipsis.innerHTML = expanded ? \"&hellip;)\" : \"&lsaquo;&lsaquo;&lsaquo;\";\n",
       "    expanded = !expanded;\n",
       "  });\n",
       "})();\n",
       "</script>\n"
      ],
      "text/plain": [
       "GlyphRenderer(id='4c953611-3cb0-4a7c-87e1-95bae7ae6067', ...)"
      ]
     },
     "execution_count": 29,
     "metadata": {},
     "output_type": "execute_result"
    }
   ],
   "source": [
    "p.line(range(len(logger_dsa.d_k_iterates)), logger_dsa.d_k_iterates, legend=\"DSA, gamma={}\".format(GAMMA, R_safe))\n",
    "p.line(range(len(logger_dsa_entropy.d_k_iterates)), logger_dsa_entropy.d_k_iterates, legend=\"DSA Entropy, gamma={}, R={}\".format(GAMMA, R_safe), color='red')"
   ]
  },
  {
   "cell_type": "code",
   "execution_count": 30,
   "metadata": {},
   "outputs": [
    {
     "data": {
      "text/html": [
       "\n",
       "\n",
       "    <div class=\"bk-root\">\n",
       "        <div class=\"bk-plotdiv\" id=\"33b915c9-5c6c-46f6-8ad9-e9a10f813c0e\"></div>\n",
       "    </div>\n",
       "<script type=\"text/javascript\">\n",
       "  \n",
       "  (function(root) {\n",
       "    function now() {\n",
       "      return new Date();\n",
       "    }\n",
       "  \n",
       "    var force = false;\n",
       "  \n",
       "    if (typeof (root._bokeh_onload_callbacks) === \"undefined\" || force === true) {\n",
       "      root._bokeh_onload_callbacks = [];\n",
       "      root._bokeh_is_loading = undefined;\n",
       "    }\n",
       "  \n",
       "  \n",
       "    \n",
       "    if (typeof (root._bokeh_timeout) === \"undefined\" || force === true) {\n",
       "      root._bokeh_timeout = Date.now() + 0;\n",
       "      root._bokeh_failed_load = false;\n",
       "    }\n",
       "  \n",
       "    var NB_LOAD_WARNING = {'data': {'text/html':\n",
       "       \"<div style='background-color: #fdd'>\\n\"+\n",
       "       \"<p>\\n\"+\n",
       "       \"BokehJS does not appear to have successfully loaded. If loading BokehJS from CDN, this \\n\"+\n",
       "       \"may be due to a slow or bad network connection. Possible fixes:\\n\"+\n",
       "       \"</p>\\n\"+\n",
       "       \"<ul>\\n\"+\n",
       "       \"<li>re-rerun `output_notebook()` to attempt to load from CDN again, or</li>\\n\"+\n",
       "       \"<li>use INLINE resources instead, as so:</li>\\n\"+\n",
       "       \"</ul>\\n\"+\n",
       "       \"<code>\\n\"+\n",
       "       \"from bokeh.resources import INLINE\\n\"+\n",
       "       \"output_notebook(resources=INLINE)\\n\"+\n",
       "       \"</code>\\n\"+\n",
       "       \"</div>\"}};\n",
       "  \n",
       "    function display_loaded() {\n",
       "      if (root.Bokeh !== undefined) {\n",
       "        var el = document.getElementById(\"33b915c9-5c6c-46f6-8ad9-e9a10f813c0e\");\n",
       "        if (el != null) {\n",
       "          el.textContent = \"BokehJS \" + Bokeh.version + \" successfully loaded.\";\n",
       "        }\n",
       "      } else if (Date.now() < root._bokeh_timeout) {\n",
       "        setTimeout(display_loaded, 100)\n",
       "      }\n",
       "    }\n",
       "  \n",
       "  \n",
       "    function run_callbacks() {\n",
       "      try {\n",
       "        root._bokeh_onload_callbacks.forEach(function(callback) { callback() });\n",
       "      }\n",
       "      finally {\n",
       "        delete root._bokeh_onload_callbacks\n",
       "      }\n",
       "      console.info(\"Bokeh: all callbacks have finished\");\n",
       "    }\n",
       "  \n",
       "    function load_libs(js_urls, callback) {\n",
       "      root._bokeh_onload_callbacks.push(callback);\n",
       "      if (root._bokeh_is_loading > 0) {\n",
       "        console.log(\"Bokeh: BokehJS is being loaded, scheduling callback at\", now());\n",
       "        return null;\n",
       "      }\n",
       "      if (js_urls == null || js_urls.length === 0) {\n",
       "        run_callbacks();\n",
       "        return null;\n",
       "      }\n",
       "      console.log(\"Bokeh: BokehJS not loaded, scheduling load and callback at\", now());\n",
       "      root._bokeh_is_loading = js_urls.length;\n",
       "      for (var i = 0; i < js_urls.length; i++) {\n",
       "        var url = js_urls[i];\n",
       "        var s = document.createElement('script');\n",
       "        s.src = url;\n",
       "        s.async = false;\n",
       "        s.onreadystatechange = s.onload = function() {\n",
       "          root._bokeh_is_loading--;\n",
       "          if (root._bokeh_is_loading === 0) {\n",
       "            console.log(\"Bokeh: all BokehJS libraries loaded\");\n",
       "            run_callbacks()\n",
       "          }\n",
       "        };\n",
       "        s.onerror = function() {\n",
       "          console.warn(\"failed to load library \" + url);\n",
       "        };\n",
       "        console.log(\"Bokeh: injecting script tag for BokehJS library: \", url);\n",
       "        document.getElementsByTagName(\"head\")[0].appendChild(s);\n",
       "      }\n",
       "    };var element = document.getElementById(\"33b915c9-5c6c-46f6-8ad9-e9a10f813c0e\");\n",
       "    if (element == null) {\n",
       "      console.log(\"Bokeh: ERROR: autoload.js configured with elementid '33b915c9-5c6c-46f6-8ad9-e9a10f813c0e' but no matching script tag was found. \")\n",
       "      return false;\n",
       "    }\n",
       "  \n",
       "    var js_urls = [];\n",
       "  \n",
       "    var inline_js = [\n",
       "      function(Bokeh) {\n",
       "        (function() {\n",
       "          var fn = function() {\n",
       "            var docs_json = {\"7647d67b-bfa7-42e3-a0bf-9977549b1fcf\":{\"roots\":{\"references\":[{\"attributes\":{},\"id\":\"0faaeb22-fded-4f32-80ae-61ba3b9b5f42\",\"type\":\"BasicTicker\"},{\"attributes\":{},\"id\":\"07dc9c97-34b3-45ba-bf07-afe0ea4f66ea\",\"type\":\"BasicTickFormatter\"},{\"attributes\":{\"line_alpha\":{\"value\":0.1},\"line_color\":{\"value\":\"#1f77b4\"},\"x\":{\"field\":\"x\"},\"y\":{\"field\":\"y\"}},\"id\":\"b1cfd580-fdb5-4b2c-ad14-aac3dcd76e33\",\"type\":\"Line\"},{\"attributes\":{\"data_source\":{\"id\":\"647188c4-0b3f-4521-ace5-3c75f73ab248\",\"type\":\"ColumnDataSource\"},\"glyph\":{\"id\":\"007e60a7-4b47-43e9-86dd-8d8efd9c0b84\",\"type\":\"Line\"},\"hover_glyph\":null,\"muted_glyph\":null,\"nonselection_glyph\":{\"id\":\"1238246f-f56a-4cd3-9d43-2b1f72e5645d\",\"type\":\"Line\"},\"selection_glyph\":null,\"view\":{\"id\":\"3f0e87c5-d373-437b-bfaa-254e2cc52bfb\",\"type\":\"CDSView\"}},\"id\":\"eaddf83d-9896-4d66-85ea-552686d0a5ab\",\"type\":\"GlyphRenderer\"},{\"attributes\":{\"active_drag\":\"auto\",\"active_inspect\":\"auto\",\"active_scroll\":\"auto\",\"active_tap\":\"auto\",\"tools\":[{\"id\":\"4e143e88-8697-411a-a8e6-565b047d5762\",\"type\":\"PanTool\"},{\"id\":\"9ab76b76-ea57-4a54-83fc-e71f75e1ed4d\",\"type\":\"WheelZoomTool\"},{\"id\":\"d75460d2-6351-4e8a-a65c-ed92b62df832\",\"type\":\"BoxZoomTool\"},{\"id\":\"012eecc9-1619-4971-a542-5db13de3cade\",\"type\":\"SaveTool\"},{\"id\":\"e29ae324-9580-4ff0-9100-493f356382cb\",\"type\":\"ResetTool\"},{\"id\":\"26a3815a-43df-409e-be16-db7a90e5cad7\",\"type\":\"HelpTool\"}]},\"id\":\"c6a85048-5848-44f6-bb62-78a3e08191c5\",\"type\":\"Toolbar\"},{\"attributes\":{\"source\":{\"id\":\"e0ea1c91-d4f8-4341-a896-7d94cb02162d\",\"type\":\"ColumnDataSource\"}},\"id\":\"70d0e7bd-4419-4a58-a43c-304bb949b354\",\"type\":\"CDSView\"},{\"attributes\":{\"callback\":null},\"id\":\"af374741-42ff-4696-8fc1-475ba85dbff7\",\"type\":\"DataRange1d\"},{\"attributes\":{},\"id\":\"e29ae324-9580-4ff0-9100-493f356382cb\",\"type\":\"ResetTool\"},{\"attributes\":{\"overlay\":{\"id\":\"07b937cc-90d0-4e94-95c2-2a092856443a\",\"type\":\"BoxAnnotation\"}},\"id\":\"d75460d2-6351-4e8a-a65c-ed92b62df832\",\"type\":\"BoxZoomTool\"},{\"attributes\":{\"label\":{\"value\":\"DSA, gamma=1.0\"},\"renderers\":[{\"id\":\"eaddf83d-9896-4d66-85ea-552686d0a5ab\",\"type\":\"GlyphRenderer\"}]},\"id\":\"d26350d5-009f-4241-b5bd-d0372e777c12\",\"type\":\"LegendItem\"},{\"attributes\":{\"callback\":null,\"column_names\":[\"x\",\"y\"],\"data\":{\"x\":[0,1,2,3,4,5,6,7,8,9,10,11,12,13,14,15,16,17,18,19,20,21,22,23,24,25,26,27,28,29,30,31,32,33,34,35,36,37,38,39,40,41,42,43,44,45,46,47,48,49,50,51,52,53,54,55,56,57,58,59,60,61,62,63,64,65,66,67,68,69,70,71,72,73,74,75,76,77,78,79,80,81,82,83,84,85,86,87,88,89,90,91,92,93,94,95,96,97,98,99,100,101,102,103,104,105,106,107,108,109,110,111,112,113,114,115,116,117,118,119,120,121,122,123,124,125,126,127,128,129,130,131,132,133,134,135,136,137,138,139,140,141,142,143,144,145,146,147,148,149,150,151,152,153,154,155,156,157,158,159,160,161,162,163,164,165,166,167,168,169,170,171,172,173,174,175,176,177,178,179,180,181,182,183,184,185,186,187,188,189,190,191,192,193,194,195,196,197,198,199,200,201,202,203,204,205,206,207,208,209,210,211,212,213,214,215,216,217,218,219,220,221,222,223,224,225,226,227,228,229,230,231,232,233,234,235,236,237,238,239,240,241,242,243,244,245,246,247,248,249,250,251,252,253,254,255,256,257,258,259,260,261,262,263,264,265,266,267,268,269,270,271,272,273,274,275,276,277,278,279,280,281,282,283,284,285,286,287,288,289,290,291,292,293,294,295,296,297,298,299,300,301,302,303,304,305,306,307,308,309,310,311,312,313,314,315,316,317,318,319,320,321,322,323,324,325,326,327,328,329,330,331,332,333,334,335,336,337,338,339,340,341,342,343,344,345,346,347,348,349,350,351,352,353,354,355,356,357,358,359,360,361,362,363,364,365,366,367,368,369,370,371,372,373,374,375,376,377,378,379,380,381,382,383,384,385,386,387,388,389,390,391,392,393,394,395,396,397,398,399,400,401,402,403,404,405,406,407,408,409,410,411,412,413,414,415,416,417,418,419,420,421,422,423,424,425,426,427,428,429,430,431,432,433,434,435,436,437,438,439,440,441,442,443,444,445,446,447,448,449,450,451,452,453,454,455,456,457,458,459,460,461,462,463,464,465,466,467,468,469,470,471,472,473,474,475,476,477,478,479,480,481,482,483,484,485,486,487,488,489,490,491,492,493,494,495,496,497,498,499,500,501,502,503,504,505,506,507,508,509,510,511,512,513,514,515,516,517,518,519,520,521,522,523,524,525,526,527,528,529,530,531,532,533,534,535,536,537,538,539,540,541,542,543,544,545,546,547,548,549,550,551,552,553,554,555,556,557,558,559,560,561,562,563,564,565,566,567,568,569,570,571,572,573,574,575,576,577,578,579,580,581,582,583,584,585,586,587,588,589,590,591,592,593,594,595,596,597,598,599,600,601,602,603,604,605,606,607,608,609,610,611,612,613,614,615,616,617,618,619,620,621,622,623,624,625,626,627,628,629,630,631,632,633,634,635,636,637,638,639,640,641,642,643,644,645,646,647,648,649,650,651,652,653,654,655,656,657,658,659,660,661,662,663,664,665,666,667,668,669,670,671,672,673,674,675,676,677,678,679,680,681,682,683,684,685,686,687,688,689,690,691,692,693,694,695,696,697,698,699,700,701,702,703,704,705,706,707,708,709,710,711,712,713,714,715,716,717,718,719,720,721,722,723,724,725,726,727,728,729,730,731,732,733,734,735,736,737,738,739,740,741,742,743,744,745,746,747,748,749,750,751,752,753,754,755,756,757,758,759,760,761,762,763,764,765,766,767,768,769,770,771,772,773,774,775,776,777,778,779,780,781,782,783,784,785,786,787,788,789,790,791,792,793,794,795,796,797,798,799,800,801,802,803,804,805,806,807,808,809,810,811,812,813,814,815,816,817,818,819,820,821,822,823,824,825,826,827,828,829,830,831,832,833,834,835,836,837,838,839,840,841,842,843,844,845,846,847,848,849,850,851,852,853,854,855,856,857,858,859,860,861,862,863,864,865,866,867,868,869,870,871,872,873,874,875,876,877,878,879,880,881,882,883,884,885,886,887,888,889,890,891,892,893,894,895,896,897,898,899,900,901,902,903,904,905,906,907,908,909,910,911,912,913,914,915,916,917,918,919,920,921,922,923,924,925,926,927,928,929,930,931,932,933,934,935,936,937,938,939,940,941,942,943,944,945,946,947,948,949,950,951,952,953,954,955,956,957,958,959,960,961,962,963,964,965,966,967,968,969,970,971,972,973,974,975,976,977,978,979,980,981,982,983,984,985,986,987,988,989,990,991,992,993,994,995,996,997,998,999,1000,1001,1002,1003,1004,1005,1006,1007,1008,1009,1010,1011,1012,1013,1014,1015,1016,1017,1018,1019,1020,1021,1022,1023,1024,1025,1026,1027,1028,1029,1030,1031,1032,1033,1034,1035,1036,1037,1038,1039,1040,1041,1042,1043,1044,1045,1046,1047,1048,1049,1050,1051,1052,1053,1054,1055,1056,1057,1058,1059,1060,1061,1062,1063,1064,1065,1066,1067,1068,1069,1070,1071,1072,1073,1074,1075,1076,1077,1078,1079,1080,1081,1082,1083,1084,1085,1086,1087,1088,1089,1090,1091,1092,1093,1094,1095,1096,1097,1098,1099,1100,1101,1102,1103,1104,1105,1106,1107,1108,1109,1110,1111,1112,1113,1114,1115,1116,1117,1118,1119,1120,1121,1122,1123,1124,1125,1126,1127,1128,1129,1130,1131,1132,1133,1134,1135,1136,1137,1138,1139,1140,1141,1142,1143,1144,1145,1146,1147,1148,1149,1150,1151,1152,1153,1154,1155,1156,1157,1158,1159,1160,1161,1162,1163,1164,1165,1166,1167,1168,1169,1170,1171,1172,1173,1174,1175,1176,1177,1178,1179,1180,1181,1182,1183,1184,1185,1186,1187,1188,1189,1190,1191,1192,1193,1194,1195,1196,1197,1198,1199,1200,1201,1202,1203,1204,1205,1206,1207,1208,1209,1210,1211,1212,1213,1214,1215,1216,1217,1218,1219,1220,1221,1222,1223,1224,1225,1226,1227,1228,1229,1230,1231,1232,1233,1234,1235,1236,1237,1238,1239,1240,1241,1242,1243,1244,1245,1246,1247,1248,1249,1250,1251,1252,1253,1254,1255,1256,1257,1258,1259,1260,1261,1262,1263,1264,1265,1266,1267,1268,1269,1270,1271,1272,1273,1274,1275,1276,1277,1278,1279,1280,1281,1282,1283,1284,1285,1286,1287,1288,1289,1290,1291,1292,1293,1294,1295,1296,1297,1298,1299,1300,1301,1302,1303,1304,1305,1306,1307,1308,1309,1310,1311,1312,1313,1314,1315,1316,1317,1318,1319,1320,1321,1322,1323,1324,1325,1326,1327,1328,1329,1330,1331,1332,1333,1334,1335,1336,1337,1338,1339,1340,1341,1342,1343,1344,1345,1346,1347,1348,1349,1350,1351,1352,1353,1354,1355,1356,1357,1358,1359,1360,1361,1362,1363,1364,1365,1366,1367,1368,1369,1370,1371,1372,1373,1374,1375,1376,1377,1378,1379,1380,1381,1382,1383,1384,1385,1386,1387,1388,1389,1390,1391,1392,1393,1394,1395,1396,1397,1398,1399,1400,1401,1402,1403,1404,1405,1406,1407,1408,1409,1410,1411,1412,1413,1414,1415,1416,1417,1418,1419,1420,1421,1422,1423,1424,1425,1426,1427,1428,1429,1430,1431,1432,1433,1434,1435,1436,1437,1438,1439,1440,1441,1442,1443,1444,1445,1446,1447,1448,1449,1450,1451,1452,1453,1454,1455,1456,1457,1458,1459,1460,1461,1462,1463,1464,1465,1466,1467,1468,1469,1470,1471,1472,1473,1474,1475,1476,1477,1478,1479,1480,1481,1482,1483,1484,1485,1486,1487,1488,1489,1490,1491,1492,1493,1494,1495,1496,1497,1498,1499],\"y\":[-60.900000000000006,-65.20377140075168,-69.66136448903646,-73.64097221816562,-69.5712015399237,-67.96519321539148,-66.27379066300384,-65.24545750347116,-64.61824591387506,-63.39270893096326,-63.69968772145709,-60.28430382128838,-57.71270160205794,-58.10665571128219,-58.76371317692246,-58.176619678422924,-59.09323401071214,-58.04757058393021,-58.8045725235835,-59.043941791046784,-58.936979248612104,-59.702214973890335,-59.77409965771904,-58.741717049494035,-59.39174451237081,-58.20243307926841,-57.730595667025604,-57.71406940057395,-57.104758102231884,-57.54347855402557,-57.787089433039135,-57.28672532630057,-56.86094602773012,-57.03806509731882,-56.41340449195675,-56.763109268821935,-56.49717033499929,-56.33860587994212,-56.924658954641295,-56.948238258521116,-56.669347272553566,-56.21250588591508,-56.18023324162918,-56.33277852658554,-56.1106048418262,-56.03041916805026,-56.10642461346173,-56.050459719125996,-55.945748711673275,-55.73321423315554,-55.61368418051097,-55.51386376221923,-55.50218348924756,-55.62244937964722,-55.55431285448392,-55.5805484714257,-55.78144785586237,-55.939699534739184,-56.0880881828229,-55.974403831377,-55.872636530705634,-56.247347760543164,-56.14119739710964,-56.221779457321475,-56.461741408442045,-56.741516259228476,-56.93909446334696,-56.664450390722905,-56.362449941553,-56.03894062215282,-55.878173747926255,-56.014147373609205,-56.28829147040812,-56.34734843883447,-56.25133409393373,-56.42777586484543,-56.400390441644376,-56.045535881690746,-55.81313953856178,-55.737540211866204,-55.577538982087354,-55.387082389359335,-55.28613116866449,-55.33615714958737,-55.399079988569696,-55.70179555036281,-55.78322893205483,-55.76710801606366,-55.790366996423714,-55.7924882221602,-55.746767432833806,-56.25835233652728,-56.369748402018374,-56.32754068845696,-56.197918836250466,-56.014084451551156,-55.858908824877844,-55.67407538138009,-55.530257646839615,-55.56774457496266,-55.44276630854972,-55.32851426832951,-55.32503913292396,-55.40531683105374,-55.5496258316544,-55.65092338158266,-55.79996814580987,-55.9965106106805,-56.13970265638117,-56.18160275729941,-56.06054054933902,-55.989236607860725,-55.86244027806885,-55.741528885091505,-55.61172972974049,-55.43871779797858,-55.33254316176017,-55.23552924200389,-55.22615685128112,-55.207289957869015,-55.29900710751225,-55.38960092389595,-55.52704837205374,-55.564850316480175,-55.57093533480636,-55.5151973321269,-55.37872659772114,-55.17659877536465,-55.138482756140405,-55.072642327467555,-55.052539759124066,-55.19184187328173,-55.26368649193736,-55.22466087867913,-55.1504197969849,-55.0805390053552,-55.15522074005894,-55.38625721705104,-55.375313288084925,-55.39703311770102,-55.384618066044744,-55.42165819743343,-55.444506785671436,-55.4770542122848,-55.535268671991304,-55.55631640580704,-55.52745479686716,-55.47879395645891,-55.431293401420554,-55.523640381001506,-55.50771704739291,-55.441726094004196,-55.38065368209939,-55.3521963076966,-55.33111056122245,-55.33678255393582,-55.37566257591204,-55.30184246390719,-55.29782798899299,-55.39312928883968,-55.40295295879537,-55.342131033971725,-55.45759597062105,-55.57644022278173,-55.610233758551615,-55.57218192030595,-55.54307422825498,-55.54908537322968,-55.55410009559565,-55.556563491585294,-55.59929782614895,-55.60958869735201,-55.53720486009995,-55.509241981650995,-55.45163246516161,-55.52655666750977,-55.52296077593916,-55.38666777463928,-55.3552994422015,-55.26139227410892,-55.23330397673637,-55.227844761958174,-55.230121386400484,-55.2388931935282,-55.20032646854048,-55.22102506283989,-55.182641312969906,-55.154236284247816,-55.16976971739255,-55.22907016809128,-55.26389533698604,-55.27554930327275,-55.272340284404464,-55.282367873592264,-55.29612101539972,-55.31344718655666,-55.383051615479914,-55.36184933618493,-55.37625945798286,-55.394834621738255,-55.378125917585905,-55.31628142988619,-55.25342063324526,-55.21869725611496,-55.270563274001034,-55.196173026070184,-55.222696995279094,-55.24409268229543,-55.29035974584052,-55.338217829060284,-55.37522460686294,-55.37747832498043,-55.341516281216,-55.263357375839945,-55.20789443831826,-55.17714856931398,-55.148410874651404,-55.14381004280274,-55.14120335665697,-55.18201919772202,-55.277483032606106,-55.25517055794194,-55.21183217930949,-55.19677662816845,-55.19470683743351,-55.186605771574214,-55.17930422930273,-55.23635935644681,-55.26646017618088,-55.18066036791093,-55.148597157650784,-55.09311230908207,-55.01188935778786,-55.03751363711332,-55.03519939653757,-55.005957202721355,-54.970286304983446,-54.96812053024756,-55.02728555653103,-55.0813938280789,-55.092262377787435,-55.11414199023094,-55.13309863129548,-55.15432548351306,-55.16266121765136,-55.19944502501325,-55.24410592011639,-55.25060906194443,-55.26047029057751,-55.29148569451305,-55.320095018689464,-55.34245513497402,-55.33652545392642,-55.28023318166227,-55.23936234215499,-55.152947459456016,-55.058755310763225,-55.11287482564712,-55.14184434623091,-55.121214441855145,-55.07227575745935,-55.07198536419984,-55.07735885269747,-55.0701796702048,-55.0767072452755,-55.07648101226758,-55.07765113136281,-55.103058274450376,-55.116678614428864,-55.11815677067817,-55.11130829191669,-55.124566231444895,-55.155565145913215,-55.14940164836506,-55.188014361509424,-55.217419302322455,-55.225782289279294,-55.2166403280269,-55.1958621025086,-55.16704913557857,-55.16554108910173,-55.09958791862269,-55.042845506351014,-55.033122286603216,-54.95755310212858,-54.99379177940302,-55.014954486571874,-55.01988295823376,-55.02524692626278,-55.020676418444346,-55.014186990457226,-55.00058413685759,-54.98348936638258,-55.00263208464131,-55.028184816358646,-55.027430748664834,-55.01500759025952,-54.9831225579406,-54.95133579565486,-54.9578756746499,-54.95960817168491,-54.96727143045481,-54.969605341849466,-54.981478462195035,-54.99203457096722,-55.006566699430564,-55.02150988616597,-55.030465911378144,-55.05162718840811,-55.03318053410099,-55.04141424403007,-55.03356147694079,-55.040857817160656,-55.043452375764616,-55.03208895360731,-55.02063655005602,-55.00715485981826,-55.01547545334874,-54.984315666705335,-54.97047655422993,-54.94255020808835,-54.925839565923255,-54.9220118920756,-54.95496022027848,-54.96358284892139,-54.93715054182371,-54.92252992803001,-54.98409619095362,-54.99239185987685,-54.971496095922845,-54.95672207121538,-54.933730415729755,-54.90960332990356,-54.89620915585327,-54.92428644370594,-54.93692624395989,-54.92782783250432,-54.90258901238079,-54.925969166415975,-54.92673219547885,-54.89340542306914,-54.86752912804073,-54.90041881429478,-54.91900703910718,-54.94061482666764,-54.93959622541671,-54.93662709619507,-54.942239640114906,-54.93828783058582,-54.915364933430276,-54.91872800304081,-54.9139100348231,-54.90682416644553,-54.89716212280244,-54.88883673125616,-54.88476446094264,-54.87237934125773,-54.87831844780901,-54.901850682034976,-54.909094846275245,-54.94299654316435,-54.97989956996655,-55.01159498083584,-55.03335105667093,-55.043283980169164,-55.021132916176505,-54.983675059371635,-54.98704019546667,-54.98394536125901,-54.96008582028625,-54.9263190261619,-54.98055702423848,-55.019558299182506,-55.053395895187315,-55.066258479350026,-55.05314145913816,-55.04403669843714,-55.04816938730142,-55.0364343019185,-55.010538447743045,-54.973809670390956,-54.92786876500618,-54.90466954179418,-54.904470744439344,-54.9151830554273,-54.918126620774636,-54.92607571822195,-54.93514319838842,-54.92052108828908,-54.89660594545052,-54.885651846539226,-54.890806849761766,-54.909311165401654,-54.926116311856305,-54.94171457962759,-54.958884875865294,-54.97399721009346,-54.98751492429169,-55.00396395802259,-55.01155102869697,-55.00933274574651,-54.99839866904405,-54.96722063592878,-54.920386757968274,-54.93203750170418,-54.943786329610646,-54.94242331948435,-54.936267139593774,-54.94027682529387,-54.941004064859186,-54.938488336250266,-54.93266747843879,-54.92348579348,-54.911048680143644,-54.905951648252966,-54.886958523193634,-54.88611737268041,-54.89717936875345,-54.913191206042,-54.92652691018068,-54.92892149549111,-54.91621072059671,-54.8946578311284,-54.886041170636304,-54.881671811846964,-54.89207038847741,-54.91238270279985,-54.926832002857324,-54.92172643279391,-54.94509840532452,-54.952105994967305,-54.964246444857416,-54.96247985913001,-54.97459806406883,-54.9871015207991,-54.99125779581188,-54.98640116444357,-54.982522458535485,-54.98244679557564,-54.98282815115987,-54.97971632778578,-54.977225589343306,-54.96564569559229,-54.96593676433918,-54.96159771424889,-54.945718137881485,-54.924796685012055,-54.93456148626774,-54.961901282430375,-54.97596767219739,-54.967688137218374,-54.972969297519356,-54.964007262004756,-54.94285685891995,-54.91474010846709,-54.89842915026638,-54.88913521453907,-54.87854942476068,-54.87845886436223,-54.884405135193745,-54.88997344078257,-54.91265904858084,-54.920222984224196,-54.89922471598092,-54.92584751025415,-54.951905231020284,-54.97395982225966,-54.98782662120023,-54.98802932932753,-54.973511482578374,-54.94930095005172,-54.94149593436053,-54.940728093168694,-54.94396727788175,-54.96567457676088,-54.98541617797147,-54.9987919046544,-54.99991483557646,-54.98116820595944,-55.000910420951975,-54.99968054149562,-54.99189179006264,-54.99449993885687,-54.993524939437464,-54.988387640742005,-54.97622555815899,-54.94862307706913,-54.89776216594862,-54.89155159550326,-54.890848728263826,-54.90048436203774,-54.91566235899258,-54.92477503935368,-54.92479805301679,-54.92202085092641,-54.915558243592294,-54.93098331580089,-54.93705534782878,-54.94096402982668,-54.942122830802035,-54.93949666790405,-54.93396337635035,-54.93300373278493,-54.946808189426,-54.98232668866394,-55.014601523330455,-55.02633830001833,-55.011316398246485,-55.01448690709545,-55.009373101480335,-54.98891737626693,-54.9670047946088,-54.94459086988239,-54.94538491384741,-54.957724064397276,-54.969055323016846,-54.98557172352374,-55.01102927004516,-55.028305776932186,-55.03550327833723,-55.026830162517925,-55.020359730957864,-55.01885291330641,-55.01899027064414,-55.02091545244825,-55.01312958863986,-54.99013359867589,-54.96413356873768,-54.93321047236256,-54.9615881368776,-54.98771414639229,-54.97863098429413,-54.98319172725994,-54.99907498913298,-55.017014261131465,-55.02949901374346,-55.03269073858989,-55.026715476861696,-55.01395874063461,-55.007092678555615,-55.00000723836944,-55.001916073907054,-55.00225836603683,-55.001657528579656,-55.00094950596109,-54.99802987352207,-54.99443727572979,-54.98875976310554,-54.97989158267623,-54.99550558343651,-54.987546065959165,-54.96307413171911,-54.93296756318912,-54.902469341326174,-54.89925948707072,-54.904181433944956,-54.90837392610046,-54.917780235064185,-54.93370010463731,-54.947744298578876,-54.96005011367156,-54.97083684626223,-54.98031265168097,-54.99036699855263,-54.99664935401487,-54.99967362055562,-54.99915063205903,-54.99042496865334,-54.97023093793259,-54.94148019830756,-54.913575407169596,-54.90046939815872,-54.886873152638636,-54.880785350627555,-54.84172935810117,-54.84409625027189,-54.85984935220165,-54.869315389594384,-54.86608412208997,-54.88521274774848,-54.90465692020024,-54.93806664641622,-54.954731609339845,-54.960525411667035,-54.96100928602394,-54.957824262249815,-54.95026932437768,-54.94014699519225,-54.9382624352007,-54.936198002088126,-54.94562151972091,-54.955215417977314,-54.967976894907416,-54.9815711600726,-54.992882193028315,-54.999600866481344,-54.9982275961265,-54.98856807452481,-54.979880455648356,-54.99817961937037,-55.00536623487835,-55.00321834369408,-55.000196266406164,-54.992036694490736,-54.98659755768793,-54.980445371870815,-54.97476047659135,-54.985347857973665,-55.00263274064811,-55.00285545058372,-54.9920871860282,-54.994354655289634,-54.984397666864474,-54.96195841883879,-54.957249716630095,-54.95675708163478,-54.95389595894725,-54.94496197076377,-54.93406315146235,-54.922526897493526,-54.9244626343543,-54.92858767361792,-54.93658527384757,-54.93886253593737,-54.93672260386773,-54.93150778718751,-54.926214490724725,-54.919158784624024,-54.91315316056172,-54.905385011022176,-54.889263407116296,-54.873923696037004,-54.85960287656023,-54.86903797400893,-54.88296976825084,-54.884354192123055,-54.87725023030248,-54.866860667592675,-54.853356274268535,-54.864848374791066,-54.874959149509465,-54.884521425489545,-54.89281292441018,-54.90439769179016,-54.91963068541294,-54.93096031543787,-54.93569498631973,-54.930640807206245,-54.91951991529245,-54.91119945499521,-54.90934234505016,-54.90259752464454,-54.891828358882364,-54.88496773130811,-54.901643938003005,-54.921428845335264,-54.931994282275554,-54.93325482718688,-54.94027773150168,-54.9295336730396,-54.91707051826133,-54.911319702068226,-54.92010469619086,-54.93143752855947,-54.939558518928706,-54.94468051621756,-54.95763377190778,-54.968905125906545,-54.9782649006027,-54.9852573027676,-54.98897752486826,-54.98801585618568,-54.98103552054382,-54.96789335250318,-54.95997973819068,-54.95875013412095,-54.95748106378765,-54.96531067120478,-54.97630384425066,-54.97977901159148,-54.976964137179635,-54.961896664276814,-54.966595941998484,-54.969919632893415,-54.97198112925446,-54.972919790583525,-54.97286282569388,-54.97234541863436,-54.971866623839745,-54.9707107005031,-54.974059439724314,-54.976265088339595,-54.97720126018392,-54.97677059651826,-54.98410812265844,-54.990108075055126,-54.993247647153574,-54.99088238134045,-54.97847396274237,-54.975455557956366,-54.97502115732733,-54.96410125263413,-54.943318423326915,-54.94267910415033,-54.95729543747103,-54.959334917230905,-54.95382526656919,-54.95410450452389,-54.95696986643715,-54.957486410559994,-54.95407909933331,-54.941232482881226,-54.939160293358796,-54.940882341898686,-54.936680427970686,-54.928089346380034,-54.916418076601595,-54.90248237958452,-54.890530413640334,-54.87551386954243,-54.870841058294516,-54.86633807562178,-54.87681711654617,-54.891134921044326,-54.90099891429832,-54.900614686200996,-54.886928671302556,-54.897062520882315,-54.900735176210105,-54.893705675448814,-54.87377079971559,-54.87829608615807,-54.872448158759404,-54.869286185823086,-54.87098922909854,-54.873799481004596,-54.87347023730625,-54.867455439298425,-54.85784164488269,-54.86276298287463,-54.862857417678434,-54.882318543655686,-54.899750682405184,-54.91126011669953,-54.91733160324889,-54.91924524424935,-54.92555138496499,-54.93059755271996,-54.932339636727576,-54.92875813652874,-54.919043275962125,-54.91773537332713,-54.91170846618459,-54.90451827833118,-54.89900565516801,-54.889661190852706,-54.89291662069631,-54.90000997157695,-54.90696202572339,-54.91185783423941,-54.919931984342654,-54.9275159266084,-54.933259568518366,-54.94056230869523,-54.947326734209256,-54.945259065562695,-54.94455840115262,-54.94410591634417,-54.953062906047265,-54.95905212417446,-54.96254108950818,-54.964049568298854,-54.96396729704013,-54.96943085996872,-54.97961446091119,-54.98663861463456,-54.98663393277067,-54.98672550686229,-54.98233214749178,-54.97081671350008,-54.959845163581036,-54.95922591627338,-54.97272602367635,-54.97455292203904,-54.97947725203862,-54.9776610248167,-54.97079473653086,-54.96079361737874,-54.95590904194038,-54.95090354106971,-54.944569065062666,-54.93646664651932,-54.92691750244454,-54.921605797927995,-54.92782902320637,-54.93217616427867,-54.9308901751609,-54.92698858206967,-54.92204236400008,-54.91925149089701,-54.925329601073706,-54.92795704356867,-54.92798700525331,-54.92587412075304,-54.926249059434085,-54.925193546621514,-54.922817884119034,-54.942088420161085,-54.95143375573711,-54.95198028854232,-54.94645138741257,-54.93611563120717,-54.92229684249107,-54.925354234034884,-54.92982632465058,-54.93198570187693,-54.92594676750559,-54.91662042424498,-54.90761593410111,-54.924952134099726,-54.939177396076104,-54.9424987236894,-54.93489781324213,-54.918916690786304,-54.899407428685706,-54.88019693237798,-54.894591397412576,-54.906798162627226,-54.913335200201594,-54.91483862129091,-54.91234955593613,-54.90894800313191,-54.908822236867934,-54.898544584264286,-54.89214385022378,-54.89120232635648,-54.8877822639266,-54.88224013392961,-54.879710210785746,-54.88707649619961,-54.890936029544456,-54.89011782108729,-54.890500725785756,-54.89639247853532,-54.89598201888971,-54.897866180929775,-54.89705732092729,-54.89363006800738,-54.88735269816611,-54.88360711484596,-54.87830817141166,-54.861761945128634,-54.87541500549112,-54.894131308675036,-54.90115919665292,-54.89664971449431,-54.885544087189004,-54.87151611133658,-54.88792477090813,-54.89262367905559,-54.88172981017981,-54.88271238148469,-54.88234298177205,-54.88340286581863,-54.878673456219545,-54.87294487304459,-54.864108056028826,-54.8544133637069,-54.848843559966,-54.84316226532315,-54.843309134461265,-54.857758366481825,-54.870216023234036,-54.879976316908845,-54.885730025201624,-54.88539296118894,-54.877894271922784,-54.865333225352146,-54.85683619359153,-54.841591328227665,-54.844197502046235,-54.85355476311072,-54.857270577323085,-54.858083650341825,-54.86396900509504,-54.868204805551144,-54.8707444732662,-54.87128078821145,-54.86897303785982,-54.86589518133863,-54.859891855716334,-54.861347438137265,-54.86021582418239,-54.8555240498642,-54.84641267718568,-54.83857264535197,-54.83766493769268,-54.856658928405395,-54.87149173288757,-54.88208724712128,-54.88876230135271,-54.891574043208486,-54.88983476370582,-54.88234532360087,-54.8685624295531,-54.86922098572781,-54.87556705002228,-54.875263815289586,-54.87277157448692,-54.86723501020596,-54.8600682964014,-54.86032134508344,-54.85419601828589,-54.84519015448198,-54.83823024459106,-54.83184882046209,-54.83036388406269,-54.83419769874446,-54.83396744423084,-54.83898034918923,-54.845539687894856,-54.85285364899905,-54.862898729524154,-54.87240723500493,-54.87716167070043,-54.87225474618588,-54.85611921311705,-54.85448880624746,-54.86536055858474,-54.870974902970126,-54.87106846359082,-54.87248012739806,-54.86956522878059,-54.867177558555866,-54.8583753580295,-54.842352599539424,-54.820845780223536,-54.82720678062378,-54.84134337971531,-54.852135562985666,-54.858448706299114,-54.866305952953766,-54.87552208836973,-54.884392361063284,-54.88649893982319,-54.88247446349271,-54.8845920421042,-54.88567262664431,-54.87802667916038,-54.8604667678043,-54.87099675133206,-54.8815787509233,-54.891245040396925,-54.89689722579933,-54.896784462008135,-54.89201451910492,-54.88905018826583,-54.8855897769303,-54.88001564895252,-54.87826523672031,-54.87589676806413,-54.872830783078925,-54.869000656490435,-54.864365680368806,-54.858920497680366,-54.852697802927004,-54.84576349697931,-54.838206276107854,-54.83012526144078,-54.82161902938745,-54.8148118423095,-54.81008440782115,-54.808439864506646,-54.81641086897085,-54.82671250762468,-54.83779868923256,-54.84832478387816,-54.858098931848104,-54.866821171739986,-54.87399882013261,-54.87884647999599,-54.88029861584609,-54.88562378746566,-54.89207667295887,-54.89555808599087,-54.90030330114432,-54.89786113315216,-54.88692817868838,-54.869519804186915,-54.872704638479895,-54.887200507815606,-54.89216504288995,-54.89262705220777,-54.89023740595787,-54.88531954959215,-54.88736674875061,-54.892333809467644,-54.89379968866693,-54.891073766117174,-54.88623144684965,-54.87976112856677,-54.87442195223155,-54.86265980284436,-54.844892237371965,-54.82321377114045,-54.81276724617972,-54.83156597620406,-54.84905727134891,-54.864774457616065,-54.87427240416225,-54.884869883057576,-54.8953264563668,-54.900303719698556,-54.89691790325708,-54.89062576234803,-54.87559316197529,-54.86917190333658,-54.873220942509924,-54.871363267940716,-54.867530044230186,-54.86892293056555,-54.87251395408826,-54.87726250795423,-54.87847739218076,-54.87946076680342,-54.87851808077754,-54.87586954963597,-54.8703584129009,-54.86519261388184,-54.86598472621851,-54.86676474694394,-54.86498553476957,-54.869461312034254,-54.87488378445072,-54.878730385287255,-54.879776282032815,-54.8741721381724,-54.86207579950737,-54.863323228809136,-54.86112642627803,-54.85581490419183,-54.85248864180413,-54.849238134718156,-54.845016117748465,-54.841420713252305,-54.84117848021626,-54.84069805196927,-54.83848088906133,-54.83989150112669,-54.8452524481265,-54.85566290707247,-54.86424245649255,-54.868384272904294,-54.87106647492384,-54.87220593959678,-54.870370188597086,-54.86914867216846,-54.87300360555566,-54.87922750516326,-54.88081599905589,-54.8789381145299,-54.88319385937082,-54.884492540097426,-54.882074376103645,-54.877933018463935,-54.87040701439157,-54.86194853610884,-54.854677569650136,-54.845562520051644,-54.83499740529555,-54.835659014375345,-54.83754476807708,-54.83097762901654,-54.83191670395654,-54.83091188905069,-54.83100371407551,-54.836521470108764,-54.83852552608285,-54.83681665235795,-54.84661272382691,-54.85359425842266,-54.85191354478208,-54.8601625898781,-54.86999559145018,-54.877339509717395,-54.881570881613115,-54.88266082910722,-54.881658311557196,-54.87591199829288,-54.86816614688876,-54.85849092971201,-54.84844066038167,-54.84135582230809,-54.84380270218662,-54.847727729586694,-54.848359743981256,-54.849592022669064,-54.8540314045412,-54.86228069539146,-54.86915330251741,-54.87419772616159,-54.87663641299065,-54.875248404195716,-54.86861297949213,-54.85604263480278,-54.86211179167735,-54.8668182263643,-54.86667720865532,-54.86422535467007,-54.866808256008525,-54.86811451510083,-54.867711639996244,-54.86488855999099,-54.858727877478195,-54.848501820102605,-54.85200065066252,-54.85587216054169,-54.854718048722184,-54.85242816774894,-54.85158194323055,-54.85132187697757,-54.84901617150779,-54.85224344222289,-54.84709435794618,-54.83624437779848,-54.82914110863653,-54.82926965503242,-54.83681726153657,-54.84386684028239,-54.84803684923195,-54.849959828222026,-54.85006869325216,-54.84858574502482,-54.84563390325107,-54.844886887396925,-54.84649164357413,-54.84706940404138,-54.85033031427366,-54.85370739448005,-54.854511344402184,-54.85209435116326,-54.85843667404123,-54.867719660553576,-54.874614273099894,-54.876644325402154,-54.871917391501036,-54.860549167450685,-54.873282419622235,-54.883659464568765,-54.888736798542624,-54.888799859225934,-54.885282983047716,-54.87959759049483,-54.87261283981018,-54.864746135384884,-54.85616446232701,-54.84692154638837,-54.837031491739104,-54.827516377103336,-54.82586832919161,-54.82631749534178,-54.826519602314185,-54.825122286670066,-54.82590336518845,-54.82416584035903,-54.82656803996709,-54.836610278749156,-54.84780984013193,-54.85815084307447,-54.86657199307604,-54.871132091141035,-54.872832390988265,-54.86924998453565,-54.85499680862061,-54.84838686841358,-54.848521694160695,-54.843451810204144,-54.84878517138468,-54.85262489575104,-54.858318831559885,-54.8637673744882,-54.86751933583603,-54.86908782229815,-54.86802013057908,-54.86411341281332,-54.85839306016585,-54.85813578405781,-54.857596388625815,-54.85674233297612,-54.855530069797624,-54.85443881750747,-54.860699529067155,-54.86861892020585,-54.8754772967869,-54.87897283167581,-54.877242015118625,-54.875009615737355,-54.87697798911603,-54.8739529369298,-54.87452245126467,-54.875564419176555,-54.873381860244436,-54.86841269280088,-54.864081352642465,-54.86049050280017,-54.85783275802925,-54.85655304670015,-54.8495871633272,-54.849561364986116,-54.85096774734302,-54.85405437686342,-54.85859265927468,-54.86152945733916,-54.86308971946903,-54.8634675513465,-54.86275813517982,-54.860917290396785,-54.8577483988857,-54.85539159149586,-54.85731157475645,-54.85744096538703,-54.85615557492934,-54.85865836499403,-54.86084333841062,-54.86458447690407,-54.8681419701005,-54.87096865102298,-54.87297900218959,-54.874040714504574,-54.87394425464967,-54.87238378551805,-54.8689815469835,-54.86338820349663,-54.85543920913356,-54.85020818830918,-54.852609435655005,-54.84994440482055,-54.84450653822988,-54.843199195476316,-54.84336747198148,-54.83994995852953,-54.84248998804697,-54.84917951731612,-54.85425462387257,-54.85652365216305,-54.85493648400127,-54.854811908597,-54.858391520868665,-54.858359005972005,-54.86149821555306,-54.86863209256746,-54.87418526263971,-54.87524812566807,-54.87311596091739,-54.86881663439655,-54.86297394749478,-54.857504965674,-54.8531484773869,-54.84935174841912,-54.846477855983565,-54.84248870616777,-54.837102939613594,-54.82992338958303,-54.826744615014384,-54.82951699590518,-54.831051098823124,-54.845974195068756,-54.85057173061334,-54.84855122331896,-54.844739735003294,-54.836662856745654,-54.831427648372674,-54.832830541121865,-54.83558335883574,-54.836239846321774,-54.83548907868898,-54.832824751326456,-54.831036769912075,-54.8365605940248,-54.8413355080095,-54.84939415773406,-54.86169617145758,-54.86703332022181,-54.865351616295484,-54.86803008184745,-54.870211586505015,-54.872040164533736,-54.872268548060646,-54.870520160785155,-54.86852425094728,-54.86599873173154,-54.86378694532848,-54.85941891262011,-54.852576903502595,-54.84810857190477,-54.841557260934366,-54.838410195175776,-54.84438236361918,-54.849437092293996,-54.855817235480544,-54.85872761109481,-54.8584726798255,-54.85544252568261,-54.84986035579398,-54.845281347386305,-54.837532713268374,-54.842789952630994,-54.85307719700004,-54.8608540630736,-54.864735996786195,-54.86428361553623,-54.860176889468775,-54.858858599527885,-54.85635134432911,-54.85102629975049,-54.84410713899611,-54.83759405381526,-54.829360777414166,-54.82184962427178,-54.82465689450469,-54.82713681145593,-54.829745888940884,-54.83179796289687,-54.83272540800142,-54.832696546046456,-54.83021371412299,-54.836115638863035,-54.84402810358307,-54.85371233135896,-54.86214463099313,-54.86825295172312,-54.86975608602466,-54.87020335527556,-54.87511833127073,-54.87778690183329,-54.8782858056659,-54.8754650795275,-54.86513287144894,-54.85214922254344,-54.858834179001335,-54.862207142217855,-54.86505833676973,-54.866429760984055,-54.86635987916247,-54.864937820742526,-54.862292665434836,-54.85857782485711,-54.85395477369636,-54.8485796494701,-54.84515135783398,-54.84161577328793,-54.837690812883594,-54.8334598260471,-54.82977088800686,-54.82727588619185,-54.82453823020483,-54.82633996928808,-54.836413681772584,-54.84443181827868,-54.847361560397346,-54.847889987818725,-54.85056333853232,-54.849672345062054,-54.85094070615056,-54.851664200499144,-54.84799889841469,-54.83984995762028,-54.82906248284438,-54.8370553516114,-54.84165548720841,-54.840782266528265,-54.85195374021882,-54.860354050914424,-54.865288237262675,-54.86672791296834,-54.865579691430796,-54.86731075230723,-54.866168566420505,-54.8607817656638,-54.851882030605836,-54.85037011969173,-54.847485724315476,-54.84370218593725,-54.842923029007665,-54.84085139616011,-54.83846051176198,-54.836964111756245,-54.83473287039757,-54.8317399910328,-54.82964002953872,-54.830349767100586,-54.82986943558561,-54.82271267575852,-54.83293862504394,-54.84271876660223,-54.85070591976623,-54.8561518728363,-54.85849319987227,-54.8577024976142,-54.85431313125346,-54.84908469566423,-54.85325037310255,-54.85914077493249,-54.86371685333158,-54.86637917011879,-54.86648584999231,-54.86360247660612,-54.857726454233884,-54.84925641682016,-54.8387458250081,-54.83659441654454,-54.83438438854877,-54.833751663237535,-54.83482229878659,-54.83555067006513,-54.835956068013104,-54.83604846929968,-54.837245373066466,-54.841586443821996,-54.845576346087014,-54.84918640094136,-54.85317706291404,-54.85846080133882,-54.863048809347134,-54.86677737207033,-54.869373717965345,-54.87036736395077,-54.87162137690213,-54.86971642073267,-54.86384963759224,-54.85416390677274,-54.8531601919458,-54.859549413431374,-54.8628009853905,-54.864382481794486,-54.863273628350555,-54.86074582968819,-54.862764457125294,-54.86156808937378,-54.8564536378051,-54.85259841810357,-54.85796656676464,-54.86382765871184,-54.86572014050785,-54.8649758776411,-54.86389563141498,-54.86110066050353,-54.85690167660836,-54.85595907597072,-54.85388916524556,-54.850873069071326,-54.8515159894765,-54.85301716640248,-54.85222216933214,-54.84744047480026,-54.83723908020323,-54.83721981421987,-54.841792885284285,-54.845896210039655,-54.84843458102973,-54.84939385084726,-54.84997000782521,-54.85093315200635,-54.85086073905584,-54.84994180461703,-54.848314687723644,-54.84606884733182,-54.84325637774403,-54.84240347417641,-54.84113287185525,-54.839394436998475,-54.837458855205,-54.839082969521776,-54.83988662639304,-54.83971393383253,-54.83837521794428,-54.835659581225144,-54.84493481596657,-54.852354067087774,-54.853649628068865,-54.8508035192565,-54.85675073704089,-54.85983991214432,-54.8598754256814,-54.85784283151158,-54.859877381759986,-54.86237748668805,-54.86290817651581,-54.86336896341039,-54.8603744784186,-54.85293671734193,-54.84331266822128,-54.842246090427004,-54.85159025631054,-54.85755718700693,-54.85987498480251,-54.86146477514273,-54.86401292921901,-54.86167961432965,-54.85288041389015]}},\"id\":\"e0ea1c91-d4f8-4341-a896-7d94cb02162d\",\"type\":\"ColumnDataSource\"},{\"attributes\":{},\"id\":\"7bbb801d-f71c-4383-a080-d6cd3ab7e8cd\",\"type\":\"BasicTickFormatter\"},{\"attributes\":{\"callback\":null,\"column_names\":[\"y\",\"x\"],\"data\":{\"x\":[0,1,2,3,4,5,6,7,8,9,10,11,12,13,14,15,16,17,18,19,20,21,22,23,24,25,26,27,28,29,30,31,32,33,34,35,36,37,38,39,40,41,42,43,44,45,46,47,48,49,50,51,52,53,54,55,56,57,58,59,60,61,62,63,64,65,66,67,68,69,70,71,72,73,74,75,76,77,78,79,80,81,82,83,84,85,86,87,88,89,90,91,92,93,94,95,96,97,98,99,100,101,102,103,104,105,106,107,108,109,110,111,112,113,114,115,116,117,118,119,120,121,122,123,124,125,126,127,128,129,130,131,132,133,134,135,136,137,138,139,140,141,142,143,144,145,146,147,148,149,150,151,152,153,154,155,156,157,158,159,160,161,162,163,164,165,166,167,168,169,170,171,172,173,174,175,176,177,178,179,180,181,182,183,184,185,186,187,188,189,190,191,192,193,194,195,196,197,198,199,200,201,202,203,204,205,206,207,208,209,210,211,212,213,214,215,216,217,218,219,220,221,222,223,224,225,226,227,228,229,230,231,232,233,234,235,236,237,238,239,240,241,242,243,244,245,246,247,248,249,250,251,252,253,254,255,256,257,258,259,260,261,262,263,264,265,266,267,268,269,270,271,272,273,274,275,276,277,278,279,280,281,282,283,284,285,286,287,288,289,290,291,292,293,294,295,296,297,298,299,300,301,302,303,304,305,306,307,308,309,310,311,312,313,314,315,316,317,318,319,320,321,322,323,324,325,326,327,328,329,330,331,332,333,334,335,336,337,338,339,340,341,342,343,344,345,346,347,348,349,350,351,352,353,354,355,356,357,358,359,360,361,362,363,364,365,366,367,368,369,370,371,372,373,374,375,376,377,378,379,380,381,382,383,384,385,386,387,388,389,390,391,392,393,394,395,396,397,398,399,400,401,402,403,404,405,406,407,408,409,410,411,412,413,414,415,416,417,418,419,420,421,422,423,424,425,426,427,428,429,430,431,432,433,434,435,436,437,438,439,440,441,442,443,444,445,446,447,448,449,450,451,452,453,454,455,456,457,458,459,460,461,462,463,464,465,466,467,468,469,470,471,472,473,474,475,476,477,478,479,480,481,482,483,484,485,486,487,488,489,490,491,492,493,494,495,496,497,498,499,500,501,502,503,504,505,506,507,508,509,510,511,512,513,514,515,516,517,518,519,520,521,522,523,524,525,526,527,528,529,530,531,532,533,534,535,536,537,538,539,540,541,542,543,544,545,546,547,548,549,550,551,552,553,554,555,556,557,558,559,560,561,562,563,564,565,566,567,568,569,570,571,572,573,574,575,576,577,578,579,580,581,582,583,584,585,586,587,588,589,590,591,592,593,594,595,596,597,598,599,600,601,602,603,604,605,606,607,608,609,610,611,612,613,614,615,616,617,618,619,620,621,622,623,624,625,626,627,628,629,630,631,632,633,634,635,636,637,638,639,640,641,642,643,644,645,646,647,648,649,650,651,652,653,654,655,656,657,658,659,660,661,662,663,664,665,666,667,668,669,670,671,672,673,674,675,676,677,678,679,680,681,682,683,684,685,686,687,688,689,690,691,692,693,694,695,696,697,698,699,700,701,702,703,704,705,706,707,708,709,710,711,712,713,714,715,716,717,718,719,720,721,722,723,724,725,726,727,728,729,730,731,732,733,734,735,736,737,738,739,740,741,742,743,744,745,746,747,748,749,750,751,752,753,754,755,756,757,758,759,760,761,762,763,764,765,766,767,768,769,770,771,772,773,774,775,776,777,778,779,780,781,782,783,784,785,786,787,788,789,790,791,792,793,794,795,796,797,798,799,800,801,802,803,804,805,806,807,808,809,810,811,812,813,814,815,816,817,818,819,820,821,822,823,824,825,826,827,828,829,830,831,832,833,834,835,836,837,838,839,840,841,842,843,844,845,846,847,848,849,850,851,852,853,854,855,856,857,858,859,860,861,862,863,864,865,866,867,868,869,870,871,872,873,874,875,876,877,878,879,880,881,882,883,884,885,886,887,888,889,890,891,892,893,894,895,896,897,898,899,900,901,902,903,904,905,906,907,908,909,910,911,912,913,914,915,916,917,918,919,920,921,922,923,924,925,926,927,928,929,930,931,932,933,934,935,936,937,938,939,940,941,942,943,944,945,946,947,948,949,950,951,952,953,954,955,956,957,958,959,960,961,962,963,964,965,966,967,968,969,970,971,972,973,974,975,976,977,978,979,980,981,982,983,984,985,986,987,988,989,990,991,992,993,994,995,996,997,998,999,1000,1001,1002,1003,1004,1005,1006,1007,1008,1009,1010,1011,1012,1013,1014,1015,1016,1017,1018,1019,1020,1021,1022,1023,1024,1025,1026,1027,1028,1029,1030,1031,1032,1033,1034,1035,1036,1037,1038,1039,1040,1041,1042,1043,1044,1045,1046,1047,1048,1049,1050,1051,1052,1053,1054,1055,1056,1057,1058,1059,1060,1061,1062,1063,1064,1065,1066,1067,1068,1069,1070,1071,1072,1073,1074,1075,1076,1077,1078,1079,1080,1081,1082,1083,1084,1085,1086,1087,1088,1089,1090,1091,1092,1093,1094,1095,1096,1097,1098,1099,1100,1101,1102,1103,1104,1105,1106,1107,1108,1109,1110,1111,1112,1113,1114,1115,1116,1117,1118,1119,1120,1121,1122,1123,1124,1125,1126,1127,1128,1129,1130,1131,1132,1133,1134,1135,1136,1137,1138,1139,1140,1141,1142,1143,1144,1145,1146,1147,1148,1149,1150,1151,1152,1153,1154,1155,1156,1157,1158,1159,1160,1161,1162,1163,1164,1165,1166,1167,1168,1169,1170,1171,1172,1173,1174,1175,1176,1177,1178,1179,1180,1181,1182,1183,1184,1185,1186,1187,1188,1189,1190,1191,1192,1193,1194,1195,1196,1197,1198,1199,1200,1201,1202,1203,1204,1205,1206,1207,1208,1209,1210,1211,1212,1213,1214,1215,1216,1217,1218,1219,1220,1221,1222,1223,1224,1225,1226,1227,1228,1229,1230,1231,1232,1233,1234,1235,1236,1237,1238,1239,1240,1241,1242,1243,1244,1245,1246,1247,1248,1249,1250,1251,1252,1253,1254,1255,1256,1257,1258,1259,1260,1261,1262,1263,1264,1265,1266,1267,1268,1269,1270,1271,1272,1273,1274,1275,1276,1277,1278,1279,1280,1281,1282,1283,1284,1285,1286,1287,1288,1289,1290,1291,1292,1293,1294,1295,1296,1297,1298,1299,1300,1301,1302,1303,1304,1305,1306,1307,1308,1309,1310,1311,1312,1313,1314,1315,1316,1317,1318,1319,1320,1321,1322,1323,1324,1325,1326,1327,1328,1329,1330,1331,1332,1333,1334,1335,1336,1337,1338,1339,1340,1341,1342,1343,1344,1345,1346,1347,1348,1349,1350,1351,1352,1353,1354,1355,1356,1357,1358,1359,1360,1361,1362,1363,1364,1365,1366,1367,1368,1369,1370,1371,1372,1373,1374,1375,1376,1377,1378,1379,1380,1381,1382,1383,1384,1385,1386,1387,1388,1389,1390,1391,1392,1393,1394,1395,1396,1397,1398,1399,1400,1401,1402,1403,1404,1405,1406,1407,1408,1409,1410,1411,1412,1413,1414,1415,1416,1417,1418,1419,1420,1421,1422,1423,1424,1425,1426,1427,1428,1429,1430,1431,1432,1433,1434,1435,1436,1437,1438,1439,1440,1441,1442,1443,1444,1445,1446,1447,1448,1449,1450,1451,1452,1453,1454,1455,1456,1457,1458,1459,1460,1461,1462,1463,1464,1465,1466,1467,1468,1469,1470,1471,1472,1473,1474,1475,1476,1477,1478,1479,1480,1481,1482,1483,1484,1485,1486,1487,1488,1489,1490,1491,1492,1493,1494,1495,1496,1497,1498,1499],\"y\":[-60.900000000000006,-64.68333333333335,-60.73050610801136,-58.035435645729955,-56.860866523786456,-55.93946818873291,-56.306455282303034,-56.980535642623146,-56.197410571315935,-55.52468359065272,-56.064173016337804,-56.264727232936934,-55.84677921334399,-55.086399030132426,-55.573249282603456,-56.11368121146108,-56.33406936932444,-56.18486814858866,-55.90679919453592,-55.60429480860023,-55.247228872169586,-55.37909684220949,-55.48899751761297,-55.44838773108949,-55.2147613690647,-55.3255744095426,-55.523820462385686,-55.580910200655254,-55.47937749893886,-55.404693182519416,-55.390632186436434,-55.4002037684746,-55.29561415827294,-55.16169727852107,-55.227962397186694,-55.3034546804798,-55.388846796222595,-55.35939591189994,-55.22681891144985,-55.001497123737025,-54.982337393740444,-55.07273760944089,-55.20245686949699,-55.297281375516505,-55.31468575764621,-55.257296242045214,-55.21460712744691,-55.18317717063321,-55.11619491450141,-55.015918635259,-54.9297418181429,-55.00600752612357,-55.092580713593605,-55.118499976685534,-55.0916032810712,-55.01166361925147,-54.911376839476006,-54.91053891454795,-55.00906956624088,-55.1026816052271,-55.144340177387036,-55.13735445712933,-55.084794950464,-55.04469140066044,-55.0346448662913,-55.00538402486812,-54.97177572054637,-54.91740072814079,-54.96313439480947,-55.05270101077349,-55.09681299616946,-55.10218955555452,-55.05851543108893,-54.988049867799155,-54.93926745130015,-54.95243714340272,-55.002953038325,-55.03040026961022,-55.03593149242781,-55.054582910549684,-55.057742230630865,-55.044541821013105,-55.024394485039835,-55.009844211147886,-54.96650802891985,-54.89572832724133,-54.8688582789721,-54.91536692619505,-54.98040038835474,-55.017183423008106,-55.02694623358378,-55.01085817835045,-54.970031306626865,-54.90552365689616,-54.8826757439946,-54.899381719082854,-54.92524231794913,-54.94747982623705,-54.974860333999494,-54.97867596174923,-54.98513397392941,-54.981247057094166,-54.965896751321395,-54.93952393820146,-54.902550343808144,-54.85537951653912,-54.89584794558651,-54.952568238762666,-54.99630610738747,-55.01951752300206,-55.02293714020508,-55.00726974241806,-54.97319167121414,-54.92135217627636,-54.89241718194515,-54.89820313987535,-54.894155429872136,-54.89752688643953,-54.94322506529642,-54.97057342847999,-54.980251057087145,-54.972915831499165,-54.948418980513054,-54.93495985702091,-54.91503542997292,-54.8869596941533,-54.85099118412141,-54.86751067582039,-54.92364434676458,-54.964207966242924,-54.98899198626981,-54.99847117635026,-54.9934468011146,-54.97333353350917,-54.9395875649411,-54.898887958935084,-54.90509268417574,-54.9249196998758,-54.93536829638123,-54.93670441846645,-54.92918542809683,-54.93170615528912,-54.93779063393156,-54.95342009681823,-54.96422665042893,-54.961886673800436,-54.94675696963087,-54.91968364776409,-54.896060350269835,-54.89582711906612,-54.91785388701261,-54.93853823909368,-54.94560564768705,-54.9394086805513,-54.920289535162716,-54.89551133500918,-54.881353746830285,-54.8722103052977,-54.89457070897144,-54.910518229692244,-54.93149816485689,-54.94608916037358,-54.95334929511069,-54.95345627043555,-54.946582884688596,-54.93289719282965,-54.9125626600347,-54.88573830950506,-54.85781984858784,-54.84401449986673,-54.87101181926107,-54.893152149503514,-54.90986456625355,-54.92219888772074,-54.93882480783043,-54.94214412405156,-54.93245697653214,-54.91005581469022,-54.875225629695514,-54.828244178771406,-54.83486153581869,-54.86165026386452,-54.89220476128413,-54.916417968237106,-54.93442531732332,-54.94635893341234,-54.95234772914226,-54.95251749720613,-54.946990999549755,-54.93588805359924,-54.91932561563141,-54.897417861395375,-54.872694615497764,-54.85063446621255,-54.839003779208866,-54.868898347477725,-54.902155893534356,-54.925987899367705,-54.94058252925132,-54.94612366396119,-54.94279101597879,-54.93076024108454,-54.91020304647129,-54.885370715843905,-54.8643472962259,-54.87475607890511,-54.87821541309422,-54.882230676269664,-54.88052787311419,-54.87666046290861,-54.8759618869099,-54.889898699313726,-54.900832335552025,-54.90691180835601,-54.908226943033725,-54.904865671182684,-54.89691407786415,-54.8844564474081,-54.86757530789398,-54.87545885009958,-54.896822487018106,-54.9111684050841,-54.91862186017971,-54.919305560587624,-54.913339728220436,-54.90084215813489,-54.88192827638615,-54.85671119627488,-54.843538817114805,-54.840418945047404,-54.85205759484704,-54.87926831991256,-54.89976113297771,-54.91364997635787,-54.921046586085076,-54.92206054242588,-54.91679931905065,-54.905368330895215,-54.88787098075511,-54.87897483144401,-54.869915366480924,-54.85773156085679,-54.853370329141384,-54.84766335986663,-54.84041759637787,-54.86543363027119,-54.88605215529289,-54.90072646198282,-54.909551549142904,-54.91262068448537,-54.91002544192609,-54.901855737941126,-54.888199867013384,-54.8691445361956,-54.87431953146713,-54.877352131732835,-54.87738080912774,-54.87445207139007,-54.87995279823191,-54.89290471890136,-54.902858764917696,-54.90986032656415,-54.91395400906764,-54.915183648664105,-54.913592328280174,-54.909222392841976,-54.902115464220955,-54.89538216830444,-54.890548224890296,-54.884404856626034,-54.876971509671414,-54.86826730327245,-54.86284443695167,-54.87213583351727,-54.875849481235285,-54.88209196414898,-54.883669145181116,-54.87866458006501,-54.86725965219492,-54.84928631832397,-54.84814269673795,-54.857924784907866,-54.86279255215443,-54.8628150368461,-54.86170083387985,-54.86545738971263,-54.867601845842735,-54.87334245735239,-54.87602007673887,-54.87567680264058,-54.87235407449744,-54.87367949740867,-54.88412998613795,-54.89131065140664,-54.895265630923234,-54.89603838304432,-54.89367169914315,-54.888207715715396,-54.87968792622866,-54.868153192721856,-54.8536437571605,-54.8496679236043,-54.848814675719076,-54.85584657222428,-54.862852361589546,-54.86972750423941,-54.88088671016179,-54.8877273572262,-54.89030513344866,-54.88867490831774,-54.88289074702659,-54.87300592441635,-54.859072938637446,-54.8565821385941,-54.859350002584556,-54.86274699587114,-54.8623868563574,-54.86486131024883,-54.86292208260548,-54.85662434261658,-54.84602247517988,-54.8329514833514,-54.83328113122721,-54.84731108333899,-54.85914271875208,-54.86880278568544,-54.87631766019746,-54.881713352316844,-54.88501551205561,-54.886249435306794,-54.8854400696294,-54.88261201992293,-54.87778955399428,-54.87099660801881,-54.86247424854419,-54.85191335182482,-54.83930785251825,-54.83468506920288,-54.8323506617442,-54.834127835246456,-54.84460184392926,-54.85104186494699,-54.85349481814313,-54.852817015206696,-54.853122081923914,-54.85701083067853,-54.85730489070151,-54.86426898119562,-54.87185894810977,-54.87590446841497,-54.87644581889612,-54.873522754792646,-54.86717451778928,-54.85743984386389,-54.847851412972226,-54.84157477921212,-54.83357978491171,-54.823839094122675,-54.83158394544819,-54.84340212454067,-54.85280161812695,-54.85980899952498,-54.864450508687554,-54.86675205715345,-54.86673923291242,-54.86488641556081,-54.86277645355858,-54.85751287914191,-54.86343105613119,-54.870238557728065,-54.87528654352221,-54.87859385115195,-54.88017908815964,-54.880060635318344,-54.8782566499024,-54.874785068902966,-54.869663612189555,-54.863852473197404,-54.85936299102454,-54.85521857851873,-54.84814661927328,-54.8381778134346,-54.82534249523677,-54.81044882814224,-54.82266204963752,-54.83569976969631,-54.84829598255888,-54.8602276704684,-54.86930841135025,-54.87578265057441,-54.879337999828316,-54.88000417396242,-54.87781054310845,-54.87278613741205,-54.8649596516895,-54.854359450009994,-54.841744172243175,-54.828458665312446,-54.83303430909234,-54.836830949996276,-54.83985630922322,-54.84211802052902,-54.844499351287965,-54.84617099451556,-54.845530937449944,-54.85180048264247,-54.85748198910466,-54.86210381231003,-54.86555381099388,-54.86719829291087,-54.86705478325949,-54.86550745042818,-54.863128253811055,-54.85930995294719,-54.8540664460003,-54.847411478587816,-54.8393586457612,-54.8299213939563,-54.8200110474285,-54.8161358585433,-54.81178996617545,-54.81639894313629,-54.82983721825757,-54.84056754119454,-54.848719131932675,-54.854086102574996,-54.85684769095498,-54.85870230445322,-54.85804264895676,-54.854892098369156,-54.84927377919739,-54.842649439426985,-54.833650852629106,-54.828160278776764,-54.82351961275466,-54.818011202656066,-54.81888871229597,-54.82845578766717,-54.83635766885177,-54.84260939823211,-54.84794906243047,-54.85280598009501,-54.85585452432434,-54.8579059097483,-54.85864165848454,-54.85807355425434,-54.856335764710266,-54.85326001405248,-54.84903650498716,-54.84355405244839,-54.83710392336002,-54.82997594151188,-54.82135054753191,-54.811240986851274,-54.80353904696007,-54.81533525813611,-54.82818104319393,-54.838067654624666,-54.84596017252848,-54.851275232877455,-54.85492091701318,-54.85735432415967,-54.85768551755146,-54.856210738806496,-54.8526263510946,-54.84740811256822,-54.840043348869294,-54.830643334054166,-54.82759594301254,-54.83069870568533,-54.83259746472103,-54.83330239046643,-54.833163322770005,-54.83134338682088,-54.82869840494122,-54.83415517603374,-54.840721560553305,-54.846082337602795,-54.850247526529216,-54.85322705159546,-54.85503074304915,-54.855668338177395,-54.85560860019437,-54.85368626569444,-54.85118056202568,-54.8475804933583,-54.84285995506183,-54.83702815955875,-54.8300942332192,-54.83055394590922,-54.83515607318002,-54.837687688994926,-54.83816557044341,-54.840996347388554,-54.84415404037003,-54.84503260199907,-54.846242389720864,-54.844803810123295,-54.84064746657194,-54.83379512496813,-54.8281768174763,-54.82186094433138,-54.82749954542296,-54.83439455028609,-54.84075176607617,-54.846010859416694,-54.85018044363638,-54.85326905487045,-54.855285152880306,-54.85623712186304,-54.856685742323485,-54.860588857104155,-54.86319742311803,-54.86452148304962,-54.864570990716125,-54.863355811998716,-54.860885725762486,-54.85717042476513,-54.85221951655457,-54.84604252435555,-54.83864888794564,-54.83004796452038,-54.82024902954818,-54.82572014825008,-54.83156128965717,-54.83838103425294,-54.843330141792826,-54.84642274225597,-54.84983929454671,-54.853194351205445,-54.858362606718345,-54.862178228298106,-54.863507973866874,-54.862370451954945,-54.858784112410575,-54.856954524121946,-54.85352814359091,-54.84818249607273,-54.84093185649006,-54.83179037904051,-54.8296959181061,-54.83272767457014,-54.83393175010632,-54.833983005081706,-54.83754831931347,-54.843346832682286,-54.84827601397882,-54.85202729096959,-54.85460921241957,-54.8560302562786,-54.856298830376346,-54.855423273109196,-54.85341185411935,-54.85478077807821,-54.85664439086588,-54.85757324146539,-54.857574026896735,-54.85665338947254,-54.854817917327246,-54.852074144940445,-54.84842855365429,-54.84388757218504,-54.83845757712889,-54.83607917473671,-54.844763677295774,-54.85225027007136,-54.85785278153551,-54.861584445911724,-54.863458391385805,-54.86348764111221,-54.8616851142091,-54.85806362674249,-54.85263589269943,-54.84541452495047,-54.83641203620162,-54.825640839935716,-54.82755181005352,-54.83465674163846,-54.84085262621036,-54.84614569699122,-54.850542138349546,-54.85404808625408,-54.85666962872264,-54.85841280626609,-54.85928361232753,-54.85928799371665,-54.858431851039555,-54.85958697588243,-54.86062295071377,-54.860053349848734,-54.85788903834437,-54.8541407975184,-54.84881932571342,-54.842798464643366,-54.83958059492009,-54.838045140835874,-54.83494925533118,-54.831404979616025,-54.83010370592441,-54.827981345693345,-54.825043365783394,-54.82811618383437,-54.83742078307135,-54.845188826525956,-54.85143042952596,-54.85615563135236,-54.85937439591671,-54.86109661243158,-54.861332096073866,-54.86009058864136,-54.85738175920241,-54.85321520473889,-54.847600450782636,-54.841711881724905,-54.8395470960285,-54.83634340374132,-54.83210755098991,-54.82684623406541,-54.82056609985928,-54.82077963300286,-54.82600929775113,-54.83269267853764,-54.841128393528095,-54.8480583610785,-54.85349218296017,-54.85743939104561,-54.85990944791149,-54.860911747435416,-54.86045561538673,-54.85855031001135,-54.85520502261078,-54.85042887811529,-54.84441959024492,-54.842305267995826,-54.83982123101924,-54.83642260761138,-54.832115148502055,-54.82690456328,-54.82079652074138,-54.81379664923476,-54.81227252645368,-54.821763715331215,-54.83212134515462,-54.841527538943865,-54.849372099657685,-54.85566466184263,-54.860414792181984,-54.86363199006214,-54.865325688133424,-54.8655052528655,-54.86417998509733,-54.86217642295647,-54.85927550083399,-54.855056131734095,-54.84952637974304,-54.842694252828366,-54.834883892269325,-54.83780789664894,-54.840002589630835,-54.84147237629371,-54.84222163134971,-54.84225469939234,-54.84157589514225,-54.84018950369041,-54.839910566958224,-54.839626909905064,-54.83899592774071,-54.83801970143078,-54.840815207627344,-54.84419377236202,-54.84685577605111,-54.84880547141944,-54.850047082388954,-54.85139245261503,-54.85355085844483,-54.85439600677641,-54.853935650847255,-54.85217749173025,-54.84912917874943,-54.84479830989172,-54.83919243221497,-54.83364297403762,-54.82882196871702,-54.82333460660668,-54.82850810824472,-54.833489659889175,-54.83721358955181,-54.83968719446685,-54.840917723573796,-54.84509451957307,-54.848375490658434,-54.850272351552505,-54.85079308299573,-54.84994561327443,-54.847737818629284,-54.84674388883343,-54.84556793994089,-54.843190448605235,-54.839618295328336,-54.83485831575338,-54.828917301011096,-54.82277717296219,-54.827123440362605,-54.83287936463529,-54.83739384165261,-54.840673883653324,-54.84272645767207,-54.84355848588469,-54.843176845950374,-54.845491086663685,-54.848219386665896,-54.85157496834504,-54.85413989274172,-54.855918575569085,-54.85691540439531,-54.8571347388561,-54.85658091086548,-54.85525822482461,-54.853170957828716,-54.85032335987233,-54.84671965405265,-54.84236403677109,-54.8372606779332,-54.83141372114664,-54.82646058124705,-54.82988302113153,-54.832476673666726,-54.834246081848754,-54.83519576026299,-54.835330195294596,-54.83465384533718,-54.833602794299935,-54.836541930691766,-54.83946595632774,-54.84117345729521,-54.842420347233954,-54.84368824988859,-54.84343838375098,-54.8416789640924,-54.838418155526426,-54.83366407237878,-54.82742477905422,-54.81970829040014,-54.81217438492452,-54.814793550138106,-54.81762669320283,-54.81932687528605,-54.823295557881714,-54.82724447575497,-54.83058457716581,-54.83331909294189,-54.836883810226865,-54.839788144782695,-54.84196656022262,-54.84342289166781,-54.844160951118354,-54.844184527618445,-54.84356808588534,-54.84518932749073,-54.846225104711756,-54.8466784878684,-54.84655252891348,-54.84585026156276,-54.844574701424186,-54.84343743158806,-54.84312262314038,-54.842526329019606,-54.84165001626518,-54.84049514321033,-54.839063159543244,-54.83735550636766,-54.835373616263226,-54.83311891334506,-54.83267751016913,-54.837652219638294,-54.84145560649006,-54.84409368879458,-54.845572449350094,-54.8458978359279,-54.84544384163003,-54.84665560730884,-54.84684317597665,-54.84601177897714,-54.844166617208145,-54.8413128613314,-54.83745565198086,-54.834305609498784,-54.83609416024397,-54.83732501895132,-54.838001004698285,-54.838124920310364,-54.83769955247212,-54.836727671837366,-54.83521203313832,-54.83315537529404,-54.83056042151792,-54.82941547036259,-54.83110696058949,-54.83284420278831,-54.83403878888564,-54.83469342220399,-54.83481079070144,-54.83439356707511,-54.833444408863826,-54.83196595854999,-54.82996084366064,-54.827431676867704,-54.82438105608745,-54.82737542246967,-54.82986971816216,-54.831393682372656,-54.83195594618509,-54.831549684031856,-54.83019118855603,-54.830286233608064,-54.8314953982509,-54.83188333127616,-54.83205276538013,-54.8309274008659,-54.82851355633841,-54.824817515279726,-54.821974154771226,-54.82436696290096,-54.829405568104164,-54.833461049840515,-54.836538157229356,-54.83953754250769,-54.8417128290422,-54.842960870250735,-54.84328612864002,-54.84269304222769,-54.84118602470147,-54.83876946557724,-54.83544773035584,-54.83122516067867,-54.827964896522566,-54.82692989692572,-54.82528655168218,-54.82733247723643,-54.83154172179293,-54.83508186820096,-54.83795608500095,-54.84016752360263,-54.84171931839483,-54.84261458685435,-54.84285642965417,-54.84259385445323,-54.84177329274933,-54.840053361214835,-54.83743829621468,-54.83437161949759,-54.83075709487811,-54.826510387716894,-54.82163446805325,-54.81613229006029,-54.816074918654245,-54.816781161968926,-54.81937501499233,-54.822983330254466,-54.82609908270247,-54.82872455065756,-54.83086200040157,-54.83251368625223,-54.83407360575935,-54.836271272382135,-54.83822713223166,-54.8399422958032,-54.84141786776408,-54.842654946989846,-54.84365462660035,-54.844417993995435,-54.844946130890406,-54.84524011335125,-54.845301011829676,-54.84512989119767,-54.84472781078211,-54.84409582439886,-54.84323498038684,-54.84214632164163,-54.84171263775805,-54.84126235075358,-54.84003995869989,-54.83804896102724,-54.83529283910028,-54.83177505632852,-54.834849923591534,-54.838190026578744,-54.84057720148476,-54.842015730215806,-54.84250987273536,-54.84206386719741,-54.84068193007881,-54.8383682563105,-54.83512701940806,-54.83096237160117,-54.8258784439621,-54.81987934653353,-54.81675078764053,-54.81663987179026,-54.82044667755668,-54.8237906139116,-54.82667372550833,-54.82909804668293,-54.8310656015159,-54.83257840389341,-54.8336384575682,-54.835078908799396,-54.83596308343864,-54.83600807678045,-54.83705258475042,-54.83786214709439,-54.838104499681364,-54.838602028557816,-54.83856133703455,-54.83798477587488,-54.83687468413759,-54.835233389246056,-54.833063207056696,-54.83036644192713,-54.827145386783904,-54.823402323189484,-54.82564897885095,-54.82858008386045,-54.830933161982,-54.83271070702919,-54.834339229926734,-54.83641354193159,-54.83797783800161,-54.839398382416775,-54.843107127625125,-54.8459597638722,-54.84795995865666,-54.84911136155307,-54.849417604315704,-54.84888230098163,-54.84750904797315,-54.84656514784157,-54.84512277099028,-54.84291160464858,-54.83993492329298,-54.83619598551792,-54.8316980341269,-54.82644429622328,-54.82043798330016,-54.82272660501566,-54.82643586111145,-54.830798273981245,-54.834640921467766,-54.83796598491186,-54.840775635194596,-54.843072032796705,-54.84485732785762,-54.84613366023423,-54.84777598844421,-54.84900127230188,-54.84947986208215,-54.849214876007174,-54.84820941745309,-54.84646657503375,-54.843989422683954,-54.841622130188945,-54.83924352612215,-54.836374645525744,-54.83301752630652,-54.829174196730904,-54.82484667547884,-54.820410307034436,-54.81787341356993,-54.814910485457325,-54.814074631210275,-54.813703970308715,-54.813136265477766,-54.81762146924201,-54.824179658840215,-54.829901081233835,-54.83478915498364,-54.83884728270209,-54.84207885114156,-54.844487231281896,-54.846075778417585,-54.84684783224412,-54.84680671694404,-54.84595574127226,-54.84429819864093,-54.84183736720372,-54.83857650993958,-54.834827953193,-54.831378261264824,-54.82709715653631,-54.82381460972173,-54.82821692258494,-54.83190669080016,-54.83485439502011,-54.83706301552958,-54.83853551895604,-54.84078495539951,-54.84289174986418,-54.84460528811941,-54.84592714122514,-54.84685887307866,-54.84740204045325,-54.84755819303675,-54.84732887346974,-54.84671561738348,-54.84571995343767,-54.844343403357996,-54.84258748197329,-54.840453697252656,-54.837943550342224,-54.835058535601696,-54.83434714792793,-54.83423114041153,-54.833929312079334,-54.83344239615541,-54.83277112256749,-54.83191621796462,-54.83087840573455,-54.82965840602108,-54.829789648958666,-54.833054426395776,-54.83554609757223,-54.83726768395302,-54.83822219353327,-54.83841262090937,-54.837841947349666,-54.83651314086485,-54.8344291562777,-54.83159293529258,-54.82800740656443,-54.82604545764687,-54.82610099159988,-54.82838508195886,-54.830297295324485,-54.83183906568948,-54.83301182073281,-54.83381698185269,-54.83425596419928,-54.83433017670731,-54.834041022128396,-54.833389897063185,-54.83237819199336,-54.83100729131336,-54.82927857336199,-54.82719341045381,-54.82475316891029,-54.82396543908263,-54.824123328256675,-54.8238434980174,-54.82312761648459,-54.821977344531604,-54.82039433582257,-54.82002035084692,-54.82024120316609,-54.82474187785189,-54.82881583254587,-54.83246467702405,-54.83569001412325,-54.83849343977651,-54.840876543048395,-54.84284090617004,-54.84438810457394,-54.84551970692861,-54.846237275172996,-54.8465423645507,-54.84643652364396,-54.84592129440751,-54.84499821220216,-54.8436688058282,-54.84193459755862,-54.839797103172124,-54.83725783198598,-54.8343182868886,-54.830979964372,-54.82761499973895,-54.825387927551446,-54.82319726948225,-54.82526673545659,-54.8269121707026,-54.82813514338288,-54.82893721504124,-54.82931994063575,-54.82928486857166,-54.8288335407342,-54.82796749252104,-54.82668825287466,-54.82499734431454,-54.824116049549026,-54.82294673246957,-54.821439747686405,-54.81959633618588,-54.817417733761765,-54.81490517104097,-54.81205987350912,-54.811615658450336,-54.81275407300565,-54.81574878233107,-54.820032297827666,-54.82362009156418,-54.826514690391754,-54.82871861068769,-54.830234358406834,-54.83106442913282,-54.83121130812887,-54.83067747038846,-54.82946538068547,-54.82930487477237,-54.83117032841293,-54.832868886154316,-54.83440114731082,-54.83576770873708,-54.83696916484003,-54.838006107590815,-54.838879126536625,-54.84033367898659,-54.84163046520301,-54.84238110811822,-54.8425875620305,-54.84225177326442,-54.84137568020934,-54.84044941095578,-54.840031976137894,-54.83945581628127,-54.838721497329885,-54.83782958292946,-54.83678063443875,-54.83557521094042,-54.83421386925193,-54.83269716393654,-54.83102564731399,-54.82928637767064,-54.82779240513911,-54.82857635645859,-54.830118002649215,-54.831074133782266,-54.83144681133478,-54.831238088506936,-54.830450010261416,-54.82908461336251,-54.82714392641513,-54.82462996990355,-54.82154475622984,-54.81789028975226,-54.813668566823296,-54.80918332709951,-54.80781397421718,-54.806134022940164,-54.808676016600515,-54.811903614651584,-54.814810161583026,-54.817396769914104,-54.819664547759764,-54.821614598851184,-54.82324802255646,-54.82456591390097,-54.82556936358773,-54.82655321631758,-54.82806737202738,-54.828996478775196,-54.82934255414046,-54.829107607768734,-54.82829364140875,-54.82690264894916,-54.8275627770047,-54.82903054200065,-54.83082787013655,-54.83232804728606,-54.83326579833818,-54.83466637456068,-54.8358923540072,-54.836715658431274,-54.83713766186793,-54.83715973300497,-54.836783235207655,-54.83600952654322,-54.83483995980526,-54.83327588253802,-54.83131863706049,-54.830364482873506,-54.83252597674333,-54.83414069098591,-54.83521047457517,-54.83573716935198,-54.835722610056784,-54.8351686243621,-54.83407703290472,-54.83244964931786,-54.83092377322496,-54.82952219161305,-54.82776158583585,-54.825643163933776,-54.823548160988985,-54.82387111049084,-54.82380484896619,-54.82335068000903,-54.82250990223645,-54.82128380931116,-54.81967368996394,-54.81981765717854,-54.82091304924845,-54.82147141531984,-54.82149454272566,-54.82098421201608,-54.821971853015796,-54.824866054460664,-54.82720771500635,-54.8289986635334,-54.830240722014096,-54.83093570554345,-54.83108542236994,-54.83069167392609,-54.82975625485902,-54.82882016128359,-54.82840952114047,-54.82771207452704,-54.826728765614966,-54.825460535033706,-54.82431491109284,-54.82481740113121,-54.82479657152465,-54.82425413754762,-54.82319180806565,-54.821611285563776,-54.81951426617465,-54.816902439706794,-54.81440513792485,-54.815071571395364,-54.81585074199346,-54.81648890165228,-54.81698650841184,-54.81734401861428,-54.81756188691133,-54.81764056627167,-54.81758050798837,-54.817382161686226,-54.818969989054175,-54.82119993458634,-54.823144259542815,-54.82480388429564,-54.826179725830755,-54.82727269776267,-54.82808371034926,-54.82861367050635,-54.828863481822225,-54.828834044572176,-54.828526255732804,-54.82794100899643,-54.82953652561084,-54.8314949684129,-54.83294449691117,-54.833886738060265,-54.83432331288262,-54.83510147586395,-54.83579015466573,-54.835934925916426,-54.835537523246494,-54.83459967398813,-54.83312309920236,-54.83110951370606,-54.82856062609876,-54.826688867158126,-54.826146309249474,-54.82509350279739,-54.823532064694064,-54.821463605994,-54.82130764917301,-54.8224037658386,-54.82336468152502,-54.82419082153869,-54.824882609658346,-54.82544046814156,-54.825864817731244,-54.82615607766204,-54.826314665666786,-54.82634099798285,-54.826235489358496,-54.82599855305918,-54.82563060087386,-54.82513204312121,-54.8245032886559,-54.82601326244624,-54.82704374545621,-54.82752862473984,-54.82746960076254,-54.82686836794758,-54.825726614701594,-54.824046023439834,-54.821828270611405,-54.82210333431698,-54.82383856386846,-54.82530779023254,-54.82651183531587,-54.827451518125784,-54.828127654782264,-54.82854105853012,-54.82869253975093,-54.82858290597505,-54.82821296189341,-54.827583509369475,-54.826695347450894,-54.825549272381316,-54.824146077612,-54.82248655381343,-54.82057148888685,-54.818401667975806,-54.81833518788764,-54.821125230793825,-54.823602490242884,-54.82573659356353,-54.827528586903654,-54.828979512770424,-54.830090410045344,-54.8308623139992,-54.83129625630691,-54.83139326506242,-54.83115436479328,-54.83058057647543,-54.829672917547796,-54.82849425816634,-54.826972947192296,-54.82552002810446,-54.82617855933084,-54.826616666858975,-54.82674550696484,-54.826566013189904,-54.82607911586226,-54.82528574210969,-54.82418681587267,-54.824297711303394,-54.82532225408778,-54.82589174498423,-54.826007550361645,-54.825671031910105,-54.825183222452026,-54.82631801475747,-54.82878317095759,-54.8307504212194,-54.83222125342949,-54.833197150402334,-54.83367958990091,-54.83367004465696,-54.83316998239137,-54.83218086583433,-54.83070415274551,-54.82874129593401,-54.82629374327829,-54.82336293774604,-54.819950317413856,-54.816737163630435,-54.81553790082789,-54.814688816868845,-54.8152388351952,-54.816075171036935,-54.816450582598776,-54.81636643055062,-54.815824070981975,-54.81482485542026,-54.8134408234481,-54.81469130327012,-54.81569656596042,-54.81645733117767,-54.81697431617006,-54.81867601379232,-54.820763909909715,-54.82240673675267,-54.82360579663262,-54.824362387513396,-54.82467780302836,-54.82455333249755,-54.82399026094477,-54.82298986911448,-54.82171385243658,-54.82214556964607,-54.82233728296616,-54.82228969032566,-54.822003487338655,-54.821479367313536,-54.82071802126207,-54.82016781489835,-54.820278687677316,-54.82027232487761,-54.820149065962894,-54.819909249276236,-54.81955321204449,-54.819100867684554,-54.818782369922616,-54.820033830317094,-54.82199484511297,-54.82432301449269,-54.826199331835625,-54.827640681473554,-54.828682882407065,-54.8292940792863,-54.829475509246386,-54.82922840537363,-54.83036206737511,-54.83144369092712,-54.83228916060909,-54.83289915119369,-54.83327433525394,-54.83341538317171,-54.83332296314618,-54.83299774120232,-54.83244038119922,-54.83165154483843,-54.830631891672326,-54.82938207911233,-54.82790276243715,-54.82619459480103,-54.82425822724181,-54.82349962607093,-54.82461997527106,-54.8259439661645,-54.826795900718984,-54.827177113551414,-54.82708893497592,-54.82653269102033,-54.825509703442485,-54.82467458285453,-54.82522857321861,-54.82566946302073,-54.825997570147976,-54.82621321146803,-54.82631670283303,-54.82630835908341,-54.82618849405178,-54.82680887099167,-54.82741365129698,-54.82779182296996,-54.82794401947508,-54.82787087225691,-54.82757301074757,-54.82705106237446,-54.826305652567775,-54.825337404768064,-54.82414694043372,-54.822734879048426,-54.82110183812864,-54.82103706637113,-54.82129378458259,-54.82114328748866,-54.820586705275545,-54.81962516455364,-54.818259788370966,-54.81649169622655,-54.814322004083635,-54.81175182438296,-54.80878226605596,-54.806142709539095,-54.805730972396546,-54.80734245847901,-54.80872991210907,-54.80989394916072,-54.810835183575385,-54.81155422736926,-54.812147943233924,-54.81485456074681,-54.817144403334865,-54.819018612379104,-54.82047832569326,-54.82152467753711,-54.82215879862955,-54.822381816161766,-54.822194853810224,-54.8215990317497,-54.821953973834,-54.82306181676172,-54.82373913635112,-54.82398710530109,-54.82417244336669,-54.82465315431943,-54.824880454824694,-54.82485503328188,-54.82457757595817,-54.82404876699647,-54.8232692884231,-54.82223982015562,-54.82096104001053,-54.81943362371098,-54.81765824489442,-54.815635575120204,-54.81375497969087,-54.81329562409492,-54.813132213016104,-54.81390890676117,-54.814424885365526,-54.81468084974391,-54.81467749866153,-54.815393806295134,-54.81679005758399,-54.81797233217907,-54.81894120273689,-54.81969724016438,-54.82024101362533,-54.82202757831486,-54.82374064988594,-54.82506671792103,-54.82600681518884,-54.82656197131383,-54.8267332127876,-54.82652156298021]}},\"id\":\"647188c4-0b3f-4521-ace5-3c75f73ab248\",\"type\":\"ColumnDataSource\"},{\"attributes\":{\"label\":{\"value\":\"DSA Entropy, gamma=1.0, R=1.09352447543\"},\"renderers\":[{\"id\":\"4c953611-3cb0-4a7c-87e1-95bae7ae6067\",\"type\":\"GlyphRenderer\"}]},\"id\":\"c5619c57-5ccc-45c4-a3ac-98a4f27cb397\",\"type\":\"LegendItem\"},{\"attributes\":{},\"id\":\"26a3815a-43df-409e-be16-db7a90e5cad7\",\"type\":\"HelpTool\"},{\"attributes\":{},\"id\":\"4e143e88-8697-411a-a8e6-565b047d5762\",\"type\":\"PanTool\"},{\"attributes\":{},\"id\":\"012eecc9-1619-4971-a542-5db13de3cade\",\"type\":\"SaveTool\"},{\"attributes\":{\"dimension\":1,\"plot\":{\"id\":\"f4191223-96dd-4db6-90e9-e33321253349\",\"subtype\":\"Figure\",\"type\":\"Plot\"},\"ticker\":{\"id\":\"0faaeb22-fded-4f32-80ae-61ba3b9b5f42\",\"type\":\"BasicTicker\"}},\"id\":\"090a4d34-5204-48b6-88dd-41c738fd560b\",\"type\":\"Grid\"},{\"attributes\":{\"plot\":{\"id\":\"f4191223-96dd-4db6-90e9-e33321253349\",\"subtype\":\"Figure\",\"type\":\"Plot\"},\"ticker\":{\"id\":\"0a36066c-5800-4867-ad8f-1e9719c90ec6\",\"type\":\"BasicTicker\"}},\"id\":\"52071bea-0623-49f8-8ed4-5f24787930d9\",\"type\":\"Grid\"},{\"attributes\":{\"axis_label\":\"d_k\",\"formatter\":{\"id\":\"7bbb801d-f71c-4383-a080-d6cd3ab7e8cd\",\"type\":\"BasicTickFormatter\"},\"plot\":{\"id\":\"f4191223-96dd-4db6-90e9-e33321253349\",\"subtype\":\"Figure\",\"type\":\"Plot\"},\"ticker\":{\"id\":\"0faaeb22-fded-4f32-80ae-61ba3b9b5f42\",\"type\":\"BasicTicker\"}},\"id\":\"a26c4106-dd90-490f-a1d5-25ae5794cb05\",\"type\":\"LinearAxis\"},{\"attributes\":{},\"id\":\"9ab76b76-ea57-4a54-83fc-e71f75e1ed4d\",\"type\":\"WheelZoomTool\"},{\"attributes\":{\"source\":{\"id\":\"647188c4-0b3f-4521-ace5-3c75f73ab248\",\"type\":\"ColumnDataSource\"}},\"id\":\"3f0e87c5-d373-437b-bfaa-254e2cc52bfb\",\"type\":\"CDSView\"},{\"attributes\":{\"line_color\":{\"value\":\"#1f77b4\"},\"x\":{\"field\":\"x\"},\"y\":{\"field\":\"y\"}},\"id\":\"007e60a7-4b47-43e9-86dd-8d8efd9c0b84\",\"type\":\"Line\"},{\"attributes\":{\"data_source\":{\"id\":\"e0ea1c91-d4f8-4341-a896-7d94cb02162d\",\"type\":\"ColumnDataSource\"},\"glyph\":{\"id\":\"7b5c54cd-133c-4826-b9a4-4fb16ea52b5b\",\"type\":\"Line\"},\"hover_glyph\":null,\"muted_glyph\":null,\"nonselection_glyph\":{\"id\":\"b1cfd580-fdb5-4b2c-ad14-aac3dcd76e33\",\"type\":\"Line\"},\"selection_glyph\":null,\"view\":{\"id\":\"70d0e7bd-4419-4a58-a43c-304bb949b354\",\"type\":\"CDSView\"}},\"id\":\"4c953611-3cb0-4a7c-87e1-95bae7ae6067\",\"type\":\"GlyphRenderer\"},{\"attributes\":{\"plot\":null,\"text\":\"comparison\"},\"id\":\"82e7a561-c1a1-48ee-a813-b31a027b5ecc\",\"type\":\"Title\"},{\"attributes\":{\"line_color\":{\"value\":\"red\"},\"x\":{\"field\":\"x\"},\"y\":{\"field\":\"y\"}},\"id\":\"7b5c54cd-133c-4826-b9a4-4fb16ea52b5b\",\"type\":\"Line\"},{\"attributes\":{\"callback\":null},\"id\":\"9eb8b6a8-7084-4aa7-b494-220555c36592\",\"type\":\"DataRange1d\"},{\"attributes\":{\"bottom_units\":\"screen\",\"fill_alpha\":{\"value\":0.5},\"fill_color\":{\"value\":\"lightgrey\"},\"left_units\":\"screen\",\"level\":\"overlay\",\"line_alpha\":{\"value\":1.0},\"line_color\":{\"value\":\"black\"},\"line_dash\":[4,4],\"line_width\":{\"value\":2},\"plot\":null,\"render_mode\":\"css\",\"right_units\":\"screen\",\"top_units\":\"screen\"},\"id\":\"07b937cc-90d0-4e94-95c2-2a092856443a\",\"type\":\"BoxAnnotation\"},{\"attributes\":{},\"id\":\"b59f5d17-8cde-40d0-aeaf-fd4c5816a44a\",\"type\":\"LinearScale\"},{\"attributes\":{},\"id\":\"0a36066c-5800-4867-ad8f-1e9719c90ec6\",\"type\":\"BasicTicker\"},{\"attributes\":{\"below\":[{\"id\":\"c409e5b8-7460-48a4-9687-27a1a1e46727\",\"type\":\"LinearAxis\"}],\"left\":[{\"id\":\"a26c4106-dd90-490f-a1d5-25ae5794cb05\",\"type\":\"LinearAxis\"}],\"renderers\":[{\"id\":\"c409e5b8-7460-48a4-9687-27a1a1e46727\",\"type\":\"LinearAxis\"},{\"id\":\"52071bea-0623-49f8-8ed4-5f24787930d9\",\"type\":\"Grid\"},{\"id\":\"a26c4106-dd90-490f-a1d5-25ae5794cb05\",\"type\":\"LinearAxis\"},{\"id\":\"090a4d34-5204-48b6-88dd-41c738fd560b\",\"type\":\"Grid\"},{\"id\":\"07b937cc-90d0-4e94-95c2-2a092856443a\",\"type\":\"BoxAnnotation\"},{\"id\":\"afc7ba74-73c0-409a-b5ce-a146140b5b87\",\"type\":\"Legend\"},{\"id\":\"eaddf83d-9896-4d66-85ea-552686d0a5ab\",\"type\":\"GlyphRenderer\"},{\"id\":\"4c953611-3cb0-4a7c-87e1-95bae7ae6067\",\"type\":\"GlyphRenderer\"}],\"title\":{\"id\":\"82e7a561-c1a1-48ee-a813-b31a027b5ecc\",\"type\":\"Title\"},\"toolbar\":{\"id\":\"c6a85048-5848-44f6-bb62-78a3e08191c5\",\"type\":\"Toolbar\"},\"x_range\":{\"id\":\"af374741-42ff-4696-8fc1-475ba85dbff7\",\"type\":\"DataRange1d\"},\"x_scale\":{\"id\":\"b59f5d17-8cde-40d0-aeaf-fd4c5816a44a\",\"type\":\"LinearScale\"},\"y_range\":{\"id\":\"9eb8b6a8-7084-4aa7-b494-220555c36592\",\"type\":\"DataRange1d\"},\"y_scale\":{\"id\":\"551644d1-7ea9-4fc3-8574-145cbadbf2b7\",\"type\":\"LinearScale\"}},\"id\":\"f4191223-96dd-4db6-90e9-e33321253349\",\"subtype\":\"Figure\",\"type\":\"Plot\"},{\"attributes\":{},\"id\":\"551644d1-7ea9-4fc3-8574-145cbadbf2b7\",\"type\":\"LinearScale\"},{\"attributes\":{\"items\":[{\"id\":\"d26350d5-009f-4241-b5bd-d0372e777c12\",\"type\":\"LegendItem\"},{\"id\":\"c5619c57-5ccc-45c4-a3ac-98a4f27cb397\",\"type\":\"LegendItem\"}],\"location\":\"bottom_right\",\"plot\":{\"id\":\"f4191223-96dd-4db6-90e9-e33321253349\",\"subtype\":\"Figure\",\"type\":\"Plot\"}},\"id\":\"afc7ba74-73c0-409a-b5ce-a146140b5b87\",\"type\":\"Legend\"},{\"attributes\":{\"axis_label\":\"iteration\",\"formatter\":{\"id\":\"07dc9c97-34b3-45ba-bf07-afe0ea4f66ea\",\"type\":\"BasicTickFormatter\"},\"plot\":{\"id\":\"f4191223-96dd-4db6-90e9-e33321253349\",\"subtype\":\"Figure\",\"type\":\"Plot\"},\"ticker\":{\"id\":\"0a36066c-5800-4867-ad8f-1e9719c90ec6\",\"type\":\"BasicTicker\"}},\"id\":\"c409e5b8-7460-48a4-9687-27a1a1e46727\",\"type\":\"LinearAxis\"},{\"attributes\":{\"line_alpha\":{\"value\":0.1},\"line_color\":{\"value\":\"#1f77b4\"},\"x\":{\"field\":\"x\"},\"y\":{\"field\":\"y\"}},\"id\":\"1238246f-f56a-4cd3-9d43-2b1f72e5645d\",\"type\":\"Line\"}],\"root_ids\":[\"f4191223-96dd-4db6-90e9-e33321253349\"]},\"title\":\"Bokeh Application\",\"version\":\"0.12.7\"}};\n",
       "            var render_items = [{\"docid\":\"7647d67b-bfa7-42e3-a0bf-9977549b1fcf\",\"elementid\":\"33b915c9-5c6c-46f6-8ad9-e9a10f813c0e\",\"modelid\":\"f4191223-96dd-4db6-90e9-e33321253349\"}];\n",
       "            \n",
       "            Bokeh.embed.embed_items(docs_json, render_items);\n",
       "          };\n",
       "          if (document.readyState != \"loading\") fn();\n",
       "          else document.addEventListener(\"DOMContentLoaded\", fn);\n",
       "        })();\n",
       "      },\n",
       "      function(Bokeh) {\n",
       "      }\n",
       "    ];\n",
       "  \n",
       "    function run_inline_js() {\n",
       "      \n",
       "      if ((root.Bokeh !== undefined) || (force === true)) {\n",
       "        for (var i = 0; i < inline_js.length; i++) {\n",
       "          inline_js[i].call(root, root.Bokeh);\n",
       "        }if (force === true) {\n",
       "          display_loaded();\n",
       "        }} else if (Date.now() < root._bokeh_timeout) {\n",
       "        setTimeout(run_inline_js, 100);\n",
       "      } else if (!root._bokeh_failed_load) {\n",
       "        console.log(\"Bokeh: BokehJS failed to load within specified timeout.\");\n",
       "        root._bokeh_failed_load = true;\n",
       "      } else if (force !== true) {\n",
       "        var cell = $(document.getElementById(\"33b915c9-5c6c-46f6-8ad9-e9a10f813c0e\")).parents('.cell').data().cell;\n",
       "        cell.output_area.append_execute_result(NB_LOAD_WARNING)\n",
       "      }\n",
       "  \n",
       "    }\n",
       "  \n",
       "    if (root._bokeh_is_loading === 0) {\n",
       "      console.log(\"Bokeh: BokehJS loaded, going straight to plotting\");\n",
       "      run_inline_js();\n",
       "    } else {\n",
       "      load_libs(js_urls, function() {\n",
       "        console.log(\"Bokeh: BokehJS plotting callback run at\", now());\n",
       "        run_inline_js();\n",
       "      });\n",
       "    }\n",
       "  }(window));\n",
       "</script>"
      ]
     },
     "metadata": {},
     "output_type": "display_data"
    }
   ],
   "source": [
    "p.legend.location = \"bottom_right\"\n",
    "show(p)"
   ]
  },
  {
   "cell_type": "code",
   "execution_count": null,
   "metadata": {
    "collapsed": true
   },
   "outputs": [],
   "source": []
  }
 ],
 "metadata": {
  "anaconda-cloud": {},
  "kernelspec": {
   "display_name": "nsopy-stoch",
   "language": "python",
   "name": "nsopy-stoch"
  },
  "language_info": {
   "codemirror_mode": {
    "name": "ipython",
    "version": 2
   },
   "file_extension": ".py",
   "mimetype": "text/x-python",
   "name": "python",
   "nbconvert_exporter": "python",
   "pygments_lexer": "ipython2",
   "version": "2.7.12"
  }
 },
 "nbformat": 4,
 "nbformat_minor": 2
}
