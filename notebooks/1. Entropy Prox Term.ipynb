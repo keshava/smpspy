{
 "cells": [
  {
   "cell_type": "code",
   "execution_count": 1,
   "metadata": {},
   "outputs": [
    {
     "name": "stdout",
     "output_type": "stream",
     "text": [
      "C:\\Users\\vujanicr\\PycharmProjects\\smpspy_base\n"
     ]
    }
   ],
   "source": [
    "import numpy as np\n",
    "\n",
    "from bokeh.plotting import figure, output_file, show\n",
    "from bokeh.io import output_notebook\n",
    "\n",
    "from nsopy import SGMDoubleSimpleAveraging as DSA\n",
    "from nsopy.loggers import EnhancedDualMethodLogger\n",
    "from smpspy.oracles import TwoStage_SMPS_InnerProblem\n",
    "\n",
    "output_notebook()\n",
    "%cd .."
   ]
  },
  {
   "cell_type": "markdown",
   "metadata": {},
   "source": [
    "# Solving dual model using DSA with Entropy Prox Term\n",
    "\n",
    "Instantiating inner problem"
   ]
  },
  {
   "cell_type": "code",
   "execution_count": 3,
   "metadata": {},
   "outputs": [
    {
     "name": "stdout",
     "output_type": "stream",
     "text": [
      "Parsing nominal model information from ./smpspy/benchmark_problems/2_caroe_schultz/caroe_schultz_10.cor and .tim ...\n",
      "Parsing stochastic information from ./smpspy/benchmark_problems/2_caroe_schultz/caroe_schultz_10.sto ...\n",
      "Stochastic model is of type SCENARIOS DISCRETE\n"
     ]
    }
   ],
   "source": [
    "ip = TwoStage_SMPS_InnerProblem('./smpspy/benchmark_problems/2_caroe_schultz/caroe_schultz_10')"
   ]
  },
  {
   "cell_type": "markdown",
   "metadata": {},
   "source": [
    "First solving it with DSA"
   ]
  },
  {
   "cell_type": "code",
   "execution_count": 4,
   "metadata": {
    "collapsed": true
   },
   "outputs": [],
   "source": [
    "GAMMA = 1.0\n",
    "\n",
    "dsa = DSA(ip.oracle, ip.projection_function, dimension=ip.dimension, gamma=GAMMA)\n",
    "logger_dsa = EnhancedDualMethodLogger(dsa)"
   ]
  },
  {
   "cell_type": "code",
   "execution_count": 5,
   "metadata": {},
   "outputs": [
    {
     "name": "stdout",
     "output_type": "stream",
     "text": [
      "Iteration: 0, d_k=-inf\n",
      "Iteration: 50, d_k=-55.0159186353\n",
      "Iteration: 100, d_k=-54.9786759617\n",
      "Iteration: 150, d_k=-54.8958271191\n",
      "Iteration: 200, d_k=-54.946123664\n",
      "Iteration: 250, d_k=-54.9126206845\n",
      "Iteration: 300, d_k=-54.8681531927\n",
      "Iteration: 350, d_k=-54.8759044684\n",
      "Iteration: 400, d_k=-54.83683095\n",
      "Iteration: 450, d_k=-54.8435540524\n",
      "Iteration: 500, d_k=-54.833795125\n",
      "Iteration: 550, d_k=-54.8560302563\n",
      "Iteration: 600, d_k=-54.8279813457\n",
      "Iteration: 650, d_k=-54.8655052529\n",
      "Iteration: 700, d_k=-54.8348583158\n",
      "Iteration: 750, d_k=-54.8305845772\n",
      "Iteration: 800, d_k=-54.8340387889\n",
      "Iteration: 850, d_k=-54.8374382962\n",
      "Iteration: 900, d_k=-54.8204466776\n",
      "Iteration: 950, d_k=-54.8407756352\n",
      "Iteration: 1000, d_k=-54.8468588731\n",
      "Iteration: 1050, d_k=-54.8219773445\n",
      "Iteration: 1100, d_k=-54.8287186107\n",
      "Iteration: 1150, d_k=-54.8173967699\n",
      "Iteration: 1200, d_k=-54.8214714153\n",
      "Iteration: 1250, d_k=-54.8338867381\n",
      "Iteration: 1300, d_k=-54.8255492724\n",
      "Iteration: 1350, d_k=-54.8146888169\n",
      "Iteration: 1400, d_k=-54.8334153832\n",
      "Iteration: 1450, d_k=-54.8073424585\n"
     ]
    }
   ],
   "source": [
    "for iteration in range(1500):\n",
    "    if not iteration%50:\n",
    "        print('Iteration: {}, d_k={}'.format(iteration, dsa.d_k))\n",
    "    dsa.dual_step()"
   ]
  },
  {
   "cell_type": "markdown",
   "metadata": {},
   "source": [
    "Then get the required parameters (R is derived a posteriori)"
   ]
  },
  {
   "cell_type": "code",
   "execution_count": 53,
   "metadata": {},
   "outputs": [
    {
     "name": "stdout",
     "output_type": "stream",
     "text": [
      "Parsing nominal model information from ./smpspy/benchmark_problems/2_caroe_schultz/caroe_schultz_10.cor and .tim ...\n",
      "Parsing stochastic information from ./smpspy/benchmark_problems/2_caroe_schultz/caroe_schultz_10.sto ...\n",
      "Stochastic model is of type SCENARIOS DISCRETE\n",
      "A-posteriori R=11.3342614708\n"
     ]
    }
   ],
   "source": [
    "R_a_posteriori = 2*np.linalg.norm(dsa.lambda_k, ord=1)\n",
    "R_safe = R_a_posteriori\n",
    "ip = TwoStage_SMPS_InnerProblem('./smpspy/benchmark_problems/2_caroe_schultz/caroe_schultz_10', R=R_safe)\n",
    "\n",
    "print('A-posteriori R={}'.format(R_a_posteriori))"
   ]
  },
  {
   "cell_type": "markdown",
   "metadata": {},
   "source": [
    "Solve it using DSA with Entropy prox function. **Note that the only difference is that we pass in softmax projection function!**"
   ]
  },
  {
   "cell_type": "code",
   "execution_count": 54,
   "metadata": {},
   "outputs": [],
   "source": [
    "dsa_entropy = DSA(ip.oracle, ip.softmax_projection, dimension=ip.dimension, gamma=GAMMA)\n",
    "logger_dsa_entropy = EnhancedDualMethodLogger(dsa_entropy)"
   ]
  },
  {
   "cell_type": "code",
   "execution_count": 55,
   "metadata": {},
   "outputs": [
    {
     "name": "stdout",
     "output_type": "stream",
     "text": [
      "Iteration: 0, d_k=-inf\n",
      "Iteration: 50, d_k=-104.664775043\n",
      "Iteration: 100, d_k=-77.6032850181\n",
      "Iteration: 150, d_k=-64.8006837128\n",
      "Iteration: 200, d_k=-69.4366207999\n",
      "Iteration: 250, d_k=-68.8870870704\n",
      "Iteration: 300, d_k=-69.4836031969\n",
      "Iteration: 350, d_k=-62.8941010181\n",
      "Iteration: 400, d_k=-65.3668548187\n",
      "Iteration: 450, d_k=-61.9954427092\n",
      "Iteration: 500, d_k=-59.8977152359\n",
      "Iteration: 550, d_k=-61.2207819641\n",
      "Iteration: 600, d_k=-63.302004345\n",
      "Iteration: 650, d_k=-57.7549417917\n",
      "Iteration: 700, d_k=-62.3360596363\n",
      "Iteration: 750, d_k=-57.8880403384\n",
      "Iteration: 800, d_k=-58.5907520617\n",
      "Iteration: 850, d_k=-59.2018565437\n",
      "Iteration: 900, d_k=-58.0431947093\n",
      "Iteration: 950, d_k=-59.3052305592\n",
      "Iteration: 1000, d_k=-59.5699477609\n",
      "Iteration: 1050, d_k=-59.6194218746\n",
      "Iteration: 1100, d_k=-59.5486144569\n",
      "Iteration: 1150, d_k=-57.0995397158\n",
      "Iteration: 1200, d_k=-61.1700128899\n",
      "Iteration: 1250, d_k=-57.430900397\n",
      "Iteration: 1300, d_k=-58.6404067734\n",
      "Iteration: 1350, d_k=-57.5096016578\n",
      "Iteration: 1400, d_k=-60.0055392331\n",
      "Iteration: 1450, d_k=-57.1052576215\n"
     ]
    }
   ],
   "source": [
    "for iteration in range(1500):\n",
    "    if not iteration%50:\n",
    "        print('Iteration: {}, d_k={}'.format(iteration, dsa_entropy.d_k))\n",
    "    dsa_entropy.dual_step()"
   ]
  },
  {
   "cell_type": "code",
   "execution_count": 56,
   "metadata": {},
   "outputs": [
    {
     "data": {
      "text/plain": [
       "array([ 0.14400903, -0.24433813,  0.27291032, -0.20353668,  0.27981351,\n",
       "       -0.40031441, -0.15550504,  0.99409693, -0.15900846, -0.09654058,\n",
       "        0.148661  , -0.40031441, -0.19887074,  0.99409693, -0.17734202,\n",
       "       -0.39408986, -0.15466759, -0.24905981])"
      ]
     },
     "execution_count": 56,
     "metadata": {},
     "output_type": "execute_result"
    }
   ],
   "source": [
    "logger_dsa.lambda_k_iterates[-1]"
   ]
  },
  {
   "cell_type": "code",
   "execution_count": 57,
   "metadata": {},
   "outputs": [
    {
     "data": {
      "text/plain": [
       "array([-0.35588056, -0.26087179,  0.45746355, -0.28390145,  0.11714875,\n",
       "       -0.33479585, -0.36493897,  0.94124571, -0.31225491, -0.1651139 ,\n",
       "        0.40498141, -0.33479585, -0.19357511,  0.81556548, -0.11701537,\n",
       "       -0.55699758,  0.36407121,  0.17966524])"
      ]
     },
     "execution_count": 57,
     "metadata": {},
     "output_type": "execute_result"
    }
   ],
   "source": [
    "logger_dsa_entropy.lambda_k_iterates[-1]"
   ]
  },
  {
   "cell_type": "code",
   "execution_count": 58,
   "metadata": {
    "collapsed": true
   },
   "outputs": [],
   "source": [
    "p = figure(title=\"comparison\", x_axis_label='iteration', y_axis_label='d_k')"
   ]
  },
  {
   "cell_type": "code",
   "execution_count": 59,
   "metadata": {},
   "outputs": [
    {
     "data": {
      "text/html": [
       "<div style=\"display: table;\"><div style=\"display: table-row;\"><div style=\"display: table-cell;\"><b title=\"bokeh.models.renderers.GlyphRenderer\">GlyphRenderer</b>(</div><div style=\"display: table-cell;\">id&nbsp;=&nbsp;'aad7fece-6bc4-4ec6-a95c-9c36ab042d30', <span id=\"5207e6e4-5aa3-4b22-9c5e-b7e8c62fc9bd\" style=\"cursor: pointer;\">&hellip;)</span></div></div><div class=\"4e8ac7eb-1850-498b-8f31-3c73b7f8533e\" style=\"display: none;\"><div style=\"display: table-cell;\"></div><div style=\"display: table-cell;\">data_source&nbsp;=&nbsp;ColumnDataSource(id='65d6e814-0d77-4317-b35d-fad5ed843b0a', ...),</div></div><div class=\"4e8ac7eb-1850-498b-8f31-3c73b7f8533e\" style=\"display: none;\"><div style=\"display: table-cell;\"></div><div style=\"display: table-cell;\">glyph&nbsp;=&nbsp;Line(id='1254c156-8043-4892-a5a6-9c4d0ad88654', ...),</div></div><div class=\"4e8ac7eb-1850-498b-8f31-3c73b7f8533e\" style=\"display: none;\"><div style=\"display: table-cell;\"></div><div style=\"display: table-cell;\">hover_glyph&nbsp;=&nbsp;None,</div></div><div class=\"4e8ac7eb-1850-498b-8f31-3c73b7f8533e\" style=\"display: none;\"><div style=\"display: table-cell;\"></div><div style=\"display: table-cell;\">js_event_callbacks&nbsp;=&nbsp;{},</div></div><div class=\"4e8ac7eb-1850-498b-8f31-3c73b7f8533e\" style=\"display: none;\"><div style=\"display: table-cell;\"></div><div style=\"display: table-cell;\">js_property_callbacks&nbsp;=&nbsp;{},</div></div><div class=\"4e8ac7eb-1850-498b-8f31-3c73b7f8533e\" style=\"display: none;\"><div style=\"display: table-cell;\"></div><div style=\"display: table-cell;\">level&nbsp;=&nbsp;'glyph',</div></div><div class=\"4e8ac7eb-1850-498b-8f31-3c73b7f8533e\" style=\"display: none;\"><div style=\"display: table-cell;\"></div><div style=\"display: table-cell;\">muted&nbsp;=&nbsp;False,</div></div><div class=\"4e8ac7eb-1850-498b-8f31-3c73b7f8533e\" style=\"display: none;\"><div style=\"display: table-cell;\"></div><div style=\"display: table-cell;\">muted_glyph&nbsp;=&nbsp;None,</div></div><div class=\"4e8ac7eb-1850-498b-8f31-3c73b7f8533e\" style=\"display: none;\"><div style=\"display: table-cell;\"></div><div style=\"display: table-cell;\">name&nbsp;=&nbsp;None,</div></div><div class=\"4e8ac7eb-1850-498b-8f31-3c73b7f8533e\" style=\"display: none;\"><div style=\"display: table-cell;\"></div><div style=\"display: table-cell;\">nonselection_glyph&nbsp;=&nbsp;Line(id='97476981-ed52-4707-a624-1b2bc0862fba', ...),</div></div><div class=\"4e8ac7eb-1850-498b-8f31-3c73b7f8533e\" style=\"display: none;\"><div style=\"display: table-cell;\"></div><div style=\"display: table-cell;\">selection_glyph&nbsp;=&nbsp;None,</div></div><div class=\"4e8ac7eb-1850-498b-8f31-3c73b7f8533e\" style=\"display: none;\"><div style=\"display: table-cell;\"></div><div style=\"display: table-cell;\">subscribed_events&nbsp;=&nbsp;[],</div></div><div class=\"4e8ac7eb-1850-498b-8f31-3c73b7f8533e\" style=\"display: none;\"><div style=\"display: table-cell;\"></div><div style=\"display: table-cell;\">tags&nbsp;=&nbsp;[],</div></div><div class=\"4e8ac7eb-1850-498b-8f31-3c73b7f8533e\" style=\"display: none;\"><div style=\"display: table-cell;\"></div><div style=\"display: table-cell;\">view&nbsp;=&nbsp;CDSView(id='96468c41-c16e-499b-a2b0-db3f49ceb1c5', ...),</div></div><div class=\"4e8ac7eb-1850-498b-8f31-3c73b7f8533e\" style=\"display: none;\"><div style=\"display: table-cell;\"></div><div style=\"display: table-cell;\">visible&nbsp;=&nbsp;True,</div></div><div class=\"4e8ac7eb-1850-498b-8f31-3c73b7f8533e\" style=\"display: none;\"><div style=\"display: table-cell;\"></div><div style=\"display: table-cell;\">x_range_name&nbsp;=&nbsp;'default',</div></div><div class=\"4e8ac7eb-1850-498b-8f31-3c73b7f8533e\" style=\"display: none;\"><div style=\"display: table-cell;\"></div><div style=\"display: table-cell;\">y_range_name&nbsp;=&nbsp;'default')</div></div></div>\n",
       "<script>\n",
       "(function() {\n",
       "  var expanded = false;\n",
       "  var ellipsis = document.getElementById(\"5207e6e4-5aa3-4b22-9c5e-b7e8c62fc9bd\");\n",
       "  ellipsis.addEventListener(\"click\", function() {\n",
       "    var rows = document.getElementsByClassName(\"4e8ac7eb-1850-498b-8f31-3c73b7f8533e\");\n",
       "    for (var i = 0; i < rows.length; i++) {\n",
       "      var el = rows[i];\n",
       "      el.style.display = expanded ? \"none\" : \"table-row\";\n",
       "    }\n",
       "    ellipsis.innerHTML = expanded ? \"&hellip;)\" : \"&lsaquo;&lsaquo;&lsaquo;\";\n",
       "    expanded = !expanded;\n",
       "  });\n",
       "})();\n",
       "</script>\n"
      ],
      "text/plain": [
       "GlyphRenderer(id='aad7fece-6bc4-4ec6-a95c-9c36ab042d30', ...)"
      ]
     },
     "execution_count": 59,
     "metadata": {},
     "output_type": "execute_result"
    }
   ],
   "source": [
    "p.line(range(len(logger_dsa.d_k_iterates)), logger_dsa.d_k_iterates, legend=\"DSA, gamma={}\".format(GAMMA, R_safe))\n",
    "p.line(range(len(logger_dsa_entropy.d_k_iterates)), logger_dsa_entropy.d_k_iterates, legend=\"DSA Entropy, gamma={}, R={}\".format(GAMMA, R_safe), color='red')"
   ]
  },
  {
   "cell_type": "code",
   "execution_count": 60,
   "metadata": {},
   "outputs": [
    {
     "data": {
      "text/html": [
       "\n",
       "\n",
       "    <div class=\"bk-root\">\n",
       "        <div class=\"bk-plotdiv\" id=\"4e32c906-d897-47e1-9ffc-34d6fee517a9\"></div>\n",
       "    </div>\n",
       "<script type=\"text/javascript\">\n",
       "  \n",
       "  (function(root) {\n",
       "    function now() {\n",
       "      return new Date();\n",
       "    }\n",
       "  \n",
       "    var force = false;\n",
       "  \n",
       "    if (typeof (root._bokeh_onload_callbacks) === \"undefined\" || force === true) {\n",
       "      root._bokeh_onload_callbacks = [];\n",
       "      root._bokeh_is_loading = undefined;\n",
       "    }\n",
       "  \n",
       "  \n",
       "    \n",
       "    if (typeof (root._bokeh_timeout) === \"undefined\" || force === true) {\n",
       "      root._bokeh_timeout = Date.now() + 0;\n",
       "      root._bokeh_failed_load = false;\n",
       "    }\n",
       "  \n",
       "    var NB_LOAD_WARNING = {'data': {'text/html':\n",
       "       \"<div style='background-color: #fdd'>\\n\"+\n",
       "       \"<p>\\n\"+\n",
       "       \"BokehJS does not appear to have successfully loaded. If loading BokehJS from CDN, this \\n\"+\n",
       "       \"may be due to a slow or bad network connection. Possible fixes:\\n\"+\n",
       "       \"</p>\\n\"+\n",
       "       \"<ul>\\n\"+\n",
       "       \"<li>re-rerun `output_notebook()` to attempt to load from CDN again, or</li>\\n\"+\n",
       "       \"<li>use INLINE resources instead, as so:</li>\\n\"+\n",
       "       \"</ul>\\n\"+\n",
       "       \"<code>\\n\"+\n",
       "       \"from bokeh.resources import INLINE\\n\"+\n",
       "       \"output_notebook(resources=INLINE)\\n\"+\n",
       "       \"</code>\\n\"+\n",
       "       \"</div>\"}};\n",
       "  \n",
       "    function display_loaded() {\n",
       "      if (root.Bokeh !== undefined) {\n",
       "        var el = document.getElementById(\"4e32c906-d897-47e1-9ffc-34d6fee517a9\");\n",
       "        if (el != null) {\n",
       "          el.textContent = \"BokehJS \" + Bokeh.version + \" successfully loaded.\";\n",
       "        }\n",
       "      } else if (Date.now() < root._bokeh_timeout) {\n",
       "        setTimeout(display_loaded, 100)\n",
       "      }\n",
       "    }\n",
       "  \n",
       "  \n",
       "    function run_callbacks() {\n",
       "      try {\n",
       "        root._bokeh_onload_callbacks.forEach(function(callback) { callback() });\n",
       "      }\n",
       "      finally {\n",
       "        delete root._bokeh_onload_callbacks\n",
       "      }\n",
       "      console.info(\"Bokeh: all callbacks have finished\");\n",
       "    }\n",
       "  \n",
       "    function load_libs(js_urls, callback) {\n",
       "      root._bokeh_onload_callbacks.push(callback);\n",
       "      if (root._bokeh_is_loading > 0) {\n",
       "        console.log(\"Bokeh: BokehJS is being loaded, scheduling callback at\", now());\n",
       "        return null;\n",
       "      }\n",
       "      if (js_urls == null || js_urls.length === 0) {\n",
       "        run_callbacks();\n",
       "        return null;\n",
       "      }\n",
       "      console.log(\"Bokeh: BokehJS not loaded, scheduling load and callback at\", now());\n",
       "      root._bokeh_is_loading = js_urls.length;\n",
       "      for (var i = 0; i < js_urls.length; i++) {\n",
       "        var url = js_urls[i];\n",
       "        var s = document.createElement('script');\n",
       "        s.src = url;\n",
       "        s.async = false;\n",
       "        s.onreadystatechange = s.onload = function() {\n",
       "          root._bokeh_is_loading--;\n",
       "          if (root._bokeh_is_loading === 0) {\n",
       "            console.log(\"Bokeh: all BokehJS libraries loaded\");\n",
       "            run_callbacks()\n",
       "          }\n",
       "        };\n",
       "        s.onerror = function() {\n",
       "          console.warn(\"failed to load library \" + url);\n",
       "        };\n",
       "        console.log(\"Bokeh: injecting script tag for BokehJS library: \", url);\n",
       "        document.getElementsByTagName(\"head\")[0].appendChild(s);\n",
       "      }\n",
       "    };var element = document.getElementById(\"4e32c906-d897-47e1-9ffc-34d6fee517a9\");\n",
       "    if (element == null) {\n",
       "      console.log(\"Bokeh: ERROR: autoload.js configured with elementid '4e32c906-d897-47e1-9ffc-34d6fee517a9' but no matching script tag was found. \")\n",
       "      return false;\n",
       "    }\n",
       "  \n",
       "    var js_urls = [];\n",
       "  \n",
       "    var inline_js = [\n",
       "      function(Bokeh) {\n",
       "        (function() {\n",
       "          var fn = function() {\n",
       "            var docs_json = {\"4ef5e0e5-d265-4499-8f49-7d9e646ce8a3\":{\"roots\":{\"references\":[{\"attributes\":{},\"id\":\"ba1de7d5-76ea-470d-a632-a8753a2bc65a\",\"type\":\"BasicTickFormatter\"},{\"attributes\":{\"source\":{\"id\":\"65d6e814-0d77-4317-b35d-fad5ed843b0a\",\"type\":\"ColumnDataSource\"}},\"id\":\"96468c41-c16e-499b-a2b0-db3f49ceb1c5\",\"type\":\"CDSView\"},{\"attributes\":{\"plot\":{\"id\":\"9f488915-bf9d-46d1-aa73-b1b18dd953ed\",\"subtype\":\"Figure\",\"type\":\"Plot\"},\"ticker\":{\"id\":\"42273d67-c6e2-40ff-bb95-f72ee2555c91\",\"type\":\"BasicTicker\"}},\"id\":\"53897a89-247e-4b90-956b-9465bf7c220a\",\"type\":\"Grid\"},{\"attributes\":{},\"id\":\"b9ccf312-0cb3-4613-bda1-1f2f66d4ba6d\",\"type\":\"LinearScale\"},{\"attributes\":{},\"id\":\"cf936d6d-f95c-4711-98af-46a6a73d168c\",\"type\":\"LinearScale\"},{\"attributes\":{\"below\":[{\"id\":\"a66dfb1d-40e9-4aa4-8c92-c5ce5f9748c3\",\"type\":\"LinearAxis\"}],\"left\":[{\"id\":\"3ec9b055-5b3b-43ae-b458-847c5db9da11\",\"type\":\"LinearAxis\"}],\"renderers\":[{\"id\":\"a66dfb1d-40e9-4aa4-8c92-c5ce5f9748c3\",\"type\":\"LinearAxis\"},{\"id\":\"53897a89-247e-4b90-956b-9465bf7c220a\",\"type\":\"Grid\"},{\"id\":\"3ec9b055-5b3b-43ae-b458-847c5db9da11\",\"type\":\"LinearAxis\"},{\"id\":\"3f882b60-95fc-441b-a3e5-66010c9a2b36\",\"type\":\"Grid\"},{\"id\":\"1baa1617-3937-4b58-9465-cd797e38e49d\",\"type\":\"BoxAnnotation\"},{\"id\":\"0ba95f45-7515-448c-a25b-b60cb64c129b\",\"type\":\"Legend\"},{\"id\":\"9adbd37c-2504-47bb-a1f6-88e31b8f477f\",\"type\":\"GlyphRenderer\"},{\"id\":\"aad7fece-6bc4-4ec6-a95c-9c36ab042d30\",\"type\":\"GlyphRenderer\"}],\"title\":{\"id\":\"a299ef1d-a176-449d-b0bb-67f0e92696f4\",\"type\":\"Title\"},\"toolbar\":{\"id\":\"5a63ce74-70c2-4751-bc64-30e2c79a2902\",\"type\":\"Toolbar\"},\"x_range\":{\"id\":\"bbff6eed-4cbc-48d9-98ef-2d8760386778\",\"type\":\"DataRange1d\"},\"x_scale\":{\"id\":\"cf936d6d-f95c-4711-98af-46a6a73d168c\",\"type\":\"LinearScale\"},\"y_range\":{\"id\":\"ee7ad764-0515-4cd5-aedc-d9bf774c62a3\",\"type\":\"DataRange1d\"},\"y_scale\":{\"id\":\"b9ccf312-0cb3-4613-bda1-1f2f66d4ba6d\",\"type\":\"LinearScale\"}},\"id\":\"9f488915-bf9d-46d1-aa73-b1b18dd953ed\",\"subtype\":\"Figure\",\"type\":\"Plot\"},{\"attributes\":{\"data_source\":{\"id\":\"e2fa586e-f07c-4043-a651-0b4a6abbda85\",\"type\":\"ColumnDataSource\"},\"glyph\":{\"id\":\"468aa172-33d4-488c-a872-06a6ecf71dca\",\"type\":\"Line\"},\"hover_glyph\":null,\"muted_glyph\":null,\"nonselection_glyph\":{\"id\":\"36136e0d-4eef-4fc6-9f49-936fa7e1883f\",\"type\":\"Line\"},\"selection_glyph\":null,\"view\":{\"id\":\"39034a6a-ddfd-4da2-ac3e-f51906a2f569\",\"type\":\"CDSView\"}},\"id\":\"9adbd37c-2504-47bb-a1f6-88e31b8f477f\",\"type\":\"GlyphRenderer\"},{\"attributes\":{\"axis_label\":\"iteration\",\"formatter\":{\"id\":\"0fc7eb50-a450-4159-ab15-813f08571b23\",\"type\":\"BasicTickFormatter\"},\"plot\":{\"id\":\"9f488915-bf9d-46d1-aa73-b1b18dd953ed\",\"subtype\":\"Figure\",\"type\":\"Plot\"},\"ticker\":{\"id\":\"42273d67-c6e2-40ff-bb95-f72ee2555c91\",\"type\":\"BasicTicker\"}},\"id\":\"a66dfb1d-40e9-4aa4-8c92-c5ce5f9748c3\",\"type\":\"LinearAxis\"},{\"attributes\":{},\"id\":\"42273d67-c6e2-40ff-bb95-f72ee2555c91\",\"type\":\"BasicTicker\"},{\"attributes\":{\"items\":[{\"id\":\"5f8d3ea8-d2a3-4144-8636-da149b90749c\",\"type\":\"LegendItem\"},{\"id\":\"1eb612ef-27c4-4a1b-92db-bb8909b2fac4\",\"type\":\"LegendItem\"}],\"location\":\"bottom_right\",\"plot\":{\"id\":\"9f488915-bf9d-46d1-aa73-b1b18dd953ed\",\"subtype\":\"Figure\",\"type\":\"Plot\"}},\"id\":\"0ba95f45-7515-448c-a25b-b60cb64c129b\",\"type\":\"Legend\"},{\"attributes\":{\"data_source\":{\"id\":\"65d6e814-0d77-4317-b35d-fad5ed843b0a\",\"type\":\"ColumnDataSource\"},\"glyph\":{\"id\":\"1254c156-8043-4892-a5a6-9c4d0ad88654\",\"type\":\"Line\"},\"hover_glyph\":null,\"muted_glyph\":null,\"nonselection_glyph\":{\"id\":\"97476981-ed52-4707-a624-1b2bc0862fba\",\"type\":\"Line\"},\"selection_glyph\":null,\"view\":{\"id\":\"96468c41-c16e-499b-a2b0-db3f49ceb1c5\",\"type\":\"CDSView\"}},\"id\":\"aad7fece-6bc4-4ec6-a95c-9c36ab042d30\",\"type\":\"GlyphRenderer\"},{\"attributes\":{\"axis_label\":\"d_k\",\"formatter\":{\"id\":\"ba1de7d5-76ea-470d-a632-a8753a2bc65a\",\"type\":\"BasicTickFormatter\"},\"plot\":{\"id\":\"9f488915-bf9d-46d1-aa73-b1b18dd953ed\",\"subtype\":\"Figure\",\"type\":\"Plot\"},\"ticker\":{\"id\":\"54c9e0a1-d9c8-4798-a906-a17077fcbd39\",\"type\":\"BasicTicker\"}},\"id\":\"3ec9b055-5b3b-43ae-b458-847c5db9da11\",\"type\":\"LinearAxis\"},{\"attributes\":{\"callback\":null},\"id\":\"bbff6eed-4cbc-48d9-98ef-2d8760386778\",\"type\":\"DataRange1d\"},{\"attributes\":{\"plot\":null,\"text\":\"comparison\"},\"id\":\"a299ef1d-a176-449d-b0bb-67f0e92696f4\",\"type\":\"Title\"},{\"attributes\":{\"bottom_units\":\"screen\",\"fill_alpha\":{\"value\":0.5},\"fill_color\":{\"value\":\"lightgrey\"},\"left_units\":\"screen\",\"level\":\"overlay\",\"line_alpha\":{\"value\":1.0},\"line_color\":{\"value\":\"black\"},\"line_dash\":[4,4],\"line_width\":{\"value\":2},\"plot\":null,\"render_mode\":\"css\",\"right_units\":\"screen\",\"top_units\":\"screen\"},\"id\":\"1baa1617-3937-4b58-9465-cd797e38e49d\",\"type\":\"BoxAnnotation\"},{\"attributes\":{},\"id\":\"896c3e54-a567-4e5d-951e-0f8574dec33e\",\"type\":\"SaveTool\"},{\"attributes\":{\"overlay\":{\"id\":\"1baa1617-3937-4b58-9465-cd797e38e49d\",\"type\":\"BoxAnnotation\"}},\"id\":\"ea0f7876-5e46-4eea-b9e0-5a1d54e8df3a\",\"type\":\"BoxZoomTool\"},{\"attributes\":{},\"id\":\"54c9e0a1-d9c8-4798-a906-a17077fcbd39\",\"type\":\"BasicTicker\"},{\"attributes\":{\"callback\":null},\"id\":\"ee7ad764-0515-4cd5-aedc-d9bf774c62a3\",\"type\":\"DataRange1d\"},{\"attributes\":{\"label\":{\"value\":\"DSA Entropy, gamma=1.0, R=11.3342614708\"},\"renderers\":[{\"id\":\"aad7fece-6bc4-4ec6-a95c-9c36ab042d30\",\"type\":\"GlyphRenderer\"}]},\"id\":\"1eb612ef-27c4-4a1b-92db-bb8909b2fac4\",\"type\":\"LegendItem\"},{\"attributes\":{},\"id\":\"0fc7eb50-a450-4159-ab15-813f08571b23\",\"type\":\"BasicTickFormatter\"},{\"attributes\":{\"callback\":null,\"column_names\":[\"x\",\"y\"],\"data\":{\"x\":[0,1,2,3,4,5,6,7,8,9,10,11,12,13,14,15,16,17,18,19,20,21,22,23,24,25,26,27,28,29,30,31,32,33,34,35,36,37,38,39,40,41,42,43,44,45,46,47,48,49,50,51,52,53,54,55,56,57,58,59,60,61,62,63,64,65,66,67,68,69,70,71,72,73,74,75,76,77,78,79,80,81,82,83,84,85,86,87,88,89,90,91,92,93,94,95,96,97,98,99,100,101,102,103,104,105,106,107,108,109,110,111,112,113,114,115,116,117,118,119,120,121,122,123,124,125,126,127,128,129,130,131,132,133,134,135,136,137,138,139,140,141,142,143,144,145,146,147,148,149,150,151,152,153,154,155,156,157,158,159,160,161,162,163,164,165,166,167,168,169,170,171,172,173,174,175,176,177,178,179,180,181,182,183,184,185,186,187,188,189,190,191,192,193,194,195,196,197,198,199,200,201,202,203,204,205,206,207,208,209,210,211,212,213,214,215,216,217,218,219,220,221,222,223,224,225,226,227,228,229,230,231,232,233,234,235,236,237,238,239,240,241,242,243,244,245,246,247,248,249,250,251,252,253,254,255,256,257,258,259,260,261,262,263,264,265,266,267,268,269,270,271,272,273,274,275,276,277,278,279,280,281,282,283,284,285,286,287,288,289,290,291,292,293,294,295,296,297,298,299,300,301,302,303,304,305,306,307,308,309,310,311,312,313,314,315,316,317,318,319,320,321,322,323,324,325,326,327,328,329,330,331,332,333,334,335,336,337,338,339,340,341,342,343,344,345,346,347,348,349,350,351,352,353,354,355,356,357,358,359,360,361,362,363,364,365,366,367,368,369,370,371,372,373,374,375,376,377,378,379,380,381,382,383,384,385,386,387,388,389,390,391,392,393,394,395,396,397,398,399,400,401,402,403,404,405,406,407,408,409,410,411,412,413,414,415,416,417,418,419,420,421,422,423,424,425,426,427,428,429,430,431,432,433,434,435,436,437,438,439,440,441,442,443,444,445,446,447,448,449,450,451,452,453,454,455,456,457,458,459,460,461,462,463,464,465,466,467,468,469,470,471,472,473,474,475,476,477,478,479,480,481,482,483,484,485,486,487,488,489,490,491,492,493,494,495,496,497,498,499,500,501,502,503,504,505,506,507,508,509,510,511,512,513,514,515,516,517,518,519,520,521,522,523,524,525,526,527,528,529,530,531,532,533,534,535,536,537,538,539,540,541,542,543,544,545,546,547,548,549,550,551,552,553,554,555,556,557,558,559,560,561,562,563,564,565,566,567,568,569,570,571,572,573,574,575,576,577,578,579,580,581,582,583,584,585,586,587,588,589,590,591,592,593,594,595,596,597,598,599,600,601,602,603,604,605,606,607,608,609,610,611,612,613,614,615,616,617,618,619,620,621,622,623,624,625,626,627,628,629,630,631,632,633,634,635,636,637,638,639,640,641,642,643,644,645,646,647,648,649,650,651,652,653,654,655,656,657,658,659,660,661,662,663,664,665,666,667,668,669,670,671,672,673,674,675,676,677,678,679,680,681,682,683,684,685,686,687,688,689,690,691,692,693,694,695,696,697,698,699,700,701,702,703,704,705,706,707,708,709,710,711,712,713,714,715,716,717,718,719,720,721,722,723,724,725,726,727,728,729,730,731,732,733,734,735,736,737,738,739,740,741,742,743,744,745,746,747,748,749,750,751,752,753,754,755,756,757,758,759,760,761,762,763,764,765,766,767,768,769,770,771,772,773,774,775,776,777,778,779,780,781,782,783,784,785,786,787,788,789,790,791,792,793,794,795,796,797,798,799,800,801,802,803,804,805,806,807,808,809,810,811,812,813,814,815,816,817,818,819,820,821,822,823,824,825,826,827,828,829,830,831,832,833,834,835,836,837,838,839,840,841,842,843,844,845,846,847,848,849,850,851,852,853,854,855,856,857,858,859,860,861,862,863,864,865,866,867,868,869,870,871,872,873,874,875,876,877,878,879,880,881,882,883,884,885,886,887,888,889,890,891,892,893,894,895,896,897,898,899,900,901,902,903,904,905,906,907,908,909,910,911,912,913,914,915,916,917,918,919,920,921,922,923,924,925,926,927,928,929,930,931,932,933,934,935,936,937,938,939,940,941,942,943,944,945,946,947,948,949,950,951,952,953,954,955,956,957,958,959,960,961,962,963,964,965,966,967,968,969,970,971,972,973,974,975,976,977,978,979,980,981,982,983,984,985,986,987,988,989,990,991,992,993,994,995,996,997,998,999,1000,1001,1002,1003,1004,1005,1006,1007,1008,1009,1010,1011,1012,1013,1014,1015,1016,1017,1018,1019,1020,1021,1022,1023,1024,1025,1026,1027,1028,1029,1030,1031,1032,1033,1034,1035,1036,1037,1038,1039,1040,1041,1042,1043,1044,1045,1046,1047,1048,1049,1050,1051,1052,1053,1054,1055,1056,1057,1058,1059,1060,1061,1062,1063,1064,1065,1066,1067,1068,1069,1070,1071,1072,1073,1074,1075,1076,1077,1078,1079,1080,1081,1082,1083,1084,1085,1086,1087,1088,1089,1090,1091,1092,1093,1094,1095,1096,1097,1098,1099,1100,1101,1102,1103,1104,1105,1106,1107,1108,1109,1110,1111,1112,1113,1114,1115,1116,1117,1118,1119,1120,1121,1122,1123,1124,1125,1126,1127,1128,1129,1130,1131,1132,1133,1134,1135,1136,1137,1138,1139,1140,1141,1142,1143,1144,1145,1146,1147,1148,1149,1150,1151,1152,1153,1154,1155,1156,1157,1158,1159,1160,1161,1162,1163,1164,1165,1166,1167,1168,1169,1170,1171,1172,1173,1174,1175,1176,1177,1178,1179,1180,1181,1182,1183,1184,1185,1186,1187,1188,1189,1190,1191,1192,1193,1194,1195,1196,1197,1198,1199,1200,1201,1202,1203,1204,1205,1206,1207,1208,1209,1210,1211,1212,1213,1214,1215,1216,1217,1218,1219,1220,1221,1222,1223,1224,1225,1226,1227,1228,1229,1230,1231,1232,1233,1234,1235,1236,1237,1238,1239,1240,1241,1242,1243,1244,1245,1246,1247,1248,1249,1250,1251,1252,1253,1254,1255,1256,1257,1258,1259,1260,1261,1262,1263,1264,1265,1266,1267,1268,1269,1270,1271,1272,1273,1274,1275,1276,1277,1278,1279,1280,1281,1282,1283,1284,1285,1286,1287,1288,1289,1290,1291,1292,1293,1294,1295,1296,1297,1298,1299,1300,1301,1302,1303,1304,1305,1306,1307,1308,1309,1310,1311,1312,1313,1314,1315,1316,1317,1318,1319,1320,1321,1322,1323,1324,1325,1326,1327,1328,1329,1330,1331,1332,1333,1334,1335,1336,1337,1338,1339,1340,1341,1342,1343,1344,1345,1346,1347,1348,1349,1350,1351,1352,1353,1354,1355,1356,1357,1358,1359,1360,1361,1362,1363,1364,1365,1366,1367,1368,1369,1370,1371,1372,1373,1374,1375,1376,1377,1378,1379,1380,1381,1382,1383,1384,1385,1386,1387,1388,1389,1390,1391,1392,1393,1394,1395,1396,1397,1398,1399,1400,1401,1402,1403,1404,1405,1406,1407,1408,1409,1410,1411,1412,1413,1414,1415,1416,1417,1418,1419,1420,1421,1422,1423,1424,1425,1426,1427,1428,1429,1430,1431,1432,1433,1434,1435,1436,1437,1438,1439,1440,1441,1442,1443,1444,1445,1446,1447,1448,1449,1450,1451,1452,1453,1454,1455,1456,1457,1458,1459,1460,1461,1462,1463,1464,1465,1466,1467,1468,1469,1470,1471,1472,1473,1474,1475,1476,1477,1478,1479,1480,1481,1482,1483,1484,1485,1486,1487,1488,1489,1490,1491,1492,1493,1494,1495,1496,1497,1498,1499],\"y\":[-60.900000000000006,-372.42784412460384,-335.04697255520335,-337.97436360902833,-246.3164280335163,-199.37348627760173,-190.3611376498412,-180.44365886287363,-177.68305049290146,-177.86044154672626,-130.9809925150554,-104.34869840792561,-118.64456582731708,-126.08312498913608,-148.71494521313267,-149.93491946939014,-129.9076571342718,-119.46916343701221,-90.77234121236886,-95.02123774399698,-100.18459168575666,-98.28243021130754,-101.83657922145821,-107.4200247994994,-107.76470564942453,-109.36775565166724,-103.44763570179447,-99.88591663647986,-104.54272222244298,-105.44883744102714,-117.70400081685864,-127.06806406103252,-125.67675524528119,-117.15601937364464,-112.39160138956552,-95.72269271891352,-98.58266796526438,-106.14795294086419,-112.54776842128817,-101.12955838921172,-104.43795242460638,-94.70176346543923,-92.05117084052668,-95.17334342136758,-102.47546765144779,-99.23088149847766,-106.33568233783743,-96.6948422807501,-101.95776612565545,-104.66477504298663,-103.47163105064249,-101.0353736967617,-104.78043900884973,-103.93930969032954,-101.8096999504532,-96.92104985775407,-88.59569198343758,-80.2424475529001,-79.04747067151406,-78.2745171108547,-82.79442230223279,-76.29238491448064,-79.78053019858729,-82.34939552980718,-81.23606570467712,-84.84355342484163,-90.67029181069569,-91.54570075828904,-87.84243290191517,-87.14647829714042,-86.6717722641748,-90.17015674396991,-89.9740797592011,-86.28475603659032,-83.66270774919843,-83.23421098132796,-85.65331357265751,-89.07867683040823,-89.4495113556238,-91.81374203108214,-85.8168051584236,-84.31873641209613,-76.81571910293664,-74.83375184035397,-73.35151631119085,-71.77948721565744,-70.99243854238094,-71.4926032814542,-74.25609241047502,-79.35672474786787,-85.93377878506257,-82.03309978027298,-78.3114640522736,-81.36091520911347,-77.19861179894401,-77.85392909121191,-73.84914591508061,-77.22584380501816,-76.02516021107883,-77.60328501810142,-75.53934114676663,-75.1808405551368,-70.96574979656938,-70.7300700715733,-70.76178023749206,-70.2922706707181,-74.40096054826411,-74.97431704125388,-75.60194619388409,-74.17639597822624,-77.85574740228161,-77.84608919501045,-73.66440303752165,-73.83404766747152,-73.19821563521533,-73.20829146724796,-72.66313398609104,-72.7252326966355,-74.43468131375579,-73.14527363257962,-73.97578056439093,-76.01571225861336,-73.43818919115525,-75.33259595065506,-76.4397650963289,-74.86892328898324,-72.72620347871809,-69.76390088579322,-69.01733508319244,-68.6244918858399,-71.85206215663642,-71.23783622743403,-70.41975156839321,-68.26260296332723,-67.34778938341152,-65.81313238489422,-66.72279578382492,-65.95277285998017,-65.71302965484782,-67.5357984543499,-65.37968092016386,-65.52658639242425,-66.4184645758606,-65.98064766919293,-67.53700072708202,-65.55097831918391,-65.2754678201052,-66.2034829956182,-66.67760395934907,-64.80068371280369,-65.6991344973977,-67.28626544022467,-70.3584346524745,-70.65688038922087,-70.02425791101948,-69.3110641139747,-70.50321066408323,-73.12723271142636,-73.38778784669012,-71.09656057653282,-71.71621765388899,-71.26299199792282,-73.54162735586611,-73.74384904638481,-73.77907894308282,-72.3659414744931,-70.11253068314669,-72.30946264601504,-73.35081929774935,-72.53042173508102,-71.34418125760278,-68.21755879294969,-66.79532367073304,-64.117058362021,-62.52744360599978,-62.91711868079358,-64.59445761895668,-67.46357360077327,-68.00572727359297,-71.062654963755,-68.8439869974947,-67.80351903337069,-69.73831244634027,-70.493194432105,-70.26864207822516,-69.94566607274825,-69.35621593127145,-69.21290004630595,-69.07931612471965,-68.42455292786043,-67.36919878510717,-67.29202204903586,-67.63899668660476,-67.65923880960175,-69.98033345448462,-68.8533447689759,-68.8514941718962,-71.00853304954019,-71.0125528657793,-69.43662079989188,-67.98770905064454,-66.30308147466597,-67.4479138092419,-66.41421871956386,-67.37705967315809,-69.35446710579446,-70.00113726208573,-68.46121749898478,-68.86816395959974,-69.58222160050151,-67.93284660113103,-65.9216851912224,-64.94947601658241,-64.5681705507775,-65.36296444581764,-65.0225422255724,-65.33220498218884,-66.89655833861238,-65.18793121274574,-63.874541678775685,-64.6404198603993,-64.07160188703055,-63.07842794592522,-62.48438326189012,-64.03307300683696,-65.13369695457168,-65.8171234281777,-65.38923050958198,-65.2291523797834,-65.28882957944252,-65.00334918707703,-67.33550471645185,-66.64604434252975,-66.43015469139934,-65.96446579026502,-67.98401908077668,-67.91287076112908,-68.06980429290246,-68.74043436844724,-69.68691544862205,-71.0692641618952,-71.87669436152538,-72.94819704969069,-72.14426491161834,-71.03530351368931,-70.42793692957258,-70.6735397933535,-71.99859828304956,-70.13815180858221,-68.88708707040468,-70.43794902452635,-72.2149661744591,-72.17099175161736,-72.39705017107806,-72.61868280310915,-72.1856070336519,-71.10224598138888,-69.78110833136296,-69.30528028396489,-67.02159529285792,-65.90224800442836,-65.34607146538232,-65.34982288279222,-65.21120820094035,-63.62487167638004,-63.162362231362366,-64.02637986253627,-64.06549538619038,-64.22199843866696,-63.34864649366514,-63.34496570177414,-62.5371469966235,-62.150619153083596,-63.34183073973772,-64.97342168643506,-64.36866690029434,-63.98946944988382,-63.23217060174365,-63.51820370062564,-62.98857889809747,-62.853609224138445,-62.53388770495922,-63.16479027865465,-64.31703304306107,-65.86498140600199,-67.78271585512542,-68.27329753924187,-68.7949804562773,-69.87671391907347,-68.81107266804726,-67.67168848694925,-67.0502391237588,-65.43446885261008,-64.69458207584171,-66.27881076576472,-68.05519622346931,-69.19375877646127,-69.83652386357255,-69.92365743739575,-69.4836031969104,-68.29953223604116,-67.91317218471201,-67.07949618216364,-65.64211918483278,-64.71258265365984,-64.88464289134924,-64.74668615911716,-64.66363113429367,-64.5811077796696,-64.36884471727075,-62.69361093611585,-61.761182443267444,-62.23013586144617,-62.43072144042826,-63.19913030284234,-64.14245857949021,-64.90146993442404,-65.4377186740469,-64.54462073481695,-64.19444821402216,-64.14720391918657,-64.27771231002373,-64.51995464523705,-65.2677962963624,-66.65237616331416,-67.06441511115382,-67.08196795002276,-67.09502888074547,-66.90340549891873,-67.03677068110869,-67.0462444277357,-68.45516232255825,-69.98660494285565,-70.02452763605494,-69.39092786040668,-69.32019221139444,-70.13614725514904,-69.32305324111796,-67.81731195354885,-66.32042796766997,-65.28032696399154,-65.74729462940898,-66.01482144915194,-65.65297782808277,-65.56773641159262,-65.67143292936579,-64.3880207646887,-64.03952616425374,-63.6328398230541,-62.89410101806715,-62.44427250990876,-63.33493665730023,-64.67000548443586,-66.21877898396338,-66.32583476711233,-66.43755921805892,-65.49727614121839,-64.20427373681324,-62.93508022400324,-62.31205224758574,-62.19358856613094,-61.34646791308012,-60.24760023736839,-60.0573010999621,-59.88934038989295,-60.97642960670409,-62.278962362557124,-62.872556045864116,-64.0893903519503,-64.84835264696507,-65.98748697831263,-67.00100581057004,-66.8675719538548,-65.72667525812628,-65.02899692887567,-64.06433811565094,-63.62186851828407,-63.57119745872152,-63.578471085716515,-63.51934914010773,-63.58730147977508,-63.78468702346629,-64.12645788771401,-64.08262129434733,-64.32550756575787,-63.706722498906174,-63.19646749612052,-63.513331781521025,-64.4506104198101,-64.82350532609456,-65.19152957486453,-64.51840201557205,-64.10425759536335,-64.39296760584187,-65.5315839403793,-66.58491882853062,-67.1185471372984,-66.37555209222535,-65.68681788082509,-65.36685481868255,-65.9541242058433,-66.09489269096844,-65.7805710954031,-64.71624033985023,-64.15707484689241,-63.804610222292084,-64.0504190171406,-63.90532116887658,-64.11926501256485,-64.33211350862635,-63.6636802604402,-63.87968674375282,-63.35555273994437,-63.37062503224567,-62.91094115858521,-61.99235859792202,-61.49680409427759,-60.225430916426134,-59.42072981934132,-60.18712476425429,-60.08278773946057,-60.3000284104138,-59.28637458633431,-59.24197187681358,-59.38179385932166,-59.86269846031745,-60.08778334634737,-60.491606591884015,-60.9652250532659,-61.46775571875142,-62.605256842405055,-62.70431470739077,-63.183677745461665,-63.055270358440595,-63.40764888790548,-64.18859137494326,-64.38938164935752,-64.01163276248666,-63.94552705397288,-63.942388843451816,-63.395360955287785,-62.56824984845032,-62.0798034928566,-61.80587901617468,-61.92441801002299,-61.32837617619268,-61.01623829289579,-61.0123994698741,-61.3154013131965,-61.99544270919109,-62.88389392993743,-62.33267368696359,-62.82021599669017,-63.13125100194069,-63.5082707481309,-63.392283497052354,-63.56689384195252,-63.26990902336526,-62.195520968643116,-61.84432098294826,-62.046683767075,-62.911901656507,-63.18727855401802,-63.48223183919701,-64.07890188029435,-64.4931409937016,-63.83818058132941,-63.50943413902917,-63.33075362059732,-63.2574129043398,-63.36189062739543,-62.40521206552176,-61.89455178455863,-60.86056923874929,-59.88410703686345,-59.550536645776205,-59.57921476981143,-60.312303335780655,-60.281308010291966,-60.27346473115905,-59.48219196639464,-59.075117005554915,-59.38029221270388,-60.49963011756207,-60.67250921570502,-60.87232601794992,-61.68245226834858,-61.99354194006317,-61.80792299388899,-62.04974730863681,-62.56925177274914,-61.77514684798128,-60.99225467246917,-60.22820887947582,-59.950396461008616,-60.09422596470767,-60.23747667764678,-60.471159095383705,-59.97874299426984,-59.89771523588759,-59.750853206071696,-60.488336071294896,-61.59265399690821,-61.72212890879169,-60.98721133765271,-61.34679736234261,-62.19473699399263,-61.99324948749408,-60.91981985947248,-60.28913566397707,-60.325729908569095,-61.11449012038793,-62.05840022564935,-63.094169600991364,-63.53779407454151,-63.46318259170887,-63.00778568809291,-63.13697495455623,-63.81984186725671,-64.51418723337513,-64.80986550779924,-64.52696583756273,-64.06311699149657,-64.02380990491625,-63.98462550432559,-63.816307570897514,-63.388429260754734,-63.43309999819569,-62.856665402334286,-62.57102898018569,-61.92150196794616,-61.269906111537736,-60.620754610299635,-60.04331924918174,-59.6942299900518,-59.66041600588299,-60.10062706054251,-60.74111564145054,-61.82483499326042,-61.97154462579219,-62.11837619714633,-61.407541959622826,-61.437106559324775,-61.839506464525876,-61.394682654822276,-61.10079028513733,-61.26216863519371,-60.976343107670374,-61.038111236587696,-61.220781964088125,-60.58516496656302,-60.262276975315004,-60.09058244103823,-60.32177052185335,-60.50337189460831,-60.69749454707758,-60.888539428591685,-61.068183482714716,-60.74889399625793,-60.35019709766859,-59.80511436890691,-59.280538703633894,-59.44288956049883,-59.336033022443324,-59.00114103785107,-58.75394720184204,-58.548602519501145,-58.41734329263256,-58.45666496353177,-57.96652150557018,-57.74517043941761,-58.133737082971635,-59.27924022337015,-59.72505581589088,-59.641474267340136,-59.908978456948475,-60.29966270991902,-60.638347759566905,-61.12215470685807,-61.560157818557144,-60.70705805357615,-59.99642567435964,-59.15935129951363,-59.14165782878494,-59.51357750311708,-59.30451417724545,-58.495472856814054,-58.25616338145138,-58.540484997961826,-58.68613540966799,-59.00015178755623,-58.98741449574974,-58.72156098570718,-59.33402839205484,-60.14728757668201,-60.957717957415184,-61.32874201832883,-61.90608256156385,-62.587774075584775,-63.302004345030156,-63.78972981451674,-64.47390597381599,-64.31008166264729,-64.14669722858642,-63.64663525268618,-63.24972702006431,-63.07191275475488,-63.09286353049463,-63.225262919865216,-63.357228178202604,-62.93227084672729,-62.55344472017201,-62.50748648127419,-62.459110720476716,-62.09208456843891,-61.774620145071985,-61.72662354592561,-61.578470398939345,-61.61538474672487,-61.777897117723384,-61.566470927358615,-60.810919420689224,-60.434103915400144,-60.470268728346085,-60.76592772069637,-61.135551748687554,-61.453080766847194,-60.88352138097995,-60.38612023926944,-59.94225598780923,-60.05845909407925,-59.792038817270395,-58.96271296205806,-58.60165054401387,-58.43525735178207,-58.377076818294995,-58.54692896092296,-58.16851935339987,-58.25866456153869,-58.36098974100486,-58.43811118473011,-58.915681313579164,-58.64897140166387,-58.47168224604625,-58.47826256357487,-58.80464521838001,-58.37961969406601,-57.96496172426963,-57.846123423989226,-57.75494179165471,-57.66398786383864,-57.68173017444716,-57.80122532899322,-57.91778033019207,-58.294862107092484,-58.45090949114319,-58.95173673694088,-59.388175661505066,-59.690973830635826,-59.96225142726946,-60.23512308709454,-60.27607802178013,-60.20812382895913,-60.15529755293542,-60.128990549412016,-60.588429523772625,-60.79389202860918,-60.50507838341227,-60.47809692898709,-60.399525067342076,-60.53123236973658,-60.470101775367034,-60.05761040247752,-59.72025966200991,-59.02587734101804,-58.358227581841774,-58.08480742085358,-58.07635915476675,-58.24577118247452,-58.06026577998374,-58.040421952245,-58.06897894686826,-58.183977259715164,-58.15137971576752,-57.739055430995315,-58.124104417643615,-59.03166729075467,-59.31325261091786,-59.653119406472754,-60.068280312025315,-60.24074282455045,-60.52949386556122,-60.990204842399706,-61.701438053608854,-62.45324604197556,-62.47071620675626,-62.487499286722795,-62.646692512974255,-62.81950690406401,-62.33605963631703,-61.56295511857853,-61.48438522847125,-61.69654434172102,-62.11391424174738,-61.82179248466707,-61.51667849583127,-61.30613961423065,-61.17873007058843,-61.23221298959544,-61.641712888047465,-62.09062587687892,-62.1191890958008,-62.191449835952284,-62.569747231031556,-62.64132014897567,-62.50205966068758,-62.22895766495971,-61.78452602733881,-61.20049782211532,-60.81663156475223,-60.28233912956162,-60.20730526562265,-60.154709403468445,-59.89282116201405,-60.08906467736752,-60.52462941927887,-60.44738931465184,-60.109746156935024,-59.85816830368228,-60.106799056473825,-60.03599524889673,-59.748291759754096,-59.31575245601748,-59.167902931040175,-58.887756596817646,-58.825299508826674,-58.80977541237215,-58.43387545160721,-58.23461335140711,-58.11131392664052,-57.922679186207496,-57.74606957304616,-57.800005305383145,-57.94236028057409,-58.05215054178985,-58.147243564325734,-57.748357634291615,-57.34678787497805,-57.38603260113406,-57.888040338443375,-58.58414493177359,-58.94011656784652,-58.66072061700038,-58.477823888434145,-58.56060813997003,-59.061207641248956,-59.28068634011309,-58.90686828732786,-58.52115261098513,-57.957175763717544,-57.62731537382101,-57.75450672023645,-58.14990669259607,-58.27702176893558,-58.230481544163396,-58.21745219619447,-58.33231003312533,-58.57884674677983,-58.90249705691463,-58.90950593554088,-58.34945252414228,-57.99027115678031,-57.96416362169215,-58.04884749828748,-58.20154999794484,-58.38157734644686,-58.27201590666678,-58.40142155668738,-58.06469594365033,-58.059420808123036,-58.06065505792827,-58.04891078357568,-58.35105931897186,-57.96200973923612,-57.820339114328206,-57.62853773993385,-57.76609148043232,-58.19345155448761,-58.610905138713925,-58.71824042395343,-58.7728034686974,-58.50152833647171,-58.328205572079554,-58.13586660867756,-58.0390959376685,-58.290370858295645,-58.16735067961381,-58.04554507469573,-58.07984910773364,-58.59075206169902,-58.49937027518331,-58.43543435423406,-58.3958809340226,-57.94858237088951,-57.772979956625726,-57.58514127043022,-58.01303811822175,-58.432000929117024,-58.820804689267504,-59.23118484016601,-58.985226142933286,-58.823938609824445,-58.74784199599227,-58.80353873299137,-58.78344403299476,-58.29447588073291,-57.99904968606232,-58.08815552118766,-58.15379529411929,-57.665628211961476,-57.993385067513756,-58.55464619216257,-58.655317000106194,-58.77229657738532,-58.67107501173494,-58.64508872405966,-58.953397573479975,-59.2801025488525,-59.77376853271299,-60.42735516022356,-60.3431138176122,-60.08074721485594,-60.049055413964304,-59.854772497416725,-59.66109694360064,-59.46677181562667,-59.35098177191948,-59.32523763671941,-58.94931053542504,-58.79186093356958,-58.771552310787484,-59.04362916727564,-59.04167353983816,-58.91872245746441,-58.484778859390474,-58.5285246308024,-58.77693859321136,-59.14441647834487,-59.51282404303534,-59.2018565437439,-58.900184955224034,-58.61001630448504,-58.613647311502135,-58.645674019884076,-58.88714198452282,-59.403965062366595,-59.40288520087009,-59.422566082849,-59.07181146550876,-58.60747408083243,-58.582720931954086,-58.9098034433317,-59.19822115372583,-59.2269351892366,-58.81723042592528,-58.690458516915356,-59.0211742472184,-59.34362960387076,-59.54701490656475,-59.74610034546649,-59.91248923565566,-60.16119651015734,-60.516538894428024,-61.06724237465501,-61.67958935064716,-61.94760482477355,-61.86964191936044,-61.57279159213671,-61.28070374090404,-61.06719575031665,-60.87980876793491,-60.592186500168886,-59.99479102113547,-59.468998900799036,-59.0892844266018,-58.97454020965349,-58.86005394878373,-58.81619586489571,-58.35851510795618,-58.353511798597154,-58.38579283847185,-58.444745204096016,-58.59248022213267,-58.156176060848715,-58.03590742674402,-58.00777721049272,-57.979460889440695,-57.88947895643871,-58.01667334131036,-58.04319470934339,-57.78739206013906,-57.557952926508705,-57.34076400906952,-57.124698512373705,-56.92333338655346,-57.37491027032881,-57.57677400130783,-57.57600820024618,-57.65405052565764,-57.78259209230967,-58.13207240259061,-58.5557753394758,-59.25799314553609,-59.461720294471114,-59.43244395288134,-59.42018146898371,-59.40791861362438,-59.1734691291633,-58.82853741494077,-58.78039471400396,-59.22280073957265,-59.52375923850076,-59.45567098138622,-59.59467663474121,-59.24753907150695,-58.97016186693944,-58.772536960068315,-58.927292489312514,-59.18418806912158,-59.73560367283632,-60.439401549423984,-61.14164089136567,-61.296096600256476,-61.77334263296715,-61.65267223631372,-61.19351594516982,-60.735339648088164,-60.35350349367941,-60.12194082416289,-59.73711328007126,-59.80366846094786,-59.92727936372925,-60.12854081957586,-60.070628197653264,-60.10269710351331,-60.02894594849634,-59.94915525858325,-59.568765678459854,-59.262525745450866,-59.305230559224995,-59.34400255779518,-59.39992629299039,-59.24253427553765,-59.49384826156025,-59.790717926513665,-59.56364482093381,-59.28767905629172,-59.0801179612008,-58.781706624404286,-58.78953669089499,-58.515037302818,-58.1838411016801,-57.891986360696144,-57.666647542012385,-57.479739946044205,-57.33873845847128,-57.19742502995317,-56.96053540808047,-56.98163004806578,-57.33669727110832,-57.03515482497838,-57.140925626937516,-57.04266854062341,-56.79751666067975,-56.68053906888319,-56.634147830849045,-56.80653932024873,-57.12458417524486,-57.54929716057735,-57.45319203745943,-57.35724215148545,-57.26148724655489,-57.285544133647186,-57.5144983880252,-57.8737811221694,-58.28804921257416,-58.13050826689604,-58.00385968104775,-57.98428875029699,-58.412351771259544,-58.88140236958363,-58.96096818225385,-58.61002522821699,-58.2645725384792,-57.938679800181006,-57.74775384525183,-57.77467969097134,-58.203053915068054,-58.87765120285691,-59.569947760859954,-60.24139354132336,-60.433845099381145,-60.68899461296094,-61.24814181686555,-61.32891307849201,-61.188799534915226,-60.958008541453054,-61.019053913671286,-61.2412201745655,-61.62015962561314,-61.622391054332105,-61.62591055449603,-61.62941989628679,-61.98002803388418,-61.475443314495166,-60.979200255414156,-60.53487159995979,-60.12999116327072,-59.985249236064675,-59.96584988880795,-59.993652958860494,-60.025628939843784,-60.08538450180362,-60.15179891761083,-59.931241347469246,-59.771400702885764,-59.64582787234053,-59.7622781306533,-60.0630174573772,-60.575475264510345,-60.5991195831345,-60.475853279337514,-60.35777059360155,-60.01936129280365,-59.73792999487082,-59.65886496143825,-59.399075970336156,-59.18270134941217,-59.03336595377482,-58.93734916755225,-58.841516851573346,-58.76630493343711,-58.717452248090304,-58.66869315026334,-58.624522667357155,-58.870170910129744,-59.13386371243257,-59.3970304850246,-59.534143064099794,-59.61942187463691,-59.75090952193594,-59.39783340164149,-59.471707273386215,-59.59399326046064,-59.89907065124207,-60.06800899509032,-60.48295241944443,-60.581247175640655,-60.598186248893434,-60.7037099678446,-60.8195936964488,-60.869008088385975,-60.80826195522914,-60.74311547392993,-60.677734137392044,-60.612459720454076,-60.56167182477927,-60.5491756339415,-60.5367013779485,-60.35292724244014,-59.98056448054576,-59.79945186251378,-59.82331282506531,-59.85456767689825,-59.71024353430594,-59.636751041780784,-59.857191719420214,-59.75489943794779,-59.65886771515284,-59.86124580687544,-60.09499118954239,-60.06817648147288,-59.91923840004449,-60.075779555958036,-60.301980452478176,-60.534169270792724,-60.76377937104097,-60.9543331432712,-60.957964434092005,-60.985576837631484,-60.99211309748517,-60.83870156916146,-60.716405643376625,-60.54657440188285,-60.15805837609372,-59.91962990598196,-59.825652785718155,-59.74789126693031,-59.66949326964119,-59.548614456914834,-59.33190893047653,-59.023130537326196,-58.82446779148514,-58.838006625071785,-59.23228175191793,-59.73252201826376,-60.09644283498823,-60.30809221746292,-60.0808264818413,-59.853777684396135,-59.84453725076341,-59.71393551191822,-59.526251774912254,-59.328292422354835,-59.0396047833416,-58.75103137965587,-58.46297376975795,-58.175431466587,-58.03965102206207,-58.12455839700823,-58.001202121530554,-57.89430038990339,-57.78758897842512,-57.68442522807089,-57.61586577544006,-57.84876338648157,-57.883568187462615,-57.905927077055395,-57.928244929162915,-57.97704247144701,-58.03018807938277,-57.99322919381993,-57.792511275834094,-57.62801170234827,-57.58833259130623,-57.56140021816722,-57.68632887006715,-57.733549889605115,-57.64281581768029,-57.38515797541942,-57.11964322714299,-57.27761018644791,-57.553664666226794,-57.87625504430695,-58.036736757087894,-58.33450517897606,-57.9498622681019,-57.71858548691322,-57.38533320739914,-57.099539715818736,-56.96383720554509,-56.81638666424891,-56.636301085864005,-56.61440386329141,-56.891967329280604,-56.94722310665365,-57.043070597952585,-57.138752415118155,-57.399245460526224,-57.75719155538119,-58.188622727596595,-58.06890749438868,-57.88322416190985,-58.03997395743163,-58.203736904345824,-58.305556566461114,-58.64649141774816,-58.634417835828806,-58.76577494699139,-58.60015170778651,-58.47504339671795,-58.53527984663385,-58.61756720672807,-58.752998155252826,-58.96365664490826,-59.25678531351821,-59.529362059006885,-59.56659977875638,-59.81593609479851,-59.981388171911036,-60.0614749714345,-60.19451658183665,-60.35987297499333,-60.273892019047004,-60.279670125793785,-60.486778621535244,-60.62968384507456,-60.560688431665916,-60.42721421451838,-60.427414766133815,-60.52286709435067,-60.61815926763548,-60.7132916801934,-61.02773865202252,-61.02587144644737,-61.04224936331164,-61.07427029730561,-61.10623777398074,-61.13815192709176,-61.1700128899476,-61.20182079503386,-61.23352615188811,-60.94304235219906,-60.75022187803914,-60.67035857449496,-60.54104728152535,-60.58426193309536,-60.64427422531549,-60.985985909245734,-61.348989605869065,-61.711393502393946,-62.05829112167775,-61.732640240405104,-61.407436344227314,-61.082767762867554,-60.758633175885016,-60.43503126694191,-60.11196072402333,-59.97499503005042,-59.97142523816136,-60.089653812118314,-60.45738966435955,-60.47512031316249,-60.497691934187586,-60.520226703542164,-60.54269153996364,-60.271123964503225,-60.100941335981034,-59.950371955709166,-59.917692907691944,-59.900260678351394,-60.00936318933071,-60.03681626716715,-60.06695642306263,-59.738100307473694,-59.377763919953075,-59.020857043698946,-58.681367115214265,-58.34242519307095,-58.06856207634213,-57.96352730523263,-57.95342997315343,-57.89992313608559,-57.851409872312814,-57.82441855160215,-57.797470555643834,-57.770565780178494,-57.75071542325715,-57.569821952608905,-57.430900397009964,-57.30587201523683,-57.238392771296155,-57.1818877296586,-57.12823594029128,-57.2309564606057,-57.33156999195157,-57.32715670145175,-57.28575673298781,-57.20823337992113,-57.12677077477355,-57.15487139769987,-57.18885093434032,-57.25085213352994,-57.48240355104133,-57.85537317809542,-58.227753595627924,-58.599545959247195,-58.796971406818784,-58.853112592175776,-58.972680768847674,-58.717526786335334,-58.48669025878377,-58.26363194014333,-58.051228764500465,-58.051922924943135,-58.36609337166922,-58.705007129947454,-59.17615672611959,-58.91869633752195,-58.84928512922868,-58.90543777818196,-58.84219430578695,-58.63255903889375,-58.52080293546504,-58.57943618304255,-58.371969770166366,-58.1634927053249,-57.95533936174245,-57.74750898688551,-57.66489438834876,-57.62558227349854,-57.753760941595274,-58.001438309832245,-58.384350435131566,-58.374248737684326,-58.364083422355876,-58.39692598437384,-58.38871134081213,-58.496215575124424,-58.64040677341855,-58.40282551145226,-58.188007934791855,-58.21995317799678,-58.34135068276029,-58.090330638852286,-57.90207656427348,-57.71411056010244,-57.56186026311999,-57.45589703378941,-57.51950362916406,-57.98865025785328,-57.9393325151335,-57.77197917175964,-57.51120767312576,-57.29968060006875,-57.484085706509354,-57.85388328383503,-58.23672410678277,-58.47608708867163,-58.4838127124097,-58.47083269146739,-58.76035938489924,-58.714975545108274,-58.64461895206604,-58.36877305170792,-58.111378080746874,-57.86979071242391,-57.73287339574318,-57.829139211458205,-57.92615575139856,-58.02302644699739,-58.11973433202556,-58.218834261918076,-58.38325650547218,-58.530842370768035,-58.67813400963877,-58.811114796010045,-58.51464135580909,-58.20452678696067,-58.079878948083326,-58.33141840273813,-58.591433720401554,-58.4934359455925,-58.39557746203734,-58.343814563975116,-58.28722751468928,-58.12789644592353,-58.15284715261255,-57.87377826879252,-57.50960165775088,-57.19569842028669,-56.888077514404024,-56.9434203717539,-56.888501786180306,-56.89166399275183,-57.08092059332189,-57.51017643971064,-57.78025043349936,-58.03612878047832,-58.27407422003204,-58.24221204910428,-58.44299647142642,-58.801150916213395,-59.164470105551246,-59.53138321379132,-59.925189566024144,-60.16239485683414,-60.350185953216894,-60.38761620118322,-60.15473455592202,-59.91877293983941,-59.82388420654623,-59.81233665232592,-59.82295753822858,-59.85118596615665,-59.87937336435209,-59.91275899565127,-59.84321120788587,-59.745468541866146,-59.74036270322526,-59.79875656814185,-59.86920238591685,-59.93894119020736,-59.93548097783125,-59.858982694024036,-59.78198860756965,-59.75138461801455,-59.75111879617521,-59.8100377336074,-59.896700400768935,-60.04594078553828,-59.91161202585418,-59.863369174337095,-59.85176415952836,-59.83128812420905,-59.8638627576799,-60.03747935624321,-60.01577206691529,-60.01065398521595,-60.00553923311488,-60.00043174746466,-60.04742313670222,-59.866287276773036,-59.95813264777283,-60.137440522942796,-60.17612013538004,-60.32616119143758,-60.26331352253434,-60.325536973255566,-60.13205838369585,-59.949478142231484,-60.05860798451528,-60.31304694204903,-60.251156152585615,-60.24559178354795,-60.240651393663136,-60.235717973492,-60.25504038506405,-60.282771788357856,-60.305841318926284,-60.21300695023383,-60.13592670169094,-60.05291330713149,-59.93443873622063,-59.78459508767425,-59.63078796731089,-59.50681625728159,-59.38372884909687,-59.29250548579942,-59.1431197572922,-58.892808756281184,-58.67488551237045,-58.54732914254155,-58.35310153923233,-58.39146214301013,-58.41315697202048,-58.25633126449724,-58.13721445608033,-58.02098697737753,-57.94850132442075,-58.03235469642323,-58.15623023539181,-58.04232074851052,-58.18069925253231,-58.048071544622445,-57.927691168487684,-57.68452871025959,-57.45423886194783,-57.30207218957679,-57.10525762145075,-56.844253955918475,-56.728305704813906,-56.638237790458746,-56.582243440766774,-56.540767514085076,-56.50776954412987,-56.47450853838702,-56.44127173928128,-56.40807583767873,-56.37426232749936,-56.31862554673861,-56.48993795671636,-56.50500305554395,-56.580819208730134,-56.75140232899187,-56.93068654841399,-57.139740402633876,-57.336996460725935,-57.262034959024206,-57.11277314398126,-57.142618298233785,-57.402461115399106,-57.84777832726741,-57.99250453539536,-57.95622691989203,-57.86575548792014,-57.77065523574126,-57.67401303950427,-57.56241471019427,-57.53360908191179,-57.55955060524542,-57.65799512883746,-57.58253354958893,-57.56959294808654,-57.89906031899642,-57.894797678023465,-57.62086977343364,-57.34483169760403,-57.087292773915124,-56.87986491614244,-56.68389818127548,-56.534794768833024,-56.47776770248704,-56.516310643301814,-56.779795656641454,-57.174367425307786,-57.56896277622117,-57.627442166458025,-57.55009723690168,-57.52733698572136]}},\"id\":\"65d6e814-0d77-4317-b35d-fad5ed843b0a\",\"type\":\"ColumnDataSource\"},{\"attributes\":{\"callback\":null,\"column_names\":[\"y\",\"x\"],\"data\":{\"x\":[0,1,2,3,4,5,6,7,8,9,10,11,12,13,14,15,16,17,18,19,20,21,22,23,24,25,26,27,28,29,30,31,32,33,34,35,36,37,38,39,40,41,42,43,44,45,46,47,48,49,50,51,52,53,54,55,56,57,58,59,60,61,62,63,64,65,66,67,68,69,70,71,72,73,74,75,76,77,78,79,80,81,82,83,84,85,86,87,88,89,90,91,92,93,94,95,96,97,98,99,100,101,102,103,104,105,106,107,108,109,110,111,112,113,114,115,116,117,118,119,120,121,122,123,124,125,126,127,128,129,130,131,132,133,134,135,136,137,138,139,140,141,142,143,144,145,146,147,148,149,150,151,152,153,154,155,156,157,158,159,160,161,162,163,164,165,166,167,168,169,170,171,172,173,174,175,176,177,178,179,180,181,182,183,184,185,186,187,188,189,190,191,192,193,194,195,196,197,198,199,200,201,202,203,204,205,206,207,208,209,210,211,212,213,214,215,216,217,218,219,220,221,222,223,224,225,226,227,228,229,230,231,232,233,234,235,236,237,238,239,240,241,242,243,244,245,246,247,248,249,250,251,252,253,254,255,256,257,258,259,260,261,262,263,264,265,266,267,268,269,270,271,272,273,274,275,276,277,278,279,280,281,282,283,284,285,286,287,288,289,290,291,292,293,294,295,296,297,298,299,300,301,302,303,304,305,306,307,308,309,310,311,312,313,314,315,316,317,318,319,320,321,322,323,324,325,326,327,328,329,330,331,332,333,334,335,336,337,338,339,340,341,342,343,344,345,346,347,348,349,350,351,352,353,354,355,356,357,358,359,360,361,362,363,364,365,366,367,368,369,370,371,372,373,374,375,376,377,378,379,380,381,382,383,384,385,386,387,388,389,390,391,392,393,394,395,396,397,398,399,400,401,402,403,404,405,406,407,408,409,410,411,412,413,414,415,416,417,418,419,420,421,422,423,424,425,426,427,428,429,430,431,432,433,434,435,436,437,438,439,440,441,442,443,444,445,446,447,448,449,450,451,452,453,454,455,456,457,458,459,460,461,462,463,464,465,466,467,468,469,470,471,472,473,474,475,476,477,478,479,480,481,482,483,484,485,486,487,488,489,490,491,492,493,494,495,496,497,498,499,500,501,502,503,504,505,506,507,508,509,510,511,512,513,514,515,516,517,518,519,520,521,522,523,524,525,526,527,528,529,530,531,532,533,534,535,536,537,538,539,540,541,542,543,544,545,546,547,548,549,550,551,552,553,554,555,556,557,558,559,560,561,562,563,564,565,566,567,568,569,570,571,572,573,574,575,576,577,578,579,580,581,582,583,584,585,586,587,588,589,590,591,592,593,594,595,596,597,598,599,600,601,602,603,604,605,606,607,608,609,610,611,612,613,614,615,616,617,618,619,620,621,622,623,624,625,626,627,628,629,630,631,632,633,634,635,636,637,638,639,640,641,642,643,644,645,646,647,648,649,650,651,652,653,654,655,656,657,658,659,660,661,662,663,664,665,666,667,668,669,670,671,672,673,674,675,676,677,678,679,680,681,682,683,684,685,686,687,688,689,690,691,692,693,694,695,696,697,698,699,700,701,702,703,704,705,706,707,708,709,710,711,712,713,714,715,716,717,718,719,720,721,722,723,724,725,726,727,728,729,730,731,732,733,734,735,736,737,738,739,740,741,742,743,744,745,746,747,748,749,750,751,752,753,754,755,756,757,758,759,760,761,762,763,764,765,766,767,768,769,770,771,772,773,774,775,776,777,778,779,780,781,782,783,784,785,786,787,788,789,790,791,792,793,794,795,796,797,798,799,800,801,802,803,804,805,806,807,808,809,810,811,812,813,814,815,816,817,818,819,820,821,822,823,824,825,826,827,828,829,830,831,832,833,834,835,836,837,838,839,840,841,842,843,844,845,846,847,848,849,850,851,852,853,854,855,856,857,858,859,860,861,862,863,864,865,866,867,868,869,870,871,872,873,874,875,876,877,878,879,880,881,882,883,884,885,886,887,888,889,890,891,892,893,894,895,896,897,898,899,900,901,902,903,904,905,906,907,908,909,910,911,912,913,914,915,916,917,918,919,920,921,922,923,924,925,926,927,928,929,930,931,932,933,934,935,936,937,938,939,940,941,942,943,944,945,946,947,948,949,950,951,952,953,954,955,956,957,958,959,960,961,962,963,964,965,966,967,968,969,970,971,972,973,974,975,976,977,978,979,980,981,982,983,984,985,986,987,988,989,990,991,992,993,994,995,996,997,998,999,1000,1001,1002,1003,1004,1005,1006,1007,1008,1009,1010,1011,1012,1013,1014,1015,1016,1017,1018,1019,1020,1021,1022,1023,1024,1025,1026,1027,1028,1029,1030,1031,1032,1033,1034,1035,1036,1037,1038,1039,1040,1041,1042,1043,1044,1045,1046,1047,1048,1049,1050,1051,1052,1053,1054,1055,1056,1057,1058,1059,1060,1061,1062,1063,1064,1065,1066,1067,1068,1069,1070,1071,1072,1073,1074,1075,1076,1077,1078,1079,1080,1081,1082,1083,1084,1085,1086,1087,1088,1089,1090,1091,1092,1093,1094,1095,1096,1097,1098,1099,1100,1101,1102,1103,1104,1105,1106,1107,1108,1109,1110,1111,1112,1113,1114,1115,1116,1117,1118,1119,1120,1121,1122,1123,1124,1125,1126,1127,1128,1129,1130,1131,1132,1133,1134,1135,1136,1137,1138,1139,1140,1141,1142,1143,1144,1145,1146,1147,1148,1149,1150,1151,1152,1153,1154,1155,1156,1157,1158,1159,1160,1161,1162,1163,1164,1165,1166,1167,1168,1169,1170,1171,1172,1173,1174,1175,1176,1177,1178,1179,1180,1181,1182,1183,1184,1185,1186,1187,1188,1189,1190,1191,1192,1193,1194,1195,1196,1197,1198,1199,1200,1201,1202,1203,1204,1205,1206,1207,1208,1209,1210,1211,1212,1213,1214,1215,1216,1217,1218,1219,1220,1221,1222,1223,1224,1225,1226,1227,1228,1229,1230,1231,1232,1233,1234,1235,1236,1237,1238,1239,1240,1241,1242,1243,1244,1245,1246,1247,1248,1249,1250,1251,1252,1253,1254,1255,1256,1257,1258,1259,1260,1261,1262,1263,1264,1265,1266,1267,1268,1269,1270,1271,1272,1273,1274,1275,1276,1277,1278,1279,1280,1281,1282,1283,1284,1285,1286,1287,1288,1289,1290,1291,1292,1293,1294,1295,1296,1297,1298,1299,1300,1301,1302,1303,1304,1305,1306,1307,1308,1309,1310,1311,1312,1313,1314,1315,1316,1317,1318,1319,1320,1321,1322,1323,1324,1325,1326,1327,1328,1329,1330,1331,1332,1333,1334,1335,1336,1337,1338,1339,1340,1341,1342,1343,1344,1345,1346,1347,1348,1349,1350,1351,1352,1353,1354,1355,1356,1357,1358,1359,1360,1361,1362,1363,1364,1365,1366,1367,1368,1369,1370,1371,1372,1373,1374,1375,1376,1377,1378,1379,1380,1381,1382,1383,1384,1385,1386,1387,1388,1389,1390,1391,1392,1393,1394,1395,1396,1397,1398,1399,1400,1401,1402,1403,1404,1405,1406,1407,1408,1409,1410,1411,1412,1413,1414,1415,1416,1417,1418,1419,1420,1421,1422,1423,1424,1425,1426,1427,1428,1429,1430,1431,1432,1433,1434,1435,1436,1437,1438,1439,1440,1441,1442,1443,1444,1445,1446,1447,1448,1449,1450,1451,1452,1453,1454,1455,1456,1457,1458,1459,1460,1461,1462,1463,1464,1465,1466,1467,1468,1469,1470,1471,1472,1473,1474,1475,1476,1477,1478,1479,1480,1481,1482,1483,1484,1485,1486,1487,1488,1489,1490,1491,1492,1493,1494,1495,1496,1497,1498,1499],\"y\":[-60.900000000000006,-64.68333333333335,-60.73050610801136,-58.035435645729955,-56.860866523786456,-55.93946818873291,-56.306455282303034,-56.980535642623146,-56.197410571315935,-55.52468359065272,-56.064173016337804,-56.264727232936934,-55.84677921334399,-55.086399030132426,-55.573249282603456,-56.11368121146108,-56.33406936932444,-56.18486814858866,-55.90679919453592,-55.60429480860023,-55.247228872169586,-55.37909684220949,-55.48899751761297,-55.44838773108949,-55.2147613690647,-55.3255744095426,-55.523820462385686,-55.580910200655254,-55.47937749893886,-55.404693182519416,-55.390632186436434,-55.4002037684746,-55.29561415827294,-55.16169727852107,-55.227962397186694,-55.3034546804798,-55.388846796222595,-55.35939591189994,-55.22681891144985,-55.001497123737025,-54.982337393740444,-55.07273760944089,-55.20245686949699,-55.297281375516505,-55.31468575764621,-55.257296242045214,-55.21460712744691,-55.18317717063321,-55.11619491450141,-55.015918635259,-54.9297418181429,-55.00600752612357,-55.092580713593605,-55.118499976685534,-55.0916032810712,-55.01166361925147,-54.911376839476006,-54.91053891454795,-55.00906956624088,-55.1026816052271,-55.144340177387036,-55.13735445712933,-55.084794950464,-55.04469140066044,-55.0346448662913,-55.00538402486812,-54.97177572054637,-54.91740072814079,-54.96313439480947,-55.05270101077349,-55.09681299616946,-55.10218955555452,-55.05851543108893,-54.988049867799155,-54.93926745130015,-54.95243714340272,-55.002953038325,-55.03040026961022,-55.03593149242781,-55.054582910549684,-55.057742230630865,-55.044541821013105,-55.024394485039835,-55.009844211147886,-54.96650802891985,-54.89572832724133,-54.8688582789721,-54.91536692619505,-54.98040038835474,-55.017183423008106,-55.02694623358378,-55.01085817835045,-54.970031306626865,-54.90552365689616,-54.8826757439946,-54.899381719082854,-54.92524231794913,-54.94747982623705,-54.974860333999494,-54.97867596174923,-54.98513397392941,-54.981247057094166,-54.965896751321395,-54.93952393820146,-54.902550343808144,-54.85537951653912,-54.89584794558651,-54.952568238762666,-54.99630610738747,-55.01951752300206,-55.02293714020508,-55.00726974241806,-54.97319167121414,-54.92135217627636,-54.89241718194515,-54.89820313987535,-54.894155429872136,-54.89752688643953,-54.94322506529642,-54.97057342847999,-54.980251057087145,-54.972915831499165,-54.948418980513054,-54.93495985702091,-54.91503542997292,-54.8869596941533,-54.85099118412141,-54.86751067582039,-54.92364434676458,-54.964207966242924,-54.98899198626981,-54.99847117635026,-54.9934468011146,-54.97333353350917,-54.9395875649411,-54.898887958935084,-54.90509268417574,-54.9249196998758,-54.93536829638123,-54.93670441846645,-54.92918542809683,-54.93170615528912,-54.93779063393156,-54.95342009681823,-54.96422665042893,-54.961886673800436,-54.94675696963087,-54.91968364776409,-54.896060350269835,-54.89582711906612,-54.91785388701261,-54.93853823909368,-54.94560564768705,-54.9394086805513,-54.920289535162716,-54.89551133500918,-54.881353746830285,-54.8722103052977,-54.89457070897144,-54.910518229692244,-54.93149816485689,-54.94608916037358,-54.95334929511069,-54.95345627043555,-54.946582884688596,-54.93289719282965,-54.9125626600347,-54.88573830950506,-54.85781984858784,-54.84401449986673,-54.87101181926107,-54.893152149503514,-54.90986456625355,-54.92219888772074,-54.93882480783043,-54.94214412405156,-54.93245697653214,-54.91005581469022,-54.875225629695514,-54.828244178771406,-54.83486153581869,-54.86165026386452,-54.89220476128413,-54.916417968237106,-54.93442531732332,-54.94635893341234,-54.95234772914226,-54.95251749720613,-54.946990999549755,-54.93588805359924,-54.91932561563141,-54.897417861395375,-54.872694615497764,-54.85063446621255,-54.839003779208866,-54.868898347477725,-54.902155893534356,-54.925987899367705,-54.94058252925132,-54.94612366396119,-54.94279101597879,-54.93076024108454,-54.91020304647129,-54.885370715843905,-54.8643472962259,-54.87475607890511,-54.87821541309422,-54.882230676269664,-54.88052787311419,-54.87666046290861,-54.8759618869099,-54.889898699313726,-54.900832335552025,-54.90691180835601,-54.908226943033725,-54.904865671182684,-54.89691407786415,-54.8844564474081,-54.86757530789398,-54.87545885009958,-54.896822487018106,-54.9111684050841,-54.91862186017971,-54.919305560587624,-54.913339728220436,-54.90084215813489,-54.88192827638615,-54.85671119627488,-54.843538817114805,-54.840418945047404,-54.85205759484704,-54.87926831991256,-54.89976113297771,-54.91364997635787,-54.921046586085076,-54.92206054242588,-54.91679931905065,-54.905368330895215,-54.88787098075511,-54.87897483144401,-54.869915366480924,-54.85773156085679,-54.853370329141384,-54.84766335986663,-54.84041759637787,-54.86543363027119,-54.88605215529289,-54.90072646198282,-54.909551549142904,-54.91262068448537,-54.91002544192609,-54.901855737941126,-54.888199867013384,-54.8691445361956,-54.87431953146713,-54.877352131732835,-54.87738080912774,-54.87445207139007,-54.87995279823191,-54.89290471890136,-54.902858764917696,-54.90986032656415,-54.91395400906764,-54.915183648664105,-54.913592328280174,-54.909222392841976,-54.902115464220955,-54.89538216830444,-54.890548224890296,-54.884404856626034,-54.876971509671414,-54.86826730327245,-54.86284443695167,-54.87213583351727,-54.875849481235285,-54.88209196414898,-54.883669145181116,-54.87866458006501,-54.86725965219492,-54.84928631832397,-54.84814269673795,-54.857924784907866,-54.86279255215443,-54.8628150368461,-54.86170083387985,-54.86545738971263,-54.867601845842735,-54.87334245735239,-54.87602007673887,-54.87567680264058,-54.87235407449744,-54.87367949740867,-54.88412998613795,-54.89131065140664,-54.895265630923234,-54.89603838304432,-54.89367169914315,-54.888207715715396,-54.87968792622866,-54.868153192721856,-54.8536437571605,-54.8496679236043,-54.848814675719076,-54.85584657222428,-54.862852361589546,-54.86972750423941,-54.88088671016179,-54.8877273572262,-54.89030513344866,-54.88867490831774,-54.88289074702659,-54.87300592441635,-54.859072938637446,-54.8565821385941,-54.859350002584556,-54.86274699587114,-54.8623868563574,-54.86486131024883,-54.86292208260548,-54.85662434261658,-54.84602247517988,-54.8329514833514,-54.83328113122721,-54.84731108333899,-54.85914271875208,-54.86880278568544,-54.87631766019746,-54.881713352316844,-54.88501551205561,-54.886249435306794,-54.8854400696294,-54.88261201992293,-54.87778955399428,-54.87099660801881,-54.86247424854419,-54.85191335182482,-54.83930785251825,-54.83468506920288,-54.8323506617442,-54.834127835246456,-54.84460184392926,-54.85104186494699,-54.85349481814313,-54.852817015206696,-54.853122081923914,-54.85701083067853,-54.85730489070151,-54.86426898119562,-54.87185894810977,-54.87590446841497,-54.87644581889612,-54.873522754792646,-54.86717451778928,-54.85743984386389,-54.847851412972226,-54.84157477921212,-54.83357978491171,-54.823839094122675,-54.83158394544819,-54.84340212454067,-54.85280161812695,-54.85980899952498,-54.864450508687554,-54.86675205715345,-54.86673923291242,-54.86488641556081,-54.86277645355858,-54.85751287914191,-54.86343105613119,-54.870238557728065,-54.87528654352221,-54.87859385115195,-54.88017908815964,-54.880060635318344,-54.8782566499024,-54.874785068902966,-54.869663612189555,-54.863852473197404,-54.85936299102454,-54.85521857851873,-54.84814661927328,-54.8381778134346,-54.82534249523677,-54.81044882814224,-54.82266204963752,-54.83569976969631,-54.84829598255888,-54.8602276704684,-54.86930841135025,-54.87578265057441,-54.879337999828316,-54.88000417396242,-54.87781054310845,-54.87278613741205,-54.8649596516895,-54.854359450009994,-54.841744172243175,-54.828458665312446,-54.83303430909234,-54.836830949996276,-54.83985630922322,-54.84211802052902,-54.844499351287965,-54.84617099451556,-54.845530937449944,-54.85180048264247,-54.85748198910466,-54.86210381231003,-54.86555381099388,-54.86719829291087,-54.86705478325949,-54.86550745042818,-54.863128253811055,-54.85930995294719,-54.8540664460003,-54.847411478587816,-54.8393586457612,-54.8299213939563,-54.8200110474285,-54.8161358585433,-54.81178996617545,-54.81639894313629,-54.82983721825757,-54.84056754119454,-54.848719131932675,-54.854086102574996,-54.85684769095498,-54.85870230445322,-54.85804264895676,-54.854892098369156,-54.84927377919739,-54.842649439426985,-54.833650852629106,-54.828160278776764,-54.82351961275466,-54.818011202656066,-54.81888871229597,-54.82845578766717,-54.83635766885177,-54.84260939823211,-54.84794906243047,-54.85280598009501,-54.85585452432434,-54.8579059097483,-54.85864165848454,-54.85807355425434,-54.856335764710266,-54.85326001405248,-54.84903650498716,-54.84355405244839,-54.83710392336002,-54.82997594151188,-54.82135054753191,-54.811240986851274,-54.80353904696007,-54.81533525813611,-54.82818104319393,-54.838067654624666,-54.84596017252848,-54.851275232877455,-54.85492091701318,-54.85735432415967,-54.85768551755146,-54.856210738806496,-54.8526263510946,-54.84740811256822,-54.840043348869294,-54.830643334054166,-54.82759594301254,-54.83069870568533,-54.83259746472103,-54.83330239046643,-54.833163322770005,-54.83134338682088,-54.82869840494122,-54.83415517603374,-54.840721560553305,-54.846082337602795,-54.850247526529216,-54.85322705159546,-54.85503074304915,-54.855668338177395,-54.85560860019437,-54.85368626569444,-54.85118056202568,-54.8475804933583,-54.84285995506183,-54.83702815955875,-54.8300942332192,-54.83055394590922,-54.83515607318002,-54.837687688994926,-54.83816557044341,-54.840996347388554,-54.84415404037003,-54.84503260199907,-54.846242389720864,-54.844803810123295,-54.84064746657194,-54.83379512496813,-54.8281768174763,-54.82186094433138,-54.82749954542296,-54.83439455028609,-54.84075176607617,-54.846010859416694,-54.85018044363638,-54.85326905487045,-54.855285152880306,-54.85623712186304,-54.856685742323485,-54.860588857104155,-54.86319742311803,-54.86452148304962,-54.864570990716125,-54.863355811998716,-54.860885725762486,-54.85717042476513,-54.85221951655457,-54.84604252435555,-54.83864888794564,-54.83004796452038,-54.82024902954818,-54.82572014825008,-54.83156128965717,-54.83838103425294,-54.843330141792826,-54.84642274225597,-54.84983929454671,-54.853194351205445,-54.858362606718345,-54.862178228298106,-54.863507973866874,-54.862370451954945,-54.858784112410575,-54.856954524121946,-54.85352814359091,-54.84818249607273,-54.84093185649006,-54.83179037904051,-54.8296959181061,-54.83272767457014,-54.83393175010632,-54.833983005081706,-54.83754831931347,-54.843346832682286,-54.84827601397882,-54.85202729096959,-54.85460921241957,-54.8560302562786,-54.856298830376346,-54.855423273109196,-54.85341185411935,-54.85478077807821,-54.85664439086588,-54.85757324146539,-54.857574026896735,-54.85665338947254,-54.854817917327246,-54.852074144940445,-54.84842855365429,-54.84388757218504,-54.83845757712889,-54.83607917473671,-54.844763677295774,-54.85225027007136,-54.85785278153551,-54.861584445911724,-54.863458391385805,-54.86348764111221,-54.8616851142091,-54.85806362674249,-54.85263589269943,-54.84541452495047,-54.83641203620162,-54.825640839935716,-54.82755181005352,-54.83465674163846,-54.84085262621036,-54.84614569699122,-54.850542138349546,-54.85404808625408,-54.85666962872264,-54.85841280626609,-54.85928361232753,-54.85928799371665,-54.858431851039555,-54.85958697588243,-54.86062295071377,-54.860053349848734,-54.85788903834437,-54.8541407975184,-54.84881932571342,-54.842798464643366,-54.83958059492009,-54.838045140835874,-54.83494925533118,-54.831404979616025,-54.83010370592441,-54.827981345693345,-54.825043365783394,-54.82811618383437,-54.83742078307135,-54.845188826525956,-54.85143042952596,-54.85615563135236,-54.85937439591671,-54.86109661243158,-54.861332096073866,-54.86009058864136,-54.85738175920241,-54.85321520473889,-54.847600450782636,-54.841711881724905,-54.8395470960285,-54.83634340374132,-54.83210755098991,-54.82684623406541,-54.82056609985928,-54.82077963300286,-54.82600929775113,-54.83269267853764,-54.841128393528095,-54.8480583610785,-54.85349218296017,-54.85743939104561,-54.85990944791149,-54.860911747435416,-54.86045561538673,-54.85855031001135,-54.85520502261078,-54.85042887811529,-54.84441959024492,-54.842305267995826,-54.83982123101924,-54.83642260761138,-54.832115148502055,-54.82690456328,-54.82079652074138,-54.81379664923476,-54.81227252645368,-54.821763715331215,-54.83212134515462,-54.841527538943865,-54.849372099657685,-54.85566466184263,-54.860414792181984,-54.86363199006214,-54.865325688133424,-54.8655052528655,-54.86417998509733,-54.86217642295647,-54.85927550083399,-54.855056131734095,-54.84952637974304,-54.842694252828366,-54.834883892269325,-54.83780789664894,-54.840002589630835,-54.84147237629371,-54.84222163134971,-54.84225469939234,-54.84157589514225,-54.84018950369041,-54.839910566958224,-54.839626909905064,-54.83899592774071,-54.83801970143078,-54.840815207627344,-54.84419377236202,-54.84685577605111,-54.84880547141944,-54.850047082388954,-54.85139245261503,-54.85355085844483,-54.85439600677641,-54.853935650847255,-54.85217749173025,-54.84912917874943,-54.84479830989172,-54.83919243221497,-54.83364297403762,-54.82882196871702,-54.82333460660668,-54.82850810824472,-54.833489659889175,-54.83721358955181,-54.83968719446685,-54.840917723573796,-54.84509451957307,-54.848375490658434,-54.850272351552505,-54.85079308299573,-54.84994561327443,-54.847737818629284,-54.84674388883343,-54.84556793994089,-54.843190448605235,-54.839618295328336,-54.83485831575338,-54.828917301011096,-54.82277717296219,-54.827123440362605,-54.83287936463529,-54.83739384165261,-54.840673883653324,-54.84272645767207,-54.84355848588469,-54.843176845950374,-54.845491086663685,-54.848219386665896,-54.85157496834504,-54.85413989274172,-54.855918575569085,-54.85691540439531,-54.8571347388561,-54.85658091086548,-54.85525822482461,-54.853170957828716,-54.85032335987233,-54.84671965405265,-54.84236403677109,-54.8372606779332,-54.83141372114664,-54.82646058124705,-54.82988302113153,-54.832476673666726,-54.834246081848754,-54.83519576026299,-54.835330195294596,-54.83465384533718,-54.833602794299935,-54.836541930691766,-54.83946595632774,-54.84117345729521,-54.842420347233954,-54.84368824988859,-54.84343838375098,-54.8416789640924,-54.838418155526426,-54.83366407237878,-54.82742477905422,-54.81970829040014,-54.81217438492452,-54.814793550138106,-54.81762669320283,-54.81932687528605,-54.823295557881714,-54.82724447575497,-54.83058457716581,-54.83331909294189,-54.836883810226865,-54.839788144782695,-54.84196656022262,-54.84342289166781,-54.844160951118354,-54.844184527618445,-54.84356808588534,-54.84518932749073,-54.846225104711756,-54.8466784878684,-54.84655252891348,-54.84585026156276,-54.844574701424186,-54.84343743158806,-54.84312262314038,-54.842526329019606,-54.84165001626518,-54.84049514321033,-54.839063159543244,-54.83735550636766,-54.835373616263226,-54.83311891334506,-54.83267751016913,-54.837652219638294,-54.84145560649006,-54.84409368879458,-54.845572449350094,-54.8458978359279,-54.84544384163003,-54.84665560730884,-54.84684317597665,-54.84601177897714,-54.844166617208145,-54.8413128613314,-54.83745565198086,-54.834305609498784,-54.83609416024397,-54.83732501895132,-54.838001004698285,-54.838124920310364,-54.83769955247212,-54.836727671837366,-54.83521203313832,-54.83315537529404,-54.83056042151792,-54.82941547036259,-54.83110696058949,-54.83284420278831,-54.83403878888564,-54.83469342220399,-54.83481079070144,-54.83439356707511,-54.833444408863826,-54.83196595854999,-54.82996084366064,-54.827431676867704,-54.82438105608745,-54.82737542246967,-54.82986971816216,-54.831393682372656,-54.83195594618509,-54.831549684031856,-54.83019118855603,-54.830286233608064,-54.8314953982509,-54.83188333127616,-54.83205276538013,-54.8309274008659,-54.82851355633841,-54.824817515279726,-54.821974154771226,-54.82436696290096,-54.829405568104164,-54.833461049840515,-54.836538157229356,-54.83953754250769,-54.8417128290422,-54.842960870250735,-54.84328612864002,-54.84269304222769,-54.84118602470147,-54.83876946557724,-54.83544773035584,-54.83122516067867,-54.827964896522566,-54.82692989692572,-54.82528655168218,-54.82733247723643,-54.83154172179293,-54.83508186820096,-54.83795608500095,-54.84016752360263,-54.84171931839483,-54.84261458685435,-54.84285642965417,-54.84259385445323,-54.84177329274933,-54.840053361214835,-54.83743829621468,-54.83437161949759,-54.83075709487811,-54.826510387716894,-54.82163446805325,-54.81613229006029,-54.816074918654245,-54.816781161968926,-54.81937501499233,-54.822983330254466,-54.82609908270247,-54.82872455065756,-54.83086200040157,-54.83251368625223,-54.83407360575935,-54.836271272382135,-54.83822713223166,-54.8399422958032,-54.84141786776408,-54.842654946989846,-54.84365462660035,-54.844417993995435,-54.844946130890406,-54.84524011335125,-54.845301011829676,-54.84512989119767,-54.84472781078211,-54.84409582439886,-54.84323498038684,-54.84214632164163,-54.84171263775805,-54.84126235075358,-54.84003995869989,-54.83804896102724,-54.83529283910028,-54.83177505632852,-54.834849923591534,-54.838190026578744,-54.84057720148476,-54.842015730215806,-54.84250987273536,-54.84206386719741,-54.84068193007881,-54.8383682563105,-54.83512701940806,-54.83096237160117,-54.8258784439621,-54.81987934653353,-54.81675078764053,-54.81663987179026,-54.82044667755668,-54.8237906139116,-54.82667372550833,-54.82909804668293,-54.8310656015159,-54.83257840389341,-54.8336384575682,-54.835078908799396,-54.83596308343864,-54.83600807678045,-54.83705258475042,-54.83786214709439,-54.838104499681364,-54.838602028557816,-54.83856133703455,-54.83798477587488,-54.83687468413759,-54.835233389246056,-54.833063207056696,-54.83036644192713,-54.827145386783904,-54.823402323189484,-54.82564897885095,-54.82858008386045,-54.830933161982,-54.83271070702919,-54.834339229926734,-54.83641354193159,-54.83797783800161,-54.839398382416775,-54.843107127625125,-54.8459597638722,-54.84795995865666,-54.84911136155307,-54.849417604315704,-54.84888230098163,-54.84750904797315,-54.84656514784157,-54.84512277099028,-54.84291160464858,-54.83993492329298,-54.83619598551792,-54.8316980341269,-54.82644429622328,-54.82043798330016,-54.82272660501566,-54.82643586111145,-54.830798273981245,-54.834640921467766,-54.83796598491186,-54.840775635194596,-54.843072032796705,-54.84485732785762,-54.84613366023423,-54.84777598844421,-54.84900127230188,-54.84947986208215,-54.849214876007174,-54.84820941745309,-54.84646657503375,-54.843989422683954,-54.841622130188945,-54.83924352612215,-54.836374645525744,-54.83301752630652,-54.829174196730904,-54.82484667547884,-54.820410307034436,-54.81787341356993,-54.814910485457325,-54.814074631210275,-54.813703970308715,-54.813136265477766,-54.81762146924201,-54.824179658840215,-54.829901081233835,-54.83478915498364,-54.83884728270209,-54.84207885114156,-54.844487231281896,-54.846075778417585,-54.84684783224412,-54.84680671694404,-54.84595574127226,-54.84429819864093,-54.84183736720372,-54.83857650993958,-54.834827953193,-54.831378261264824,-54.82709715653631,-54.82381460972173,-54.82821692258494,-54.83190669080016,-54.83485439502011,-54.83706301552958,-54.83853551895604,-54.84078495539951,-54.84289174986418,-54.84460528811941,-54.84592714122514,-54.84685887307866,-54.84740204045325,-54.84755819303675,-54.84732887346974,-54.84671561738348,-54.84571995343767,-54.844343403357996,-54.84258748197329,-54.840453697252656,-54.837943550342224,-54.835058535601696,-54.83434714792793,-54.83423114041153,-54.833929312079334,-54.83344239615541,-54.83277112256749,-54.83191621796462,-54.83087840573455,-54.82965840602108,-54.829789648958666,-54.833054426395776,-54.83554609757223,-54.83726768395302,-54.83822219353327,-54.83841262090937,-54.837841947349666,-54.83651314086485,-54.8344291562777,-54.83159293529258,-54.82800740656443,-54.82604545764687,-54.82610099159988,-54.82838508195886,-54.830297295324485,-54.83183906568948,-54.83301182073281,-54.83381698185269,-54.83425596419928,-54.83433017670731,-54.834041022128396,-54.833389897063185,-54.83237819199336,-54.83100729131336,-54.82927857336199,-54.82719341045381,-54.82475316891029,-54.82396543908263,-54.824123328256675,-54.8238434980174,-54.82312761648459,-54.821977344531604,-54.82039433582257,-54.82002035084692,-54.82024120316609,-54.82474187785189,-54.82881583254587,-54.83246467702405,-54.83569001412325,-54.83849343977651,-54.840876543048395,-54.84284090617004,-54.84438810457394,-54.84551970692861,-54.846237275172996,-54.8465423645507,-54.84643652364396,-54.84592129440751,-54.84499821220216,-54.8436688058282,-54.84193459755862,-54.839797103172124,-54.83725783198598,-54.8343182868886,-54.830979964372,-54.82761499973895,-54.825387927551446,-54.82319726948225,-54.82526673545659,-54.8269121707026,-54.82813514338288,-54.82893721504124,-54.82931994063575,-54.82928486857166,-54.8288335407342,-54.82796749252104,-54.82668825287466,-54.82499734431454,-54.824116049549026,-54.82294673246957,-54.821439747686405,-54.81959633618588,-54.817417733761765,-54.81490517104097,-54.81205987350912,-54.811615658450336,-54.81275407300565,-54.81574878233107,-54.820032297827666,-54.82362009156418,-54.826514690391754,-54.82871861068769,-54.830234358406834,-54.83106442913282,-54.83121130812887,-54.83067747038846,-54.82946538068547,-54.82930487477237,-54.83117032841293,-54.832868886154316,-54.83440114731082,-54.83576770873708,-54.83696916484003,-54.838006107590815,-54.838879126536625,-54.84033367898659,-54.84163046520301,-54.84238110811822,-54.8425875620305,-54.84225177326442,-54.84137568020934,-54.84044941095578,-54.840031976137894,-54.83945581628127,-54.838721497329885,-54.83782958292946,-54.83678063443875,-54.83557521094042,-54.83421386925193,-54.83269716393654,-54.83102564731399,-54.82928637767064,-54.82779240513911,-54.82857635645859,-54.830118002649215,-54.831074133782266,-54.83144681133478,-54.831238088506936,-54.830450010261416,-54.82908461336251,-54.82714392641513,-54.82462996990355,-54.82154475622984,-54.81789028975226,-54.813668566823296,-54.80918332709951,-54.80781397421718,-54.806134022940164,-54.808676016600515,-54.811903614651584,-54.814810161583026,-54.817396769914104,-54.819664547759764,-54.821614598851184,-54.82324802255646,-54.82456591390097,-54.82556936358773,-54.82655321631758,-54.82806737202738,-54.828996478775196,-54.82934255414046,-54.829107607768734,-54.82829364140875,-54.82690264894916,-54.8275627770047,-54.82903054200065,-54.83082787013655,-54.83232804728606,-54.83326579833818,-54.83466637456068,-54.8358923540072,-54.836715658431274,-54.83713766186793,-54.83715973300497,-54.836783235207655,-54.83600952654322,-54.83483995980526,-54.83327588253802,-54.83131863706049,-54.830364482873506,-54.83252597674333,-54.83414069098591,-54.83521047457517,-54.83573716935198,-54.835722610056784,-54.8351686243621,-54.83407703290472,-54.83244964931786,-54.83092377322496,-54.82952219161305,-54.82776158583585,-54.825643163933776,-54.823548160988985,-54.82387111049084,-54.82380484896619,-54.82335068000903,-54.82250990223645,-54.82128380931116,-54.81967368996394,-54.81981765717854,-54.82091304924845,-54.82147141531984,-54.82149454272566,-54.82098421201608,-54.821971853015796,-54.824866054460664,-54.82720771500635,-54.8289986635334,-54.830240722014096,-54.83093570554345,-54.83108542236994,-54.83069167392609,-54.82975625485902,-54.82882016128359,-54.82840952114047,-54.82771207452704,-54.826728765614966,-54.825460535033706,-54.82431491109284,-54.82481740113121,-54.82479657152465,-54.82425413754762,-54.82319180806565,-54.821611285563776,-54.81951426617465,-54.816902439706794,-54.81440513792485,-54.815071571395364,-54.81585074199346,-54.81648890165228,-54.81698650841184,-54.81734401861428,-54.81756188691133,-54.81764056627167,-54.81758050798837,-54.817382161686226,-54.818969989054175,-54.82119993458634,-54.823144259542815,-54.82480388429564,-54.826179725830755,-54.82727269776267,-54.82808371034926,-54.82861367050635,-54.828863481822225,-54.828834044572176,-54.828526255732804,-54.82794100899643,-54.82953652561084,-54.8314949684129,-54.83294449691117,-54.833886738060265,-54.83432331288262,-54.83510147586395,-54.83579015466573,-54.835934925916426,-54.835537523246494,-54.83459967398813,-54.83312309920236,-54.83110951370606,-54.82856062609876,-54.826688867158126,-54.826146309249474,-54.82509350279739,-54.823532064694064,-54.821463605994,-54.82130764917301,-54.8224037658386,-54.82336468152502,-54.82419082153869,-54.824882609658346,-54.82544046814156,-54.825864817731244,-54.82615607766204,-54.826314665666786,-54.82634099798285,-54.826235489358496,-54.82599855305918,-54.82563060087386,-54.82513204312121,-54.8245032886559,-54.82601326244624,-54.82704374545621,-54.82752862473984,-54.82746960076254,-54.82686836794758,-54.825726614701594,-54.824046023439834,-54.821828270611405,-54.82210333431698,-54.82383856386846,-54.82530779023254,-54.82651183531587,-54.827451518125784,-54.828127654782264,-54.82854105853012,-54.82869253975093,-54.82858290597505,-54.82821296189341,-54.827583509369475,-54.826695347450894,-54.825549272381316,-54.824146077612,-54.82248655381343,-54.82057148888685,-54.818401667975806,-54.81833518788764,-54.821125230793825,-54.823602490242884,-54.82573659356353,-54.827528586903654,-54.828979512770424,-54.830090410045344,-54.8308623139992,-54.83129625630691,-54.83139326506242,-54.83115436479328,-54.83058057647543,-54.829672917547796,-54.82849425816634,-54.826972947192296,-54.82552002810446,-54.82617855933084,-54.826616666858975,-54.82674550696484,-54.826566013189904,-54.82607911586226,-54.82528574210969,-54.82418681587267,-54.824297711303394,-54.82532225408778,-54.82589174498423,-54.826007550361645,-54.825671031910105,-54.825183222452026,-54.82631801475747,-54.82878317095759,-54.8307504212194,-54.83222125342949,-54.833197150402334,-54.83367958990091,-54.83367004465696,-54.83316998239137,-54.83218086583433,-54.83070415274551,-54.82874129593401,-54.82629374327829,-54.82336293774604,-54.819950317413856,-54.816737163630435,-54.81553790082789,-54.814688816868845,-54.8152388351952,-54.816075171036935,-54.816450582598776,-54.81636643055062,-54.815824070981975,-54.81482485542026,-54.8134408234481,-54.81469130327012,-54.81569656596042,-54.81645733117767,-54.81697431617006,-54.81867601379232,-54.820763909909715,-54.82240673675267,-54.82360579663262,-54.824362387513396,-54.82467780302836,-54.82455333249755,-54.82399026094477,-54.82298986911448,-54.82171385243658,-54.82214556964607,-54.82233728296616,-54.82228969032566,-54.822003487338655,-54.821479367313536,-54.82071802126207,-54.82016781489835,-54.820278687677316,-54.82027232487761,-54.820149065962894,-54.819909249276236,-54.81955321204449,-54.819100867684554,-54.818782369922616,-54.820033830317094,-54.82199484511297,-54.82432301449269,-54.826199331835625,-54.827640681473554,-54.828682882407065,-54.8292940792863,-54.829475509246386,-54.82922840537363,-54.83036206737511,-54.83144369092712,-54.83228916060909,-54.83289915119369,-54.83327433525394,-54.83341538317171,-54.83332296314618,-54.83299774120232,-54.83244038119922,-54.83165154483843,-54.830631891672326,-54.82938207911233,-54.82790276243715,-54.82619459480103,-54.82425822724181,-54.82349962607093,-54.82461997527106,-54.8259439661645,-54.826795900718984,-54.827177113551414,-54.82708893497592,-54.82653269102033,-54.825509703442485,-54.82467458285453,-54.82522857321861,-54.82566946302073,-54.825997570147976,-54.82621321146803,-54.82631670283303,-54.82630835908341,-54.82618849405178,-54.82680887099167,-54.82741365129698,-54.82779182296996,-54.82794401947508,-54.82787087225691,-54.82757301074757,-54.82705106237446,-54.826305652567775,-54.825337404768064,-54.82414694043372,-54.822734879048426,-54.82110183812864,-54.82103706637113,-54.82129378458259,-54.82114328748866,-54.820586705275545,-54.81962516455364,-54.818259788370966,-54.81649169622655,-54.814322004083635,-54.81175182438296,-54.80878226605596,-54.806142709539095,-54.805730972396546,-54.80734245847901,-54.80872991210907,-54.80989394916072,-54.810835183575385,-54.81155422736926,-54.812147943233924,-54.81485456074681,-54.817144403334865,-54.819018612379104,-54.82047832569326,-54.82152467753711,-54.82215879862955,-54.822381816161766,-54.822194853810224,-54.8215990317497,-54.821953973834,-54.82306181676172,-54.82373913635112,-54.82398710530109,-54.82417244336669,-54.82465315431943,-54.824880454824694,-54.82485503328188,-54.82457757595817,-54.82404876699647,-54.8232692884231,-54.82223982015562,-54.82096104001053,-54.81943362371098,-54.81765824489442,-54.815635575120204,-54.81375497969087,-54.81329562409492,-54.813132213016104,-54.81390890676117,-54.814424885365526,-54.81468084974391,-54.81467749866153,-54.815393806295134,-54.81679005758399,-54.81797233217907,-54.81894120273689,-54.81969724016438,-54.82024101362533,-54.82202757831486,-54.82374064988594,-54.82506671792103,-54.82600681518884,-54.82656197131383,-54.8267332127876,-54.82652156298021]}},\"id\":\"e2fa586e-f07c-4043-a651-0b4a6abbda85\",\"type\":\"ColumnDataSource\"},{\"attributes\":{\"line_color\":{\"value\":\"#1f77b4\"},\"x\":{\"field\":\"x\"},\"y\":{\"field\":\"y\"}},\"id\":\"468aa172-33d4-488c-a872-06a6ecf71dca\",\"type\":\"Line\"},{\"attributes\":{\"line_alpha\":{\"value\":0.1},\"line_color\":{\"value\":\"#1f77b4\"},\"x\":{\"field\":\"x\"},\"y\":{\"field\":\"y\"}},\"id\":\"36136e0d-4eef-4fc6-9f49-936fa7e1883f\",\"type\":\"Line\"},{\"attributes\":{},\"id\":\"acfabcd5-c91d-4848-9e92-721664e4710f\",\"type\":\"PanTool\"},{\"attributes\":{},\"id\":\"5d5215c3-2d06-4423-9e4b-e731ba11ee98\",\"type\":\"ResetTool\"},{\"attributes\":{\"dimension\":1,\"plot\":{\"id\":\"9f488915-bf9d-46d1-aa73-b1b18dd953ed\",\"subtype\":\"Figure\",\"type\":\"Plot\"},\"ticker\":{\"id\":\"54c9e0a1-d9c8-4798-a906-a17077fcbd39\",\"type\":\"BasicTicker\"}},\"id\":\"3f882b60-95fc-441b-a3e5-66010c9a2b36\",\"type\":\"Grid\"},{\"attributes\":{},\"id\":\"e990cb01-4d71-43f8-b7de-ab3ba38eb896\",\"type\":\"WheelZoomTool\"},{\"attributes\":{\"label\":{\"value\":\"DSA, gamma=1.0\"},\"renderers\":[{\"id\":\"9adbd37c-2504-47bb-a1f6-88e31b8f477f\",\"type\":\"GlyphRenderer\"}]},\"id\":\"5f8d3ea8-d2a3-4144-8636-da149b90749c\",\"type\":\"LegendItem\"},{\"attributes\":{\"source\":{\"id\":\"e2fa586e-f07c-4043-a651-0b4a6abbda85\",\"type\":\"ColumnDataSource\"}},\"id\":\"39034a6a-ddfd-4da2-ac3e-f51906a2f569\",\"type\":\"CDSView\"},{\"attributes\":{},\"id\":\"a98e3246-ed61-4039-ad3b-1a9d6005808b\",\"type\":\"HelpTool\"},{\"attributes\":{\"line_alpha\":{\"value\":0.1},\"line_color\":{\"value\":\"#1f77b4\"},\"x\":{\"field\":\"x\"},\"y\":{\"field\":\"y\"}},\"id\":\"97476981-ed52-4707-a624-1b2bc0862fba\",\"type\":\"Line\"},{\"attributes\":{\"line_color\":{\"value\":\"red\"},\"x\":{\"field\":\"x\"},\"y\":{\"field\":\"y\"}},\"id\":\"1254c156-8043-4892-a5a6-9c4d0ad88654\",\"type\":\"Line\"},{\"attributes\":{\"active_drag\":\"auto\",\"active_inspect\":\"auto\",\"active_scroll\":\"auto\",\"active_tap\":\"auto\",\"tools\":[{\"id\":\"acfabcd5-c91d-4848-9e92-721664e4710f\",\"type\":\"PanTool\"},{\"id\":\"e990cb01-4d71-43f8-b7de-ab3ba38eb896\",\"type\":\"WheelZoomTool\"},{\"id\":\"ea0f7876-5e46-4eea-b9e0-5a1d54e8df3a\",\"type\":\"BoxZoomTool\"},{\"id\":\"896c3e54-a567-4e5d-951e-0f8574dec33e\",\"type\":\"SaveTool\"},{\"id\":\"5d5215c3-2d06-4423-9e4b-e731ba11ee98\",\"type\":\"ResetTool\"},{\"id\":\"a98e3246-ed61-4039-ad3b-1a9d6005808b\",\"type\":\"HelpTool\"}]},\"id\":\"5a63ce74-70c2-4751-bc64-30e2c79a2902\",\"type\":\"Toolbar\"}],\"root_ids\":[\"9f488915-bf9d-46d1-aa73-b1b18dd953ed\"]},\"title\":\"Bokeh Application\",\"version\":\"0.12.7\"}};\n",
       "            var render_items = [{\"docid\":\"4ef5e0e5-d265-4499-8f49-7d9e646ce8a3\",\"elementid\":\"4e32c906-d897-47e1-9ffc-34d6fee517a9\",\"modelid\":\"9f488915-bf9d-46d1-aa73-b1b18dd953ed\"}];\n",
       "            \n",
       "            Bokeh.embed.embed_items(docs_json, render_items);\n",
       "          };\n",
       "          if (document.readyState != \"loading\") fn();\n",
       "          else document.addEventListener(\"DOMContentLoaded\", fn);\n",
       "        })();\n",
       "      },\n",
       "      function(Bokeh) {\n",
       "      }\n",
       "    ];\n",
       "  \n",
       "    function run_inline_js() {\n",
       "      \n",
       "      if ((root.Bokeh !== undefined) || (force === true)) {\n",
       "        for (var i = 0; i < inline_js.length; i++) {\n",
       "          inline_js[i].call(root, root.Bokeh);\n",
       "        }if (force === true) {\n",
       "          display_loaded();\n",
       "        }} else if (Date.now() < root._bokeh_timeout) {\n",
       "        setTimeout(run_inline_js, 100);\n",
       "      } else if (!root._bokeh_failed_load) {\n",
       "        console.log(\"Bokeh: BokehJS failed to load within specified timeout.\");\n",
       "        root._bokeh_failed_load = true;\n",
       "      } else if (force !== true) {\n",
       "        var cell = $(document.getElementById(\"4e32c906-d897-47e1-9ffc-34d6fee517a9\")).parents('.cell').data().cell;\n",
       "        cell.output_area.append_execute_result(NB_LOAD_WARNING)\n",
       "      }\n",
       "  \n",
       "    }\n",
       "  \n",
       "    if (root._bokeh_is_loading === 0) {\n",
       "      console.log(\"Bokeh: BokehJS loaded, going straight to plotting\");\n",
       "      run_inline_js();\n",
       "    } else {\n",
       "      load_libs(js_urls, function() {\n",
       "        console.log(\"Bokeh: BokehJS plotting callback run at\", now());\n",
       "        run_inline_js();\n",
       "      });\n",
       "    }\n",
       "  }(window));\n",
       "</script>"
      ]
     },
     "metadata": {},
     "output_type": "display_data"
    }
   ],
   "source": [
    "p.legend.location = \"bottom_right\"\n",
    "show(p)"
   ]
  },
  {
   "cell_type": "code",
   "execution_count": null,
   "metadata": {
    "collapsed": true
   },
   "outputs": [],
   "source": []
  }
 ],
 "metadata": {
  "kernelspec": {
   "display_name": "nsopy-stoch",
   "language": "python",
   "name": "nsopy-stoch"
  },
  "language_info": {
   "codemirror_mode": {
    "name": "ipython",
    "version": 2
   },
   "file_extension": ".py",
   "mimetype": "text/x-python",
   "name": "python",
   "nbconvert_exporter": "python",
   "pygments_lexer": "ipython2",
   "version": "2.7.12"
  }
 },
 "nbformat": 4,
 "nbformat_minor": 2
}
